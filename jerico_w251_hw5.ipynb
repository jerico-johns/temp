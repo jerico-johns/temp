{
 "cells": [
  {
   "cell_type": "code",
   "execution_count": 1,
   "id": "f36974c4",
   "metadata": {},
   "outputs": [],
   "source": [
    "import os\n",
    "import random\n",
    "import shutil\n",
    "import time\n",
    "import warnings\n",
    "\n",
    "import torch\n",
    "import torch.nn as nn\n",
    "import torch.backends.cudnn as cudnn\n",
    "import torch.optim\n",
    "\n",
    "import torch.utils.data\n",
    "import torchvision\n",
    "import torchvision.transforms as transforms\n",
    "import torchvision.datasets as datasets\n",
    "import torchvision.models as models"
   ]
  },
  {
   "cell_type": "code",
   "execution_count": 2,
   "id": "c13bf9e6",
   "metadata": {},
   "outputs": [],
   "source": [
    "#Set random seed so we get consistent results. \n",
    "SEED=1"
   ]
  },
  {
   "cell_type": "code",
   "execution_count": 3,
   "id": "d6846099",
   "metadata": {},
   "outputs": [],
   "source": [
    "random.seed(SEED)\n",
    "torch.manual_seed(SEED)\n",
    "cudnn.deterministic = True"
   ]
  },
  {
   "cell_type": "code",
   "execution_count": 4,
   "id": "2fe34ab3",
   "metadata": {},
   "outputs": [],
   "source": [
    "START_EPOCH = 0"
   ]
  },
  {
   "cell_type": "markdown",
   "id": "29bb07fc",
   "metadata": {},
   "source": [
    "### Set the architecture to resnet 18 below"
   ]
  },
  {
   "cell_type": "code",
   "execution_count": 5,
   "id": "bb48c414",
   "metadata": {},
   "outputs": [],
   "source": [
    "##########################\n",
    "#Set torch architecture to resnet18\n",
    "#ResNet-18 is a convolutional neural network that is 18 layers deep. \n",
    "#You can load a pretrained version of the network trained on more than a million images from the ImageNet database [1]. \n",
    "#The pretrained network can classify images into 1000 object categories, such as keyboard, mouse, pencil, and many animals. \n",
    "#As a result, the network has learned rich feature representations for a wide range of images. \n",
    "#The network has an image input size of 224-by-224. \n",
    "\n",
    "#See here for original paper which provides implementations research team used: https://arxiv.org/pdf/1512.03385.pdf\n",
    "ARCH  = 'resnet18'\n",
    "# please look up how to do that\n",
    "########################\n",
    "#Set our hyperparams \n",
    "#Outer training loop input: How many passes through entire training set we make. If batch size = training size, then epoch = iterations. \n",
    "EPOCHS = 50\n",
    "#Optimizer input: how much to change the model in response to the estimated error each time the model weights are updated\n",
    "LR = 0.1\n",
    "#Optimizer input: momentum is method which helps accelerate gradients vectors in the right directions, thus leading to faster convergence to local/global minima. \n",
    "MOMENTUM = 0.9\n",
    "#Optimizer input: Weight decay is a regularization technique by adding a small penalty, usually the L2 norm of the weights (all the weights of the model), to the loss function. \n",
    "#loss = loss + weight decay parameter * L2 norm of the weights. \n",
    "WEIGHT_DECAY = 0.0001\n",
    "PRINT_FREQ = 256\n",
    "#Batch size for training / validation loss calcs. \n",
    "TRAIN_BATCH=256\n",
    "VAL_BATCH=256\n",
    "#Setting the argument num_workers as a positive integer will turn on multi-process data loading with the specified number of loader worker processes.\n",
    "#For CUDA: we recommend using automatic memory pinning (i.e., setting pin_memory=True), which enables fast data transfer to CUDA-enabled GPUs.\n",
    "WORKERS=4\n",
    "\n",
    "#TODO: Ensure these tie to the VM directories (volume mount for Docker container)\n",
    "TRAINDIR =\"/workspace/storage/train\"\n",
    "VALDIR = \"/workspace/storage/val\""
   ]
  },
  {
   "cell_type": "markdown",
   "id": "e3e662c5",
   "metadata": {},
   "source": [
    "### Check if cuda is available here"
   ]
  },
  {
   "cell_type": "code",
   "execution_count": 6,
   "id": "70ab7fc7",
   "metadata": {},
   "outputs": [],
   "source": [
    "# check if cuda is available in this cell\n",
    "# if it is not available, you should not go forward!\n",
    "if not torch.cuda.is_available():\n",
    "    print('GPU not detected.. did you pass through your GPU?')"
   ]
  },
  {
   "cell_type": "markdown",
   "id": "17b68c5a",
   "metadata": {},
   "source": [
    "### Assign your GPU below"
   ]
  },
  {
   "cell_type": "code",
   "execution_count": 7,
   "id": "9f0babda",
   "metadata": {},
   "outputs": [],
   "source": [
    "# Assign your GPU in this cell(they are zero indexed)\n",
    "GPU = 0"
   ]
  },
  {
   "cell_type": "code",
   "execution_count": 8,
   "id": "9703d0cc",
   "metadata": {},
   "outputs": [],
   "source": [
    "# set your active device to your GPU in this cell\n",
    "torch.cuda.set_device(GPU)"
   ]
  },
  {
   "cell_type": "code",
   "execution_count": 9,
   "id": "5d72cc9b",
   "metadata": {},
   "outputs": [],
   "source": [
    "# enable algorithm optimization\n",
    "#benchmark mode is good whenever your input sizes for your network do not vary. This way, cudnn will look for the optimal set of algorithms for that particular configuration (hardware + input) (which takes some time). This usually leads to faster runtime.\n",
    "#But if your input sizes changes at each iteration, then cudnn will benchmark every time a new size appears, possibly leading to worse runtime performances.\n",
    "cudnn.benchmark = True"
   ]
  },
  {
   "cell_type": "markdown",
   "id": "a27c17b9",
   "metadata": {},
   "source": [
    "### Fill in the heart of the train section below"
   ]
  },
  {
   "cell_type": "code",
   "execution_count": 10,
   "id": "92d79c0a",
   "metadata": {},
   "outputs": [],
   "source": [
    "def train(train_loader, model, criterion, optimizer, epoch):\n",
    "    #AverageMeter: Computes and stores the average and current value.\n",
    "    batch_time = AverageMeter('Time', ':6.3f')\n",
    "    data_time = AverageMeter('Data', ':6.3f')\n",
    "    losses = AverageMeter('Loss', ':.4e')\n",
    "    top1 = AverageMeter('Acc@1', ':6.2f')\n",
    "    top5 = AverageMeter('Acc@5', ':6.2f')\n",
    "    #Show ProgressMeter\n",
    "    progress = ProgressMeter(\n",
    "        len(train_loader),\n",
    "        [batch_time, data_time, losses, top1, top5],\n",
    "        prefix=\"Epoch: [{}]\".format(epoch))\n",
    "\n",
    "    ######################\n",
    "    # switch model to train mode here\n",
    "    model.train()\n",
    "    ################\n",
    "\n",
    "    end = time.time()\n",
    "    for i, (images, target) in enumerate(train_loader):\n",
    "        # measure data loading time\n",
    "        data_time.update(time.time() - end)\n",
    "\n",
    "        #####################\n",
    "        # send the images to cuda device\n",
    "        # send the target to cuda device\n",
    "        if GPU is not None:\n",
    "            images = images.cuda(GPU, non_blocking=True)\n",
    "        if torch.cuda.is_available():\n",
    "            target = target.cuda(GPU, non_blocking=True)\n",
    "\n",
    "\n",
    "        # compute output\n",
    "        output = model(images)\n",
    "        # output = model ?? images\n",
    "        \n",
    "\n",
    "        # compute loss \n",
    "        # loss = criterion, output, target\n",
    "        loss = criterion(output, target)\n",
    "\n",
    "\n",
    "        # measure accuracy and record loss\n",
    "        #topk accuracy counts a model as being accurate if the correct result is in the top n predicted class probabilities (i.e. may not be the prediction)\n",
    "        acc1, acc5 = accuracy(output, target, topk=(1, 5))\n",
    "        #Use AverageMeter().update to update the averages \n",
    "        losses.update(loss.item(), images.size(0))\n",
    "        top1.update(acc1[0], images.size(0))\n",
    "        top5.update(acc5[0], images.size(0))\n",
    "\n",
    "        # compute gradient and do SGD step\n",
    "        #First need to zero out gradient to prevent \"exploding gradient\" problem. \n",
    "        #Default is to sum or accumulate losses on backward passes (loss.backward()) bc it's convient for RNN. \n",
    "        optimizer.zero_grad()\n",
    "        #Backprop: Computes gradient (dloss/dx) for every parameter x which has requires_grad = True. These are accumulated into x.grad for every parameter x. \n",
    "        #x.grad += dloss/dx   -->  x += -lr * x.grad\n",
    "        loss.backward()\n",
    "        #Update paremeters (weights) based on previous step\n",
    "        optimizer.step()\n",
    "    \n",
    "        # measure elapsed time\n",
    "        batch_time.update(time.time() - end)\n",
    "        end = time.time()\n",
    "\n",
    "        if i % PRINT_FREQ == 0:\n",
    "            progress.display(i)"
   ]
  },
  {
   "cell_type": "markdown",
   "id": "41a278a2",
   "metadata": {},
   "source": [
    "#### Fill in the validate section below"
   ]
  },
  {
   "cell_type": "code",
   "execution_count": 11,
   "id": "1284d6e3",
   "metadata": {},
   "outputs": [],
   "source": [
    "def validate(val_loader, model, criterion):\n",
    "    batch_time = AverageMeter('Time', ':6.3f')\n",
    "    losses = AverageMeter('Loss', ':.4e')\n",
    "    top1 = AverageMeter('Acc@1', ':6.2f')\n",
    "    top5 = AverageMeter('Acc@5', ':6.2f')\n",
    "    progress = ProgressMeter(\n",
    "        len(val_loader),\n",
    "        [batch_time, losses, top1, top5],\n",
    "        prefix='Test: ')\n",
    "\n",
    "    # switch to evaluate mode\n",
    "    model.eval()\n",
    "\n",
    "    with torch.no_grad():\n",
    "        end = time.time()\n",
    "        for i, (images, target) in enumerate(val_loader):\n",
    "            \n",
    "            \n",
    "            ### send the images and target to cuda\n",
    "            if GPU is not None:\n",
    "                images = images.cuda(GPU, non_blocking=True)\n",
    "            if torch.cuda.is_available():\n",
    "                target = target.cuda(GPU, non_blocking=True)\n",
    "\n",
    "\n",
    "            # compute output\n",
    "            # output = model ??? images?\n",
    "            output = model(images)\n",
    "\n",
    "            # compute loss\n",
    "            # loss  = criterion ?? output ?? target\n",
    "            loss = criterion(output, target)\n",
    "\n",
    "\n",
    "            # measure accuracy and record loss\n",
    "            acc1, acc5 = accuracy(output, target, topk=(1, 5))\n",
    "            losses.update(loss.item(), images.size(0))\n",
    "            top1.update(acc1[0], images.size(0))\n",
    "            top5.update(acc5[0], images.size(0))\n",
    "\n",
    "            # measure elapsed time\n",
    "            batch_time.update(time.time() - end)\n",
    "            end = time.time()\n",
    "\n",
    "            if i % PRINT_FREQ == 0:\n",
    "                progress.display(i)\n",
    "\n",
    "        # TODO: this should also be done with the ProgressMeter\n",
    "        print(' * Acc@1 {top1.avg:.3f} Acc@5 {top5.avg:.3f}'\n",
    "              .format(top1=top1, top5=top5))\n",
    "\n",
    "    return top1.avg"
   ]
  },
  {
   "cell_type": "markdown",
   "id": "db0e9de7",
   "metadata": {},
   "source": [
    "### Save the checkpoint"
   ]
  },
  {
   "cell_type": "code",
   "execution_count": 12,
   "id": "b94c053d",
   "metadata": {},
   "outputs": [],
   "source": [
    "def save_checkpoint(state, is_best, filename='checkpoint.pth.tar'):\n",
    "    # save the model state!\n",
    "    # state ??? \n",
    "    torch.save(state, filename)\n",
    "    if is_best:\n",
    "        shutil.copyfile(filename, 'model_best.pth.tar')"
   ]
  },
  {
   "cell_type": "code",
   "execution_count": 13,
   "id": "769cf042",
   "metadata": {},
   "outputs": [],
   "source": [
    "class AverageMeter(object):\n",
    "    \"\"\"Computes and stores the average and current value\"\"\"\n",
    "    def __init__(self, name, fmt=':f'):\n",
    "        self.name = name\n",
    "        self.fmt = fmt\n",
    "        self.reset()\n",
    "\n",
    "    def reset(self):\n",
    "        self.val = 0\n",
    "        self.avg = 0\n",
    "        self.sum = 0\n",
    "        self.count = 0\n",
    "\n",
    "    def update(self, val, n=1):\n",
    "        self.val = val\n",
    "        self.sum += val * n\n",
    "        self.count += n\n",
    "        self.avg = self.sum / self.count\n",
    "\n",
    "    def __str__(self):\n",
    "        fmtstr = '{name} {val' + self.fmt + '} ({avg' + self.fmt + '})'\n",
    "        return fmtstr.format(**self.__dict__)"
   ]
  },
  {
   "cell_type": "code",
   "execution_count": 14,
   "id": "c0624508",
   "metadata": {},
   "outputs": [],
   "source": [
    "class ProgressMeter(object):\n",
    "    def __init__(self, num_batches, meters, prefix=\"\"):\n",
    "        self.batch_fmtstr = self._get_batch_fmtstr(num_batches)\n",
    "        self.meters = meters\n",
    "        self.prefix = prefix\n",
    "\n",
    "    def display(self, batch):\n",
    "        entries = [self.prefix + self.batch_fmtstr.format(batch)]\n",
    "        entries += [str(meter) for meter in self.meters]\n",
    "        print('\\t'.join(entries))\n",
    "\n",
    "    def _get_batch_fmtstr(self, num_batches):\n",
    "        num_digits = len(str(num_batches // 1))\n",
    "        fmt = '{:' + str(num_digits) + 'd}'\n",
    "        return '[' + fmt + '/' + fmt.format(num_batches) + ']'"
   ]
  },
  {
   "cell_type": "code",
   "execution_count": 15,
   "id": "9a186164",
   "metadata": {},
   "outputs": [],
   "source": [
    "# if we are adjusting the LR manually use this\n",
    "def adjust_learning_rate(optimizer, epoch):\n",
    "    \"\"\"Sets the learning rate to the initial LR decayed by 10 every 30 epochs\"\"\"\n",
    "    #Adjusting learning drop from 30 to 20 \n",
    "    lr = LR * (0.1 ** (epoch // 20))\n",
    "    for param_group in optimizer.param_groups:\n",
    "        param_group['lr'] = lr"
   ]
  },
  {
   "cell_type": "code",
   "execution_count": 16,
   "id": "34f70463",
   "metadata": {},
   "outputs": [],
   "source": [
    "def accuracy(output, target, topk=(1,)):\n",
    "    \"\"\"Computes the accuracy over the k top predictions for the specified values of k\"\"\"\n",
    "    with torch.no_grad():\n",
    "        maxk = max(topk)\n",
    "        batch_size = target.size(0)\n",
    "\n",
    "        _, pred = output.topk(maxk, 1, True, True)\n",
    "        pred = pred.t()\n",
    "        correct = pred.eq(target.view(1, -1).expand_as(pred))\n",
    "\n",
    "        res = []\n",
    "        for k in topk:\n",
    "            correct_k = correct[:k].reshape(-1).float().sum(0, keepdim=True)\n",
    "            res.append(correct_k.mul_(100.0 / batch_size))\n",
    "        return res"
   ]
  },
  {
   "cell_type": "code",
   "execution_count": 17,
   "id": "2074a0d0",
   "metadata": {},
   "outputs": [],
   "source": [
    "imagenet_mean_RGB = [0.47889522, 0.47227842, 0.43047404]\n",
    "imagenet_std_RGB = [0.229, 0.224, 0.225]\n",
    "cinic_mean_RGB = [0.47889522, 0.47227842, 0.43047404]\n",
    "cinic_std_RGB = [0.24205776, 0.23828046, 0.25874835]\n",
    "cifar_mean_RGB = [0.4914, 0.4822, 0.4465]\n",
    "cifar_std_RGB = [0.2023, 0.1994, 0.2010]\n",
    "#Adjusting resnet normalizations here\n",
    "resnet_mean_RGB = [0.485, 0.456, 0.406]\n",
    "resnet_std_RGB = [0.229, 0.224, 0.225]"
   ]
  },
  {
   "cell_type": "code",
   "execution_count": 18,
   "id": "91b93f5e",
   "metadata": {},
   "outputs": [],
   "source": [
    "#Adjusting transforms with updated normalizations here (for Resnet18)\n",
    "#Link: https://pytorch.org/vision/stable/models.html\n",
    "normalize = transforms.Normalize(mean=resnet_mean_RGB, std=resnet_std_RGB)"
   ]
  },
  {
   "cell_type": "code",
   "execution_count": 19,
   "id": "5fba13bc",
   "metadata": {},
   "outputs": [],
   "source": [
    "#TODO: Determine which IMG_SIZE we need\n",
    "#IMG_SIZE = 32\n",
    "IMG_SIZE = 224"
   ]
  },
  {
   "cell_type": "markdown",
   "id": "c6c40632",
   "metadata": {},
   "source": [
    "### Initialize the model using the architecture you selected above"
   ]
  },
  {
   "cell_type": "code",
   "execution_count": 20,
   "id": "f8dae64d",
   "metadata": {},
   "outputs": [],
   "source": [
    "# select the model\n",
    "# model = ... \n",
    "#TODO: Determine how many classes we need \n",
    "NUM_CLASSES = 1000\n",
    "\n",
    "model = models.__dict__[ARCH]()\n",
    "\n",
    "model.fc = nn.Linear(model.fc.in_features, NUM_CLASSES)"
   ]
  },
  {
   "cell_type": "code",
   "execution_count": 21,
   "id": "fdc82bed",
   "metadata": {},
   "outputs": [
    {
     "data": {
      "text/plain": [
       "ResNet(\n",
       "  (conv1): Conv2d(3, 64, kernel_size=(7, 7), stride=(2, 2), padding=(3, 3), bias=False)\n",
       "  (bn1): BatchNorm2d(64, eps=1e-05, momentum=0.1, affine=True, track_running_stats=True)\n",
       "  (relu): ReLU(inplace=True)\n",
       "  (maxpool): MaxPool2d(kernel_size=3, stride=2, padding=1, dilation=1, ceil_mode=False)\n",
       "  (layer1): Sequential(\n",
       "    (0): BasicBlock(\n",
       "      (conv1): Conv2d(64, 64, kernel_size=(3, 3), stride=(1, 1), padding=(1, 1), bias=False)\n",
       "      (bn1): BatchNorm2d(64, eps=1e-05, momentum=0.1, affine=True, track_running_stats=True)\n",
       "      (relu): ReLU(inplace=True)\n",
       "      (conv2): Conv2d(64, 64, kernel_size=(3, 3), stride=(1, 1), padding=(1, 1), bias=False)\n",
       "      (bn2): BatchNorm2d(64, eps=1e-05, momentum=0.1, affine=True, track_running_stats=True)\n",
       "    )\n",
       "    (1): BasicBlock(\n",
       "      (conv1): Conv2d(64, 64, kernel_size=(3, 3), stride=(1, 1), padding=(1, 1), bias=False)\n",
       "      (bn1): BatchNorm2d(64, eps=1e-05, momentum=0.1, affine=True, track_running_stats=True)\n",
       "      (relu): ReLU(inplace=True)\n",
       "      (conv2): Conv2d(64, 64, kernel_size=(3, 3), stride=(1, 1), padding=(1, 1), bias=False)\n",
       "      (bn2): BatchNorm2d(64, eps=1e-05, momentum=0.1, affine=True, track_running_stats=True)\n",
       "    )\n",
       "  )\n",
       "  (layer2): Sequential(\n",
       "    (0): BasicBlock(\n",
       "      (conv1): Conv2d(64, 128, kernel_size=(3, 3), stride=(2, 2), padding=(1, 1), bias=False)\n",
       "      (bn1): BatchNorm2d(128, eps=1e-05, momentum=0.1, affine=True, track_running_stats=True)\n",
       "      (relu): ReLU(inplace=True)\n",
       "      (conv2): Conv2d(128, 128, kernel_size=(3, 3), stride=(1, 1), padding=(1, 1), bias=False)\n",
       "      (bn2): BatchNorm2d(128, eps=1e-05, momentum=0.1, affine=True, track_running_stats=True)\n",
       "      (downsample): Sequential(\n",
       "        (0): Conv2d(64, 128, kernel_size=(1, 1), stride=(2, 2), bias=False)\n",
       "        (1): BatchNorm2d(128, eps=1e-05, momentum=0.1, affine=True, track_running_stats=True)\n",
       "      )\n",
       "    )\n",
       "    (1): BasicBlock(\n",
       "      (conv1): Conv2d(128, 128, kernel_size=(3, 3), stride=(1, 1), padding=(1, 1), bias=False)\n",
       "      (bn1): BatchNorm2d(128, eps=1e-05, momentum=0.1, affine=True, track_running_stats=True)\n",
       "      (relu): ReLU(inplace=True)\n",
       "      (conv2): Conv2d(128, 128, kernel_size=(3, 3), stride=(1, 1), padding=(1, 1), bias=False)\n",
       "      (bn2): BatchNorm2d(128, eps=1e-05, momentum=0.1, affine=True, track_running_stats=True)\n",
       "    )\n",
       "  )\n",
       "  (layer3): Sequential(\n",
       "    (0): BasicBlock(\n",
       "      (conv1): Conv2d(128, 256, kernel_size=(3, 3), stride=(2, 2), padding=(1, 1), bias=False)\n",
       "      (bn1): BatchNorm2d(256, eps=1e-05, momentum=0.1, affine=True, track_running_stats=True)\n",
       "      (relu): ReLU(inplace=True)\n",
       "      (conv2): Conv2d(256, 256, kernel_size=(3, 3), stride=(1, 1), padding=(1, 1), bias=False)\n",
       "      (bn2): BatchNorm2d(256, eps=1e-05, momentum=0.1, affine=True, track_running_stats=True)\n",
       "      (downsample): Sequential(\n",
       "        (0): Conv2d(128, 256, kernel_size=(1, 1), stride=(2, 2), bias=False)\n",
       "        (1): BatchNorm2d(256, eps=1e-05, momentum=0.1, affine=True, track_running_stats=True)\n",
       "      )\n",
       "    )\n",
       "    (1): BasicBlock(\n",
       "      (conv1): Conv2d(256, 256, kernel_size=(3, 3), stride=(1, 1), padding=(1, 1), bias=False)\n",
       "      (bn1): BatchNorm2d(256, eps=1e-05, momentum=0.1, affine=True, track_running_stats=True)\n",
       "      (relu): ReLU(inplace=True)\n",
       "      (conv2): Conv2d(256, 256, kernel_size=(3, 3), stride=(1, 1), padding=(1, 1), bias=False)\n",
       "      (bn2): BatchNorm2d(256, eps=1e-05, momentum=0.1, affine=True, track_running_stats=True)\n",
       "    )\n",
       "  )\n",
       "  (layer4): Sequential(\n",
       "    (0): BasicBlock(\n",
       "      (conv1): Conv2d(256, 512, kernel_size=(3, 3), stride=(2, 2), padding=(1, 1), bias=False)\n",
       "      (bn1): BatchNorm2d(512, eps=1e-05, momentum=0.1, affine=True, track_running_stats=True)\n",
       "      (relu): ReLU(inplace=True)\n",
       "      (conv2): Conv2d(512, 512, kernel_size=(3, 3), stride=(1, 1), padding=(1, 1), bias=False)\n",
       "      (bn2): BatchNorm2d(512, eps=1e-05, momentum=0.1, affine=True, track_running_stats=True)\n",
       "      (downsample): Sequential(\n",
       "        (0): Conv2d(256, 512, kernel_size=(1, 1), stride=(2, 2), bias=False)\n",
       "        (1): BatchNorm2d(512, eps=1e-05, momentum=0.1, affine=True, track_running_stats=True)\n",
       "      )\n",
       "    )\n",
       "    (1): BasicBlock(\n",
       "      (conv1): Conv2d(512, 512, kernel_size=(3, 3), stride=(1, 1), padding=(1, 1), bias=False)\n",
       "      (bn1): BatchNorm2d(512, eps=1e-05, momentum=0.1, affine=True, track_running_stats=True)\n",
       "      (relu): ReLU(inplace=True)\n",
       "      (conv2): Conv2d(512, 512, kernel_size=(3, 3), stride=(1, 1), padding=(1, 1), bias=False)\n",
       "      (bn2): BatchNorm2d(512, eps=1e-05, momentum=0.1, affine=True, track_running_stats=True)\n",
       "    )\n",
       "  )\n",
       "  (avgpool): AdaptiveAvgPool2d(output_size=(1, 1))\n",
       "  (fc): Linear(in_features=512, out_features=1000, bias=True)\n",
       ")"
      ]
     },
     "execution_count": 21,
     "metadata": {},
     "output_type": "execute_result"
    }
   ],
   "source": [
    "# send the model to the cuda device.. \n",
    "model.cuda(GPU)"
   ]
  },
  {
   "cell_type": "markdown",
   "id": "89cbcf7d",
   "metadata": {},
   "source": [
    "### Instantiate the loss to cross entropy"
   ]
  },
  {
   "cell_type": "code",
   "execution_count": 22,
   "id": "baff6a4d",
   "metadata": {},
   "outputs": [],
   "source": [
    "# use the cross-entropy loss\n",
    "criterion = nn.CrossEntropyLoss().cuda(GPU)"
   ]
  },
  {
   "cell_type": "markdown",
   "id": "40db6c57",
   "metadata": {},
   "source": [
    "### Instantiate the optimizer to SGD"
   ]
  },
  {
   "cell_type": "code",
   "execution_count": 23,
   "id": "c78fb0bd",
   "metadata": {},
   "outputs": [],
   "source": [
    "# use SGD .. use the momentum and weight decay vars\n",
    "optimizer = torch.optim.SGD(model.parameters(), LR,\n",
    "                                momentum=MOMENTUM,\n",
    "                                weight_decay=WEIGHT_DECAY)"
   ]
  },
  {
   "cell_type": "markdown",
   "id": "c51ca86e",
   "metadata": {},
   "source": [
    "#### Create the learning rate scheduler"
   ]
  },
  {
   "cell_type": "code",
   "execution_count": 24,
   "id": "6242672f",
   "metadata": {},
   "outputs": [],
   "source": [
    "# https://pytorch.org/docs/stable/optim.html\n",
    "scheduler = torch.optim.lr_scheduler.CosineAnnealingLR(optimizer, T_max=EPOCHS)"
   ]
  },
  {
   "cell_type": "code",
   "execution_count": 25,
   "id": "6727c266",
   "metadata": {},
   "outputs": [],
   "source": [
    "#See here for these steps: https://pytorch.org/tutorials/beginner/transfer_learning_tutorial.html\n",
    "transform_train = transforms.Compose([\n",
    "    #Adjusting crop call and size\n",
    "    transforms.RandomResizedCrop(224),\n",
    "    transforms.RandomHorizontalFlip(),\n",
    "    transforms.ToTensor(),\n",
    "    transforms.Normalize(resnet_mean_RGB, resnet_std_RGB),\n",
    "])"
   ]
  },
  {
   "cell_type": "markdown",
   "id": "650242eb",
   "metadata": {},
   "source": [
    "### Create the train dataset object"
   ]
  },
  {
   "cell_type": "code",
   "execution_count": 26,
   "id": "84e546f8",
   "metadata": {},
   "outputs": [],
   "source": [
    "#https://stackoverflow.com/questions/49073799/pytorch-testing-with-torchvision-datasets-imagefolder-and-dataloader\n",
    "train_dataset = torchvision.datasets.ImageFolder(\n",
    "    root=TRAINDIR, transform=transform_train)"
   ]
  },
  {
   "cell_type": "code",
   "execution_count": 27,
   "id": "f95e3922",
   "metadata": {},
   "outputs": [],
   "source": [
    "transform_val = transforms.Compose([\n",
    "    transforms.Resize(256),\n",
    "    transforms.CenterCrop(224),\n",
    "    transforms.ToTensor(),\n",
    "    transforms.Normalize(resnet_mean_RGB, resnet_std_RGB),\n",
    "])"
   ]
  },
  {
   "cell_type": "code",
   "execution_count": 28,
   "id": "0d27293e",
   "metadata": {},
   "outputs": [],
   "source": [
    "val_dataset = torchvision.datasets.ImageFolder(\n",
    "    root=VALDIR, transform=transform_val)"
   ]
  },
  {
   "cell_type": "markdown",
   "id": "ba4812ef",
   "metadata": {},
   "source": [
    "### Create the train dataloader"
   ]
  },
  {
   "cell_type": "code",
   "execution_count": 29,
   "id": "e1017778",
   "metadata": {},
   "outputs": [],
   "source": [
    "# fill this in\n",
    "train_loader = torch.utils.data.DataLoader(\n",
    "        train_dataset, batch_size=TRAIN_BATCH, shuffle=True,\n",
    "        num_workers=WORKERS, pin_memory=True, sampler=None)"
   ]
  },
  {
   "cell_type": "markdown",
   "id": "38b91651",
   "metadata": {},
   "source": [
    "### Create the c"
   ]
  },
  {
   "cell_type": "code",
   "execution_count": 30,
   "id": "857b1fda",
   "metadata": {},
   "outputs": [],
   "source": [
    "# fill this in..\n",
    "val_loader = torch.utils.data.DataLoader(\n",
    "        val_dataset, batch_size=VAL_BATCH, shuffle=False,\n",
    "        num_workers=WORKERS, pin_memory=True, sampler=None) "
   ]
  },
  {
   "cell_type": "code",
   "execution_count": 31,
   "id": "be0ec904",
   "metadata": {},
   "outputs": [],
   "source": [
    "best_acc1 = 0"
   ]
  },
  {
   "cell_type": "code",
   "execution_count": 32,
   "id": "dd56dd93",
   "metadata": {},
   "outputs": [
    {
     "name": "stdout",
     "output_type": "stream",
     "text": [
      "Epoch: [0][   0/5005]\tTime 10.889 (10.889)\tData  2.076 ( 2.076)\tLoss 6.9955e+00 (6.9955e+00)\tAcc@1   0.00 (  0.00)\tAcc@5   0.00 (  0.00)\n",
      "Epoch: [0][ 256/5005]\tTime  0.694 ( 0.740)\tData  0.000 ( 0.008)\tLoss 6.4472e+00 (6.7404e+00)\tAcc@1   1.17 (  0.55)\tAcc@5   3.52 (  2.17)\n",
      "Epoch: [0][ 512/5005]\tTime  0.766 ( 0.726)\tData  0.000 ( 0.005)\tLoss 6.0694e+00 (6.4966e+00)\tAcc@1   2.73 (  1.01)\tAcc@5   7.42 (  3.81)\n",
      "Epoch: [0][ 768/5005]\tTime  0.694 ( 0.720)\tData  0.000 ( 0.004)\tLoss 5.7823e+00 (6.3083e+00)\tAcc@1   5.47 (  1.54)\tAcc@5  14.06 (  5.51)\n"
     ]
    },
    {
     "name": "stderr",
     "output_type": "stream",
     "text": [
      "/opt/conda/lib/python3.8/site-packages/PIL/TiffImagePlugin.py:788: UserWarning: Corrupt EXIF data.  Expecting to read 4 bytes but only got 0. \n",
      "  warnings.warn(str(msg))\n"
     ]
    },
    {
     "name": "stdout",
     "output_type": "stream",
     "text": [
      "Epoch: [0][1024/5005]\tTime  0.698 ( 0.713)\tData  0.000 ( 0.004)\tLoss 5.5849e+00 (6.1499e+00)\tAcc@1   3.52 (  2.10)\tAcc@5  14.06 (  7.23)\n",
      "Epoch: [0][1280/5005]\tTime  0.712 ( 0.711)\tData  0.000 ( 0.003)\tLoss 5.4369e+00 (6.0155e+00)\tAcc@1   7.03 (  2.68)\tAcc@5  16.41 (  8.88)\n",
      "Epoch: [0][1536/5005]\tTime  0.698 ( 0.712)\tData  0.000 ( 0.003)\tLoss 5.2308e+00 (5.8952e+00)\tAcc@1   7.81 (  3.31)\tAcc@5  20.70 ( 10.51)\n",
      "Epoch: [0][1792/5005]\tTime  0.753 ( 0.713)\tData  0.000 ( 0.003)\tLoss 5.1421e+00 (5.7876e+00)\tAcc@1   8.59 (  3.93)\tAcc@5  24.61 ( 12.02)\n",
      "Epoch: [0][2048/5005]\tTime  0.715 ( 0.713)\tData  0.000 ( 0.003)\tLoss 5.0145e+00 (5.6875e+00)\tAcc@1   8.98 (  4.61)\tAcc@5  22.66 ( 13.54)\n",
      "Epoch: [0][2304/5005]\tTime  0.706 ( 0.714)\tData  0.000 ( 0.003)\tLoss 4.6706e+00 (5.5938e+00)\tAcc@1  12.50 (  5.26)\tAcc@5  30.86 ( 15.01)\n",
      "Epoch: [0][2560/5005]\tTime  0.727 ( 0.714)\tData  0.000 ( 0.003)\tLoss 4.8868e+00 (5.5050e+00)\tAcc@1  11.72 (  5.93)\tAcc@5  24.61 ( 16.41)\n",
      "Epoch: [0][2816/5005]\tTime  0.710 ( 0.714)\tData  0.000 ( 0.003)\tLoss 4.4602e+00 (5.4227e+00)\tAcc@1  12.50 (  6.58)\tAcc@5  35.16 ( 17.74)\n",
      "Epoch: [0][3072/5005]\tTime  0.755 ( 0.715)\tData  0.000 ( 0.003)\tLoss 4.2313e+00 (5.3449e+00)\tAcc@1  16.80 (  7.25)\tAcc@5  40.23 ( 19.06)\n",
      "Epoch: [0][3328/5005]\tTime  0.696 ( 0.714)\tData  0.000 ( 0.003)\tLoss 4.4131e+00 (5.2719e+00)\tAcc@1  19.14 (  7.91)\tAcc@5  35.94 ( 20.29)\n",
      "Epoch: [0][3584/5005]\tTime  0.696 ( 0.713)\tData  0.000 ( 0.002)\tLoss 4.3642e+00 (5.2027e+00)\tAcc@1  16.80 (  8.54)\tAcc@5  35.94 ( 21.49)\n",
      "Epoch: [0][3840/5005]\tTime  0.727 ( 0.712)\tData  0.000 ( 0.002)\tLoss 4.0786e+00 (5.1361e+00)\tAcc@1  21.48 (  9.17)\tAcc@5  42.19 ( 22.65)\n",
      "Epoch: [0][4096/5005]\tTime  0.706 ( 0.713)\tData  0.000 ( 0.002)\tLoss 3.9111e+00 (5.0728e+00)\tAcc@1  18.75 (  9.78)\tAcc@5  45.31 ( 23.76)\n",
      "Epoch: [0][4352/5005]\tTime  0.728 ( 0.714)\tData  0.000 ( 0.002)\tLoss 3.9659e+00 (5.0135e+00)\tAcc@1  21.48 ( 10.38)\tAcc@5  43.36 ( 24.80)\n",
      "Epoch: [0][4608/5005]\tTime  0.712 ( 0.713)\tData  0.000 ( 0.002)\tLoss 3.8572e+00 (4.9569e+00)\tAcc@1  21.48 ( 10.95)\tAcc@5  49.61 ( 25.81)\n",
      "Epoch: [0][4864/5005]\tTime  0.700 ( 0.714)\tData  0.000 ( 0.002)\tLoss 3.9687e+00 (4.9031e+00)\tAcc@1  19.53 ( 11.52)\tAcc@5  42.58 ( 26.76)\n",
      "Test: [  0/196]\tTime  2.237 ( 2.237)\tLoss 2.2325e+00 (2.2325e+00)\tAcc@1  46.88 ( 46.88)\tAcc@5  78.12 ( 78.12)\n",
      " * Acc@1 22.354 Acc@5 45.834\n",
      "lr: [0.1]\n",
      "Epoch: [1][   0/5005]\tTime  2.264 ( 2.264)\tData  1.953 ( 1.953)\tLoss 3.7751e+00 (3.7751e+00)\tAcc@1  19.92 ( 19.92)\tAcc@5  44.92 ( 44.92)\n",
      "Epoch: [1][ 256/5005]\tTime  0.710 ( 0.715)\tData  0.000 ( 0.010)\tLoss 3.7492e+00 (3.8208e+00)\tAcc@1  21.48 ( 22.98)\tAcc@5  46.48 ( 46.21)\n",
      "Epoch: [1][ 512/5005]\tTime  0.705 ( 0.719)\tData  0.000 ( 0.006)\tLoss 3.8192e+00 (3.7839e+00)\tAcc@1  25.39 ( 23.55)\tAcc@5  47.66 ( 46.90)\n",
      "Epoch: [1][ 768/5005]\tTime  0.717 ( 0.714)\tData  0.000 ( 0.005)\tLoss 3.4385e+00 (3.7680e+00)\tAcc@1  27.34 ( 23.80)\tAcc@5  54.30 ( 47.27)\n",
      "Epoch: [1][1024/5005]\tTime  0.704 ( 0.716)\tData  0.000 ( 0.004)\tLoss 3.5893e+00 (3.7473e+00)\tAcc@1  25.39 ( 24.17)\tAcc@5  50.00 ( 47.66)\n",
      "Epoch: [1][1280/5005]\tTime  0.744 ( 0.715)\tData  0.000 ( 0.004)\tLoss 3.6116e+00 (3.7268e+00)\tAcc@1  23.05 ( 24.53)\tAcc@5  51.95 ( 48.04)\n",
      "Epoch: [1][1536/5005]\tTime  0.713 ( 0.714)\tData  0.000 ( 0.003)\tLoss 3.5161e+00 (3.7043e+00)\tAcc@1  25.78 ( 24.88)\tAcc@5  53.12 ( 48.44)\n",
      "Epoch: [1][1792/5005]\tTime  0.704 ( 0.716)\tData  0.000 ( 0.003)\tLoss 3.7424e+00 (3.6826e+00)\tAcc@1  27.34 ( 25.22)\tAcc@5  49.22 ( 48.83)\n",
      "Epoch: [1][2048/5005]\tTime  0.721 ( 0.714)\tData  0.000 ( 0.003)\tLoss 3.3954e+00 (3.6637e+00)\tAcc@1  27.34 ( 25.51)\tAcc@5  54.30 ( 49.21)\n",
      "Epoch: [1][2304/5005]\tTime  0.705 ( 0.715)\tData  0.000 ( 0.003)\tLoss 3.3743e+00 (3.6458e+00)\tAcc@1  30.47 ( 25.79)\tAcc@5  55.86 ( 49.57)\n",
      "Epoch: [1][2560/5005]\tTime  0.751 ( 0.715)\tData  0.000 ( 0.003)\tLoss 3.5849e+00 (3.6296e+00)\tAcc@1  28.52 ( 26.02)\tAcc@5  48.83 ( 49.90)\n",
      "Epoch: [1][2816/5005]\tTime  0.713 ( 0.714)\tData  0.000 ( 0.003)\tLoss 3.3869e+00 (3.6117e+00)\tAcc@1  27.73 ( 26.30)\tAcc@5  58.59 ( 50.21)\n"
     ]
    },
    {
     "name": "stderr",
     "output_type": "stream",
     "text": [
      "/opt/conda/lib/python3.8/site-packages/PIL/TiffImagePlugin.py:788: UserWarning: Corrupt EXIF data.  Expecting to read 4 bytes but only got 0. \n",
      "  warnings.warn(str(msg))\n"
     ]
    },
    {
     "name": "stdout",
     "output_type": "stream",
     "text": [
      "Epoch: [1][3072/5005]\tTime  0.699 ( 0.715)\tData  0.000 ( 0.003)\tLoss 3.4354e+00 (3.5948e+00)\tAcc@1  30.08 ( 26.57)\tAcc@5  55.08 ( 50.55)\n",
      "Epoch: [1][3328/5005]\tTime  0.689 ( 0.714)\tData  0.000 ( 0.003)\tLoss 3.6926e+00 (3.5786e+00)\tAcc@1  25.39 ( 26.82)\tAcc@5  48.44 ( 50.85)\n",
      "Epoch: [1][3584/5005]\tTime  0.693 ( 0.712)\tData  0.000 ( 0.003)\tLoss 3.4115e+00 (3.5632e+00)\tAcc@1  32.42 ( 27.07)\tAcc@5  54.69 ( 51.13)\n",
      "Epoch: [1][3840/5005]\tTime  0.750 ( 0.713)\tData  0.000 ( 0.003)\tLoss 3.5594e+00 (3.5470e+00)\tAcc@1  27.34 ( 27.32)\tAcc@5  54.69 ( 51.44)\n",
      "Epoch: [1][4096/5005]\tTime  0.709 ( 0.712)\tData  0.000 ( 0.003)\tLoss 3.3165e+00 (3.5314e+00)\tAcc@1  32.03 ( 27.56)\tAcc@5  57.81 ( 51.74)\n",
      "Epoch: [1][4352/5005]\tTime  0.699 ( 0.713)\tData  0.000 ( 0.002)\tLoss 3.2977e+00 (3.5169e+00)\tAcc@1  33.59 ( 27.80)\tAcc@5  60.16 ( 52.01)\n",
      "Epoch: [1][4608/5005]\tTime  0.735 ( 0.712)\tData  0.000 ( 0.002)\tLoss 3.2709e+00 (3.5024e+00)\tAcc@1  32.03 ( 28.02)\tAcc@5  51.95 ( 52.28)\n",
      "Epoch: [1][4864/5005]\tTime  0.705 ( 0.713)\tData  0.000 ( 0.002)\tLoss 3.2905e+00 (3.4888e+00)\tAcc@1  32.42 ( 28.25)\tAcc@5  56.64 ( 52.54)\n",
      "Test: [  0/196]\tTime  2.272 ( 2.272)\tLoss 1.9151e+00 (1.9151e+00)\tAcc@1  50.39 ( 50.39)\tAcc@5  82.81 ( 82.81)\n",
      " * Acc@1 31.000 Acc@5 57.192\n",
      "lr: [0.1]\n",
      "Epoch: [2][   0/5005]\tTime  2.000 ( 2.000)\tData  1.703 ( 1.703)\tLoss 3.1663e+00 (3.1663e+00)\tAcc@1  28.91 ( 28.91)\tAcc@5  57.42 ( 57.42)\n",
      "Epoch: [2][ 256/5005]\tTime  0.714 ( 0.708)\tData  0.000 ( 0.009)\tLoss 3.0627e+00 (3.1912e+00)\tAcc@1  37.11 ( 32.84)\tAcc@5  59.38 ( 58.07)\n",
      "Epoch: [2][ 512/5005]\tTime  0.703 ( 0.716)\tData  0.000 ( 0.005)\tLoss 3.1209e+00 (3.1848e+00)\tAcc@1  34.77 ( 32.87)\tAcc@5  58.20 ( 58.00)\n",
      "Epoch: [2][ 768/5005]\tTime  0.749 ( 0.714)\tData  0.000 ( 0.004)\tLoss 3.1618e+00 (3.1685e+00)\tAcc@1  32.42 ( 33.24)\tAcc@5  57.81 ( 58.33)\n",
      "Epoch: [2][1024/5005]\tTime  0.705 ( 0.715)\tData  0.000 ( 0.004)\tLoss 3.0074e+00 (3.1635e+00)\tAcc@1  32.81 ( 33.38)\tAcc@5  62.11 ( 58.45)\n",
      "Epoch: [2][1280/5005]\tTime  0.711 ( 0.717)\tData  0.000 ( 0.003)\tLoss 3.1550e+00 (3.1584e+00)\tAcc@1  34.38 ( 33.50)\tAcc@5  57.81 ( 58.52)\n",
      "Epoch: [2][1536/5005]\tTime  0.724 ( 0.715)\tData  0.000 ( 0.003)\tLoss 3.0666e+00 (3.1520e+00)\tAcc@1  35.55 ( 33.61)\tAcc@5  60.94 ( 58.66)\n",
      "Epoch: [2][1792/5005]\tTime  0.703 ( 0.716)\tData  0.000 ( 0.003)\tLoss 2.9405e+00 (3.1431e+00)\tAcc@1  36.33 ( 33.77)\tAcc@5  63.28 ( 58.85)\n",
      "Epoch: [2][2048/5005]\tTime  0.752 ( 0.716)\tData  0.000 ( 0.003)\tLoss 3.0319e+00 (3.1383e+00)\tAcc@1  37.50 ( 33.89)\tAcc@5  59.77 ( 58.95)\n",
      "Epoch: [2][2304/5005]\tTime  0.705 ( 0.716)\tData  0.000 ( 0.003)\tLoss 2.9989e+00 (3.1320e+00)\tAcc@1  33.98 ( 34.02)\tAcc@5  59.38 ( 59.07)\n",
      "Epoch: [2][2560/5005]\tTime  0.704 ( 0.717)\tData  0.000 ( 0.003)\tLoss 3.2662e+00 (3.1250e+00)\tAcc@1  32.81 ( 34.13)\tAcc@5  57.42 ( 59.17)\n",
      "Epoch: [2][2816/5005]\tTime  0.727 ( 0.716)\tData  0.000 ( 0.003)\tLoss 3.3634e+00 (3.1196e+00)\tAcc@1  30.86 ( 34.21)\tAcc@5  54.30 ( 59.27)\n",
      "Epoch: [2][3072/5005]\tTime  0.700 ( 0.717)\tData  0.000 ( 0.003)\tLoss 3.1714e+00 (3.1128e+00)\tAcc@1  32.42 ( 34.30)\tAcc@5  60.55 ( 59.39)\n"
     ]
    },
    {
     "name": "stderr",
     "output_type": "stream",
     "text": [
      "/opt/conda/lib/python3.8/site-packages/PIL/TiffImagePlugin.py:788: UserWarning: Corrupt EXIF data.  Expecting to read 4 bytes but only got 0. \n",
      "  warnings.warn(str(msg))\n"
     ]
    },
    {
     "name": "stdout",
     "output_type": "stream",
     "text": [
      "Epoch: [2][3328/5005]\tTime  0.697 ( 0.715)\tData  0.000 ( 0.003)\tLoss 3.2235e+00 (3.1062e+00)\tAcc@1  33.20 ( 34.42)\tAcc@5  59.77 ( 59.52)\n",
      "Epoch: [2][3584/5005]\tTime  0.707 ( 0.714)\tData  0.000 ( 0.003)\tLoss 3.2568e+00 (3.1008e+00)\tAcc@1  31.64 ( 34.50)\tAcc@5  54.69 ( 59.62)\n",
      "Epoch: [2][3840/5005]\tTime  0.704 ( 0.715)\tData  0.000 ( 0.002)\tLoss 2.9308e+00 (3.0955e+00)\tAcc@1  35.94 ( 34.58)\tAcc@5  62.89 ( 59.73)\n",
      "Epoch: [2][4096/5005]\tTime  0.732 ( 0.714)\tData  0.000 ( 0.002)\tLoss 2.9943e+00 (3.0898e+00)\tAcc@1  34.77 ( 34.67)\tAcc@5  62.50 ( 59.83)\n",
      "Epoch: [2][4352/5005]\tTime  0.703 ( 0.715)\tData  0.000 ( 0.002)\tLoss 2.9659e+00 (3.0836e+00)\tAcc@1  37.11 ( 34.79)\tAcc@5  61.72 ( 59.94)\n",
      "Epoch: [2][4608/5005]\tTime  0.735 ( 0.715)\tData  0.000 ( 0.002)\tLoss 2.9023e+00 (3.0780e+00)\tAcc@1  37.50 ( 34.87)\tAcc@5  62.50 ( 60.04)\n",
      "Epoch: [2][4864/5005]\tTime  0.709 ( 0.715)\tData  0.000 ( 0.002)\tLoss 2.8158e+00 (3.0726e+00)\tAcc@1  42.97 ( 34.96)\tAcc@5  62.89 ( 60.13)\n",
      "Test: [  0/196]\tTime  2.329 ( 2.329)\tLoss 1.7138e+00 (1.7138e+00)\tAcc@1  58.59 ( 58.59)\tAcc@5  84.38 ( 84.38)\n",
      " * Acc@1 38.902 Acc@5 65.594\n",
      "lr: [0.1]\n",
      "Epoch: [3][   0/5005]\tTime  2.037 ( 2.037)\tData  1.719 ( 1.719)\tLoss 2.7016e+00 (2.7016e+00)\tAcc@1  41.41 ( 41.41)\tAcc@5  64.45 ( 64.45)\n",
      "Epoch: [3][ 256/5005]\tTime  0.723 ( 0.712)\tData  0.000 ( 0.009)\tLoss 2.8551e+00 (2.9019e+00)\tAcc@1  35.55 ( 37.87)\tAcc@5  61.72 ( 63.13)\n",
      "Epoch: [3][ 512/5005]\tTime  0.707 ( 0.714)\tData  0.000 ( 0.005)\tLoss 2.7209e+00 (2.8963e+00)\tAcc@1  42.19 ( 37.92)\tAcc@5  64.06 ( 63.23)\n",
      "Epoch: [3][ 768/5005]\tTime  0.726 ( 0.717)\tData  0.000 ( 0.004)\tLoss 2.9581e+00 (2.8992e+00)\tAcc@1  39.45 ( 37.81)\tAcc@5  59.38 ( 63.17)\n",
      "Epoch: [3][1024/5005]\tTime  0.718 ( 0.714)\tData  0.000 ( 0.004)\tLoss 2.8332e+00 (2.9024e+00)\tAcc@1  44.53 ( 37.77)\tAcc@5  61.72 ( 63.14)\n",
      "Epoch: [3][1280/5005]\tTime  0.700 ( 0.716)\tData  0.000 ( 0.003)\tLoss 2.9898e+00 (2.9022e+00)\tAcc@1  32.81 ( 37.77)\tAcc@5  62.89 ( 63.13)\n",
      "Epoch: [3][1536/5005]\tTime  0.740 ( 0.716)\tData  0.000 ( 0.003)\tLoss 2.8074e+00 (2.9033e+00)\tAcc@1  36.72 ( 37.74)\tAcc@5  67.97 ( 63.11)\n",
      "Epoch: [3][1792/5005]\tTime  0.707 ( 0.715)\tData  0.000 ( 0.003)\tLoss 2.9135e+00 (2.9009e+00)\tAcc@1  39.84 ( 37.80)\tAcc@5  64.84 ( 63.14)\n",
      "Epoch: [3][2048/5005]\tTime  0.710 ( 0.717)\tData  0.000 ( 0.003)\tLoss 2.7324e+00 (2.9008e+00)\tAcc@1  43.36 ( 37.82)\tAcc@5  63.28 ( 63.14)\n",
      "Epoch: [3][2304/5005]\tTime  0.724 ( 0.715)\tData  0.000 ( 0.003)\tLoss 2.8152e+00 (2.8993e+00)\tAcc@1  34.38 ( 37.86)\tAcc@5  68.75 ( 63.16)\n",
      "Epoch: [3][2560/5005]\tTime  0.702 ( 0.716)\tData  0.000 ( 0.003)\tLoss 2.6897e+00 (2.8984e+00)\tAcc@1  41.80 ( 37.89)\tAcc@5  66.02 ( 63.19)\n",
      "Epoch: [3][2816/5005]\tTime  0.751 ( 0.716)\tData  0.000 ( 0.003)\tLoss 2.9631e+00 (2.8961e+00)\tAcc@1  39.84 ( 37.96)\tAcc@5  60.55 ( 63.21)\n",
      "Epoch: [3][3072/5005]\tTime  0.693 ( 0.716)\tData  0.000 ( 0.003)\tLoss 2.9205e+00 (2.8929e+00)\tAcc@1  34.38 ( 38.02)\tAcc@5  62.89 ( 63.27)\n",
      "Epoch: [3][3328/5005]\tTime  0.695 ( 0.714)\tData  0.000 ( 0.003)\tLoss 3.0874e+00 (2.8903e+00)\tAcc@1  35.16 ( 38.07)\tAcc@5  57.42 ( 63.32)\n"
     ]
    },
    {
     "name": "stderr",
     "output_type": "stream",
     "text": [
      "/opt/conda/lib/python3.8/site-packages/PIL/TiffImagePlugin.py:788: UserWarning: Corrupt EXIF data.  Expecting to read 4 bytes but only got 0. \n",
      "  warnings.warn(str(msg))\n"
     ]
    },
    {
     "name": "stdout",
     "output_type": "stream",
     "text": [
      "Epoch: [3][3584/5005]\tTime  0.730 ( 0.713)\tData  0.000 ( 0.003)\tLoss 2.6605e+00 (2.8877e+00)\tAcc@1  40.62 ( 38.10)\tAcc@5  65.23 ( 63.36)\n",
      "Epoch: [3][3840/5005]\tTime  0.701 ( 0.714)\tData  0.000 ( 0.002)\tLoss 2.5719e+00 (2.8852e+00)\tAcc@1  42.97 ( 38.14)\tAcc@5  71.48 ( 63.42)\n",
      "Epoch: [3][4096/5005]\tTime  0.761 ( 0.714)\tData  0.000 ( 0.002)\tLoss 2.9758e+00 (2.8825e+00)\tAcc@1  36.33 ( 38.18)\tAcc@5  60.55 ( 63.47)\n",
      "Epoch: [3][4352/5005]\tTime  0.710 ( 0.714)\tData  0.000 ( 0.002)\tLoss 2.9810e+00 (2.8803e+00)\tAcc@1  37.11 ( 38.23)\tAcc@5  62.89 ( 63.51)\n",
      "Epoch: [3][4608/5005]\tTime  0.702 ( 0.715)\tData  0.000 ( 0.002)\tLoss 2.9570e+00 (2.8774e+00)\tAcc@1  36.72 ( 38.29)\tAcc@5  61.33 ( 63.55)\n",
      "Epoch: [3][4864/5005]\tTime  0.732 ( 0.714)\tData  0.000 ( 0.002)\tLoss 2.8755e+00 (2.8756e+00)\tAcc@1  39.45 ( 38.32)\tAcc@5  59.38 ( 63.58)\n",
      "Test: [  0/196]\tTime  2.315 ( 2.315)\tLoss 1.9850e+00 (1.9850e+00)\tAcc@1  58.20 ( 58.20)\tAcc@5  77.34 ( 77.34)\n",
      " * Acc@1 41.110 Acc@5 67.766\n",
      "lr: [0.1]\n",
      "Epoch: [4][   0/5005]\tTime  2.196 ( 2.196)\tData  1.878 ( 1.878)\tLoss 2.9451e+00 (2.9451e+00)\tAcc@1  40.62 ( 40.62)\tAcc@5  63.28 ( 63.28)\n",
      "Epoch: [4][ 256/5005]\tTime  0.722 ( 0.728)\tData  0.000 ( 0.009)\tLoss 2.6675e+00 (2.7678e+00)\tAcc@1  41.41 ( 40.10)\tAcc@5  68.36 ( 65.22)\n",
      "Epoch: [4][ 512/5005]\tTime  0.719 ( 0.718)\tData  0.000 ( 0.006)\tLoss 2.8915e+00 (2.7791e+00)\tAcc@1  38.28 ( 39.92)\tAcc@5  62.89 ( 65.05)\n",
      "Epoch: [4][ 768/5005]\tTime  0.699 ( 0.720)\tData  0.000 ( 0.004)\tLoss 2.6544e+00 (2.7790e+00)\tAcc@1  46.09 ( 39.94)\tAcc@5  66.41 ( 65.07)\n",
      "Epoch: [4][1024/5005]\tTime  0.745 ( 0.719)\tData  0.000 ( 0.004)\tLoss 2.8200e+00 (2.7804e+00)\tAcc@1  35.16 ( 39.93)\tAcc@5  63.67 ( 65.09)\n",
      "Epoch: [4][1280/5005]\tTime  0.705 ( 0.718)\tData  0.000 ( 0.004)\tLoss 2.8940e+00 (2.7798e+00)\tAcc@1  37.89 ( 39.95)\tAcc@5  60.55 ( 65.12)\n",
      "Epoch: [4][1536/5005]\tTime  0.713 ( 0.720)\tData  0.000 ( 0.003)\tLoss 2.9001e+00 (2.7797e+00)\tAcc@1  39.84 ( 39.95)\tAcc@5  62.11 ( 65.13)\n",
      "Epoch: [4][1792/5005]\tTime  0.724 ( 0.718)\tData  0.000 ( 0.003)\tLoss 2.7252e+00 (2.7788e+00)\tAcc@1  40.23 ( 39.98)\tAcc@5  67.97 ( 65.17)\n"
     ]
    },
    {
     "name": "stderr",
     "output_type": "stream",
     "text": [
      "/opt/conda/lib/python3.8/site-packages/PIL/TiffImagePlugin.py:788: UserWarning: Corrupt EXIF data.  Expecting to read 4 bytes but only got 0. \n",
      "  warnings.warn(str(msg))\n"
     ]
    },
    {
     "name": "stdout",
     "output_type": "stream",
     "text": [
      "Epoch: [4][2048/5005]\tTime  0.698 ( 0.719)\tData  0.000 ( 0.003)\tLoss 2.9670e+00 (2.7809e+00)\tAcc@1  36.72 ( 39.96)\tAcc@5  62.89 ( 65.15)\n",
      "Epoch: [4][2304/5005]\tTime  0.750 ( 0.719)\tData  0.000 ( 0.003)\tLoss 2.6209e+00 (2.7803e+00)\tAcc@1  43.75 ( 39.98)\tAcc@5  70.70 ( 65.18)\n",
      "Epoch: [4][2560/5005]\tTime  0.712 ( 0.718)\tData  0.000 ( 0.003)\tLoss 2.9747e+00 (2.7800e+00)\tAcc@1  37.50 ( 39.98)\tAcc@5  61.33 ( 65.20)\n",
      "Epoch: [4][2816/5005]\tTime  0.710 ( 0.719)\tData  0.000 ( 0.003)\tLoss 2.7134e+00 (2.7791e+00)\tAcc@1  39.45 ( 40.00)\tAcc@5  64.45 ( 65.22)\n",
      "Epoch: [4][3072/5005]\tTime  0.695 ( 0.717)\tData  0.000 ( 0.003)\tLoss 2.4629e+00 (2.7776e+00)\tAcc@1  49.22 ( 40.03)\tAcc@5  70.70 ( 65.25)\n",
      "Epoch: [4][3328/5005]\tTime  0.705 ( 0.715)\tData  0.000 ( 0.003)\tLoss 2.8566e+00 (2.7769e+00)\tAcc@1  45.31 ( 40.05)\tAcc@5  67.19 ( 65.26)\n",
      "Epoch: [4][3584/5005]\tTime  0.749 ( 0.715)\tData  0.000 ( 0.003)\tLoss 2.6646e+00 (2.7749e+00)\tAcc@1  46.09 ( 40.08)\tAcc@5  69.14 ( 65.31)\n",
      "Epoch: [4][3840/5005]\tTime  0.713 ( 0.715)\tData  0.000 ( 0.003)\tLoss 2.7828e+00 (2.7728e+00)\tAcc@1  39.06 ( 40.12)\tAcc@5  64.06 ( 65.36)\n",
      "Epoch: [4][4096/5005]\tTime  0.706 ( 0.716)\tData  0.000 ( 0.003)\tLoss 2.7151e+00 (2.7727e+00)\tAcc@1  40.23 ( 40.13)\tAcc@5  64.84 ( 65.36)\n",
      "Epoch: [4][4352/5005]\tTime  0.725 ( 0.715)\tData  0.000 ( 0.002)\tLoss 3.1525e+00 (2.7718e+00)\tAcc@1  26.95 ( 40.15)\tAcc@5  57.42 ( 65.37)\n",
      "Epoch: [4][4608/5005]\tTime  0.777 ( 0.718)\tData  0.000 ( 0.002)\tLoss 2.8683e+00 (2.7704e+00)\tAcc@1  35.55 ( 40.18)\tAcc@5  61.72 ( 65.39)\n",
      "Epoch: [4][4864/5005]\tTime  0.721 ( 0.720)\tData  0.000 ( 0.002)\tLoss 2.5878e+00 (2.7680e+00)\tAcc@1  36.72 ( 40.22)\tAcc@5  69.92 ( 65.43)\n",
      "Test: [  0/196]\tTime  2.272 ( 2.272)\tLoss 1.9305e+00 (1.9305e+00)\tAcc@1  53.52 ( 53.52)\tAcc@5  80.47 ( 80.47)\n",
      " * Acc@1 42.956 Acc@5 69.772\n",
      "lr: [0.1]\n",
      "Epoch: [5][   0/5005]\tTime  2.297 ( 2.297)\tData  2.021 ( 2.021)\tLoss 2.8401e+00 (2.8401e+00)\tAcc@1  40.62 ( 40.62)\tAcc@5  64.84 ( 64.84)\n",
      "Epoch: [5][ 256/5005]\tTime  0.702 ( 0.721)\tData  0.000 ( 0.010)\tLoss 2.8614e+00 (2.7076e+00)\tAcc@1  39.45 ( 40.96)\tAcc@5  62.11 ( 66.36)\n",
      "Epoch: [5][ 512/5005]\tTime  0.739 ( 0.717)\tData  0.000 ( 0.006)\tLoss 2.3843e+00 (2.6991e+00)\tAcc@1  44.92 ( 41.25)\tAcc@5  73.05 ( 66.56)\n"
     ]
    },
    {
     "name": "stderr",
     "output_type": "stream",
     "text": [
      "/opt/conda/lib/python3.8/site-packages/PIL/TiffImagePlugin.py:788: UserWarning: Corrupt EXIF data.  Expecting to read 4 bytes but only got 0. \n",
      "  warnings.warn(str(msg))\n"
     ]
    },
    {
     "name": "stdout",
     "output_type": "stream",
     "text": [
      "Epoch: [5][ 768/5005]\tTime  0.706 ( 0.715)\tData  0.000 ( 0.005)\tLoss 2.7553e+00 (2.6989e+00)\tAcc@1  39.45 ( 41.27)\tAcc@5  66.02 ( 66.56)\n",
      "Epoch: [5][1024/5005]\tTime  0.702 ( 0.717)\tData  0.000 ( 0.004)\tLoss 2.9249e+00 (2.7020e+00)\tAcc@1  39.45 ( 41.24)\tAcc@5  62.50 ( 66.58)\n",
      "Epoch: [5][1280/5005]\tTime  0.719 ( 0.715)\tData  0.000 ( 0.004)\tLoss 2.6902e+00 (2.7004e+00)\tAcc@1  43.36 ( 41.33)\tAcc@5  66.80 ( 66.59)\n",
      "Epoch: [5][1536/5005]\tTime  0.707 ( 0.715)\tData  0.000 ( 0.003)\tLoss 2.6260e+00 (2.7002e+00)\tAcc@1  43.75 ( 41.38)\tAcc@5  66.80 ( 66.61)\n",
      "Epoch: [5][1792/5005]\tTime  0.743 ( 0.716)\tData  0.000 ( 0.003)\tLoss 2.4709e+00 (2.7011e+00)\tAcc@1  44.92 ( 41.37)\tAcc@5  71.88 ( 66.59)\n",
      "Epoch: [5][2048/5005]\tTime  0.712 ( 0.715)\tData  0.000 ( 0.003)\tLoss 2.4051e+00 (2.6987e+00)\tAcc@1  42.19 ( 41.41)\tAcc@5  72.66 ( 66.62)\n",
      "Epoch: [5][2304/5005]\tTime  0.697 ( 0.716)\tData  0.000 ( 0.003)\tLoss 2.5847e+00 (2.6985e+00)\tAcc@1  44.92 ( 41.41)\tAcc@5  69.14 ( 66.64)\n",
      "Epoch: [5][2560/5005]\tTime  0.722 ( 0.715)\tData  0.000 ( 0.003)\tLoss 2.7618e+00 (2.6995e+00)\tAcc@1  39.84 ( 41.40)\tAcc@5  64.06 ( 66.62)\n",
      "Epoch: [5][2816/5005]\tTime  0.695 ( 0.715)\tData  0.000 ( 0.003)\tLoss 2.7197e+00 (2.6986e+00)\tAcc@1  38.28 ( 41.40)\tAcc@5  64.45 ( 66.64)\n",
      "Epoch: [5][3072/5005]\tTime  0.700 ( 0.713)\tData  0.000 ( 0.003)\tLoss 2.7930e+00 (2.6988e+00)\tAcc@1  40.23 ( 41.39)\tAcc@5  61.72 ( 66.62)\n",
      "Epoch: [5][3328/5005]\tTime  0.708 ( 0.712)\tData  0.000 ( 0.003)\tLoss 2.8732e+00 (2.6983e+00)\tAcc@1  38.67 ( 41.39)\tAcc@5  63.67 ( 66.63)\n",
      "Epoch: [5][3584/5005]\tTime  0.703 ( 0.713)\tData  0.000 ( 0.003)\tLoss 2.6639e+00 (2.6981e+00)\tAcc@1  39.84 ( 41.40)\tAcc@5  66.02 ( 66.63)\n",
      "Epoch: [5][3840/5005]\tTime  0.731 ( 0.713)\tData  0.000 ( 0.003)\tLoss 2.6927e+00 (2.6986e+00)\tAcc@1  39.45 ( 41.41)\tAcc@5  69.53 ( 66.63)\n",
      "Epoch: [5][4096/5005]\tTime  0.701 ( 0.713)\tData  0.000 ( 0.003)\tLoss 2.7647e+00 (2.6972e+00)\tAcc@1  42.58 ( 41.42)\tAcc@5  69.53 ( 66.65)\n",
      "Epoch: [5][4352/5005]\tTime  0.725 ( 0.714)\tData  0.000 ( 0.003)\tLoss 2.5573e+00 (2.6963e+00)\tAcc@1  39.84 ( 41.44)\tAcc@5  69.92 ( 66.68)\n",
      "Epoch: [5][4608/5005]\tTime  0.713 ( 0.713)\tData  0.000 ( 0.003)\tLoss 2.8852e+00 (2.6962e+00)\tAcc@1  36.72 ( 41.44)\tAcc@5  63.28 ( 66.69)\n",
      "Epoch: [5][4864/5005]\tTime  0.703 ( 0.714)\tData  0.000 ( 0.002)\tLoss 2.4679e+00 (2.6950e+00)\tAcc@1  40.23 ( 41.47)\tAcc@5  71.48 ( 66.71)\n",
      "Test: [  0/196]\tTime  2.236 ( 2.236)\tLoss 1.6832e+00 (1.6832e+00)\tAcc@1  58.98 ( 58.98)\tAcc@5  86.33 ( 86.33)\n",
      " * Acc@1 44.526 Acc@5 71.232\n",
      "lr: [0.1]\n",
      "Epoch: [6][   0/5005]\tTime  2.101 ( 2.101)\tData  1.816 ( 1.816)\tLoss 2.6939e+00 (2.6939e+00)\tAcc@1  44.53 ( 44.53)\tAcc@5  66.41 ( 66.41)\n",
      "Epoch: [6][ 256/5005]\tTime  0.710 ( 0.716)\tData  0.000 ( 0.009)\tLoss 2.5564e+00 (2.6240e+00)\tAcc@1  42.97 ( 42.66)\tAcc@5  70.70 ( 67.88)\n",
      "Epoch: [6][ 512/5005]\tTime  0.710 ( 0.721)\tData  0.000 ( 0.006)\tLoss 2.6204e+00 (2.6302e+00)\tAcc@1  43.36 ( 42.68)\tAcc@5  69.53 ( 67.84)\n",
      "Epoch: [6][ 768/5005]\tTime  0.720 ( 0.716)\tData  0.000 ( 0.004)\tLoss 2.6019e+00 (2.6370e+00)\tAcc@1  45.70 ( 42.56)\tAcc@5  68.36 ( 67.75)\n",
      "Epoch: [6][1024/5005]\tTime  0.702 ( 0.718)\tData  0.000 ( 0.004)\tLoss 2.3767e+00 (2.6395e+00)\tAcc@1  48.05 ( 42.49)\tAcc@5  69.92 ( 67.70)\n",
      "Epoch: [6][1280/5005]\tTime  0.749 ( 0.718)\tData  0.000 ( 0.003)\tLoss 2.4750e+00 (2.6423e+00)\tAcc@1  45.31 ( 42.44)\tAcc@5  71.48 ( 67.63)\n",
      "Epoch: [6][1536/5005]\tTime  0.704 ( 0.717)\tData  0.000 ( 0.003)\tLoss 2.5427e+00 (2.6468e+00)\tAcc@1  44.53 ( 42.39)\tAcc@5  71.09 ( 67.55)\n",
      "Epoch: [6][1792/5005]\tTime  0.705 ( 0.719)\tData  0.000 ( 0.003)\tLoss 2.7739e+00 (2.6464e+00)\tAcc@1  40.23 ( 42.41)\tAcc@5  66.02 ( 67.53)\n",
      "Epoch: [6][2048/5005]\tTime  0.724 ( 0.717)\tData  0.000 ( 0.003)\tLoss 2.5001e+00 (2.6468e+00)\tAcc@1  43.36 ( 42.38)\tAcc@5  67.58 ( 67.50)\n",
      "Epoch: [6][2304/5005]\tTime  0.700 ( 0.717)\tData  0.000 ( 0.003)\tLoss 2.5749e+00 (2.6469e+00)\tAcc@1  42.97 ( 42.39)\tAcc@5  68.36 ( 67.49)\n",
      "Epoch: [6][2560/5005]\tTime  0.750 ( 0.717)\tData  0.000 ( 0.003)\tLoss 2.6376e+00 (2.6486e+00)\tAcc@1  40.62 ( 42.37)\tAcc@5  68.36 ( 67.45)\n"
     ]
    },
    {
     "name": "stderr",
     "output_type": "stream",
     "text": [
      "/opt/conda/lib/python3.8/site-packages/PIL/TiffImagePlugin.py:788: UserWarning: Corrupt EXIF data.  Expecting to read 4 bytes but only got 0. \n",
      "  warnings.warn(str(msg))\n"
     ]
    },
    {
     "name": "stdout",
     "output_type": "stream",
     "text": [
      "Epoch: [6][2816/5005]\tTime  0.693 ( 0.716)\tData  0.000 ( 0.003)\tLoss 2.7139e+00 (2.6490e+00)\tAcc@1  42.58 ( 42.35)\tAcc@5  66.41 ( 67.45)\n",
      "Epoch: [6][3072/5005]\tTime  0.692 ( 0.714)\tData  0.000 ( 0.003)\tLoss 2.9794e+00 (2.6489e+00)\tAcc@1  39.45 ( 42.35)\tAcc@5  65.23 ( 67.46)\n",
      "Epoch: [6][3328/5005]\tTime  0.723 ( 0.713)\tData  0.000 ( 0.003)\tLoss 3.0813e+00 (2.6489e+00)\tAcc@1  35.94 ( 42.35)\tAcc@5  60.94 ( 67.45)\n",
      "Epoch: [6][3584/5005]\tTime  0.699 ( 0.713)\tData  0.000 ( 0.003)\tLoss 2.7841e+00 (2.6505e+00)\tAcc@1  36.72 ( 42.32)\tAcc@5  64.84 ( 67.42)\n",
      "Epoch: [6][3840/5005]\tTime  0.751 ( 0.714)\tData  0.000 ( 0.003)\tLoss 2.6954e+00 (2.6513e+00)\tAcc@1  41.02 ( 42.32)\tAcc@5  66.41 ( 67.41)\n",
      "Epoch: [6][4096/5005]\tTime  0.712 ( 0.713)\tData  0.000 ( 0.002)\tLoss 2.6979e+00 (2.6513e+00)\tAcc@1  40.62 ( 42.31)\tAcc@5  64.84 ( 67.42)\n",
      "Epoch: [6][4352/5005]\tTime  0.699 ( 0.714)\tData  0.000 ( 0.002)\tLoss 2.4518e+00 (2.6518e+00)\tAcc@1  42.58 ( 42.31)\tAcc@5  71.09 ( 67.42)\n",
      "Epoch: [6][4608/5005]\tTime  0.731 ( 0.713)\tData  0.000 ( 0.002)\tLoss 2.7239e+00 (2.6511e+00)\tAcc@1  38.67 ( 42.32)\tAcc@5  65.62 ( 67.43)\n",
      "Epoch: [6][4864/5005]\tTime  0.703 ( 0.713)\tData  0.000 ( 0.002)\tLoss 2.5305e+00 (2.6501e+00)\tAcc@1  41.80 ( 42.33)\tAcc@5  71.09 ( 67.46)\n",
      "Test: [  0/196]\tTime  2.195 ( 2.195)\tLoss 1.6923e+00 (1.6923e+00)\tAcc@1  56.25 ( 56.25)\tAcc@5  83.20 ( 83.20)\n",
      " * Acc@1 45.942 Acc@5 72.542\n",
      "lr: [0.1]\n",
      "Epoch: [7][   0/5005]\tTime  2.261 ( 2.261)\tData  1.951 ( 1.951)\tLoss 2.7028e+00 (2.7028e+00)\tAcc@1  40.62 ( 40.62)\tAcc@5  65.23 ( 65.23)\n",
      "Epoch: [7][ 256/5005]\tTime  0.713 ( 0.708)\tData  0.000 ( 0.010)\tLoss 2.6683e+00 (2.5803e+00)\tAcc@1  42.19 ( 43.67)\tAcc@5  69.14 ( 68.78)\n",
      "Epoch: [7][ 512/5005]\tTime  0.697 ( 0.715)\tData  0.000 ( 0.006)\tLoss 2.6506e+00 (2.5904e+00)\tAcc@1  41.02 ( 43.41)\tAcc@5  67.19 ( 68.50)\n"
     ]
    },
    {
     "name": "stderr",
     "output_type": "stream",
     "text": [
      "/opt/conda/lib/python3.8/site-packages/PIL/TiffImagePlugin.py:788: UserWarning: Corrupt EXIF data.  Expecting to read 4 bytes but only got 0. \n",
      "  warnings.warn(str(msg))\n"
     ]
    },
    {
     "name": "stdout",
     "output_type": "stream",
     "text": [
      "Epoch: [7][ 768/5005]\tTime  0.743 ( 0.713)\tData  0.000 ( 0.005)\tLoss 2.6549e+00 (2.6000e+00)\tAcc@1  41.02 ( 43.22)\tAcc@5  69.53 ( 68.33)\n",
      "Epoch: [7][1024/5005]\tTime  0.705 ( 0.714)\tData  0.000 ( 0.004)\tLoss 2.7750e+00 (2.5978e+00)\tAcc@1  41.80 ( 43.17)\tAcc@5  63.67 ( 68.32)\n",
      "Epoch: [7][1280/5005]\tTime  0.708 ( 0.716)\tData  0.000 ( 0.004)\tLoss 2.3956e+00 (2.5989e+00)\tAcc@1  50.39 ( 43.20)\tAcc@5  72.66 ( 68.33)\n",
      "Epoch: [7][1536/5005]\tTime  0.720 ( 0.714)\tData  0.000 ( 0.003)\tLoss 2.5659e+00 (2.6006e+00)\tAcc@1  41.80 ( 43.14)\tAcc@5  70.70 ( 68.31)\n",
      "Epoch: [7][1792/5005]\tTime  0.702 ( 0.715)\tData  0.000 ( 0.003)\tLoss 2.4127e+00 (2.6025e+00)\tAcc@1  46.88 ( 43.12)\tAcc@5  71.09 ( 68.28)\n",
      "Epoch: [7][2048/5005]\tTime  0.751 ( 0.715)\tData  0.000 ( 0.003)\tLoss 2.7980e+00 (2.6047e+00)\tAcc@1  43.36 ( 43.10)\tAcc@5  64.84 ( 68.26)\n",
      "Epoch: [7][2304/5005]\tTime  0.711 ( 0.715)\tData  0.000 ( 0.003)\tLoss 2.8285e+00 (2.6056e+00)\tAcc@1  37.89 ( 43.07)\tAcc@5  67.97 ( 68.25)\n",
      "Epoch: [7][2560/5005]\tTime  0.702 ( 0.716)\tData  0.000 ( 0.003)\tLoss 2.4622e+00 (2.6062e+00)\tAcc@1  42.58 ( 43.08)\tAcc@5  65.62 ( 68.23)\n",
      "Epoch: [7][2816/5005]\tTime  0.690 ( 0.714)\tData  0.000 ( 0.003)\tLoss 2.5337e+00 (2.6063e+00)\tAcc@1  46.88 ( 43.11)\tAcc@5  68.36 ( 68.22)\n",
      "Epoch: [7][3072/5005]\tTime  0.698 ( 0.712)\tData  0.000 ( 0.003)\tLoss 2.4701e+00 (2.6074e+00)\tAcc@1  44.14 ( 43.09)\tAcc@5  71.48 ( 68.20)\n",
      "Epoch: [7][3328/5005]\tTime  0.728 ( 0.712)\tData  0.000 ( 0.003)\tLoss 2.8446e+00 (2.6088e+00)\tAcc@1  34.77 ( 43.05)\tAcc@5  63.67 ( 68.17)\n",
      "Epoch: [7][3584/5005]\tTime  0.702 ( 0.712)\tData  0.000 ( 0.003)\tLoss 2.6472e+00 (2.6087e+00)\tAcc@1  48.44 ( 43.06)\tAcc@5  69.92 ( 68.17)\n",
      "Epoch: [7][3840/5005]\tTime  0.701 ( 0.713)\tData  0.000 ( 0.003)\tLoss 2.9452e+00 (2.6101e+00)\tAcc@1  37.11 ( 43.04)\tAcc@5  60.16 ( 68.15)\n",
      "Epoch: [7][4096/5005]\tTime  0.731 ( 0.712)\tData  0.000 ( 0.003)\tLoss 2.7134e+00 (2.6099e+00)\tAcc@1  40.23 ( 43.05)\tAcc@5  65.23 ( 68.16)\n",
      "Epoch: [7][4352/5005]\tTime  0.698 ( 0.713)\tData  0.000 ( 0.002)\tLoss 2.5040e+00 (2.6100e+00)\tAcc@1  44.14 ( 43.07)\tAcc@5  71.48 ( 68.15)\n",
      "Epoch: [7][4608/5005]\tTime  0.749 ( 0.713)\tData  0.000 ( 0.002)\tLoss 2.6630e+00 (2.6101e+00)\tAcc@1  42.58 ( 43.08)\tAcc@5  67.97 ( 68.15)\n",
      "Epoch: [7][4864/5005]\tTime  0.710 ( 0.713)\tData  0.000 ( 0.002)\tLoss 2.7248e+00 (2.6112e+00)\tAcc@1  43.36 ( 43.07)\tAcc@5  64.84 ( 68.13)\n",
      "Test: [  0/196]\tTime  2.288 ( 2.288)\tLoss 1.6071e+00 (1.6071e+00)\tAcc@1  59.77 ( 59.77)\tAcc@5  84.38 ( 84.38)\n",
      " * Acc@1 45.662 Acc@5 71.886\n",
      "lr: [0.1]\n",
      "Epoch: [8][   0/5005]\tTime  2.219 ( 2.219)\tData  1.940 ( 1.940)\tLoss 2.3727e+00 (2.3727e+00)\tAcc@1  46.88 ( 46.88)\tAcc@5  72.27 ( 72.27)\n",
      "Epoch: [8][ 256/5005]\tTime  0.732 ( 0.712)\tData  0.000 ( 0.010)\tLoss 2.8686e+00 (2.5602e+00)\tAcc@1  41.02 ( 43.85)\tAcc@5  64.06 ( 68.86)\n",
      "Epoch: [8][ 512/5005]\tTime  0.705 ( 0.716)\tData  0.000 ( 0.006)\tLoss 2.7804e+00 (2.5624e+00)\tAcc@1  42.97 ( 43.98)\tAcc@5  64.06 ( 68.85)\n",
      "Epoch: [8][ 768/5005]\tTime  0.714 ( 0.718)\tData  0.000 ( 0.005)\tLoss 2.5244e+00 (2.5700e+00)\tAcc@1  45.70 ( 43.80)\tAcc@5  67.97 ( 68.77)\n",
      "Epoch: [8][1024/5005]\tTime  0.708 ( 0.715)\tData  0.000 ( 0.004)\tLoss 2.3130e+00 (2.5759e+00)\tAcc@1  48.05 ( 43.68)\tAcc@5  73.05 ( 68.71)\n",
      "Epoch: [8][1280/5005]\tTime  0.691 ( 0.717)\tData  0.000 ( 0.004)\tLoss 2.6300e+00 (2.5768e+00)\tAcc@1  42.97 ( 43.62)\tAcc@5  69.92 ( 68.70)\n",
      "Epoch: [8][1536/5005]\tTime  0.732 ( 0.715)\tData  0.000 ( 0.003)\tLoss 2.5286e+00 (2.5777e+00)\tAcc@1  44.14 ( 43.60)\tAcc@5  66.80 ( 68.67)\n",
      "Epoch: [8][1792/5005]\tTime  0.706 ( 0.715)\tData  0.000 ( 0.003)\tLoss 2.5006e+00 (2.5790e+00)\tAcc@1  48.44 ( 43.59)\tAcc@5  73.05 ( 68.68)\n",
      "Epoch: [8][2048/5005]\tTime  0.710 ( 0.716)\tData  0.000 ( 0.003)\tLoss 2.5675e+00 (2.5774e+00)\tAcc@1  43.75 ( 43.61)\tAcc@5  71.09 ( 68.70)\n"
     ]
    },
    {
     "name": "stderr",
     "output_type": "stream",
     "text": [
      "/opt/conda/lib/python3.8/site-packages/PIL/TiffImagePlugin.py:788: UserWarning: Corrupt EXIF data.  Expecting to read 4 bytes but only got 0. \n",
      "  warnings.warn(str(msg))\n"
     ]
    },
    {
     "name": "stdout",
     "output_type": "stream",
     "text": [
      "Epoch: [8][2304/5005]\tTime  0.710 ( 0.715)\tData  0.000 ( 0.003)\tLoss 2.6624e+00 (2.5785e+00)\tAcc@1  42.97 ( 43.58)\tAcc@5  67.19 ( 68.69)\n",
      "Epoch: [8][2560/5005]\tTime  0.697 ( 0.715)\tData  0.000 ( 0.003)\tLoss 2.7275e+00 (2.5802e+00)\tAcc@1  42.97 ( 43.55)\tAcc@5  64.84 ( 68.65)\n",
      "Epoch: [8][2816/5005]\tTime  0.690 ( 0.713)\tData  0.000 ( 0.003)\tLoss 2.3958e+00 (2.5795e+00)\tAcc@1  45.31 ( 43.54)\tAcc@5  71.48 ( 68.67)\n",
      "Epoch: [8][3072/5005]\tTime  0.696 ( 0.711)\tData  0.000 ( 0.003)\tLoss 2.8822e+00 (2.5802e+00)\tAcc@1  38.67 ( 43.51)\tAcc@5  62.89 ( 68.66)\n",
      "Epoch: [8][3328/5005]\tTime  0.709 ( 0.711)\tData  0.000 ( 0.003)\tLoss 2.2951e+00 (2.5816e+00)\tAcc@1  51.17 ( 43.50)\tAcc@5  73.44 ( 68.63)\n",
      "Epoch: [8][3584/5005]\tTime  0.710 ( 0.711)\tData  0.000 ( 0.003)\tLoss 2.7503e+00 (2.5809e+00)\tAcc@1  43.75 ( 43.52)\tAcc@5  61.72 ( 68.64)\n",
      "Epoch: [8][3840/5005]\tTime  0.704 ( 0.711)\tData  0.000 ( 0.003)\tLoss 2.6405e+00 (2.5808e+00)\tAcc@1  43.36 ( 43.50)\tAcc@5  68.36 ( 68.64)\n",
      "Epoch: [8][4096/5005]\tTime  0.726 ( 0.711)\tData  0.000 ( 0.003)\tLoss 2.4357e+00 (2.5806e+00)\tAcc@1  48.44 ( 43.51)\tAcc@5  69.92 ( 68.64)\n",
      "Epoch: [8][4352/5005]\tTime  0.695 ( 0.711)\tData  0.000 ( 0.002)\tLoss 2.3568e+00 (2.5811e+00)\tAcc@1  43.36 ( 43.52)\tAcc@5  73.44 ( 68.64)\n",
      "Epoch: [8][4608/5005]\tTime  0.703 ( 0.711)\tData  0.000 ( 0.002)\tLoss 2.6903e+00 (2.5809e+00)\tAcc@1  42.97 ( 43.53)\tAcc@5  68.36 ( 68.65)\n",
      "Epoch: [8][4864/5005]\tTime  0.713 ( 0.711)\tData  0.000 ( 0.002)\tLoss 2.5360e+00 (2.5816e+00)\tAcc@1  44.14 ( 43.53)\tAcc@5  65.62 ( 68.63)\n",
      "Test: [  0/196]\tTime  2.353 ( 2.353)\tLoss 1.6170e+00 (1.6170e+00)\tAcc@1  59.77 ( 59.77)\tAcc@5  85.55 ( 85.55)\n",
      " * Acc@1 43.054 Acc@5 69.604\n",
      "lr: [0.1]\n",
      "Epoch: [9][   0/5005]\tTime  2.180 ( 2.180)\tData  1.902 ( 1.902)\tLoss 2.7807e+00 (2.7807e+00)\tAcc@1  41.02 ( 41.02)\tAcc@5  64.45 ( 64.45)\n",
      "Epoch: [9][ 256/5005]\tTime  0.748 ( 0.716)\tData  0.000 ( 0.009)\tLoss 2.5019e+00 (2.5203e+00)\tAcc@1  43.36 ( 44.65)\tAcc@5  69.14 ( 69.65)\n",
      "Epoch: [9][ 512/5005]\tTime  0.706 ( 0.711)\tData  0.000 ( 0.006)\tLoss 2.3436e+00 (2.5256e+00)\tAcc@1  50.00 ( 44.44)\tAcc@5  73.83 ( 69.58)\n",
      "Epoch: [9][ 768/5005]\tTime  0.701 ( 0.714)\tData  0.000 ( 0.005)\tLoss 2.7505e+00 (2.5290e+00)\tAcc@1  40.23 ( 44.49)\tAcc@5  67.19 ( 69.52)\n",
      "Epoch: [9][1024/5005]\tTime  0.718 ( 0.712)\tData  0.000 ( 0.004)\tLoss 2.6524e+00 (2.5320e+00)\tAcc@1  40.23 ( 44.35)\tAcc@5  70.70 ( 69.49)\n",
      "Epoch: [9][1280/5005]\tTime  0.696 ( 0.713)\tData  0.000 ( 0.004)\tLoss 2.7017e+00 (2.5387e+00)\tAcc@1  40.62 ( 44.25)\tAcc@5  67.19 ( 69.36)\n",
      "Epoch: [9][1536/5005]\tTime  0.755 ( 0.714)\tData  0.000 ( 0.003)\tLoss 2.6911e+00 (2.5433e+00)\tAcc@1  43.36 ( 44.19)\tAcc@5  67.97 ( 69.29)\n",
      "Epoch: [9][1792/5005]\tTime  0.705 ( 0.713)\tData  0.000 ( 0.003)\tLoss 2.4402e+00 (2.5460e+00)\tAcc@1  48.44 ( 44.19)\tAcc@5  73.83 ( 69.23)\n",
      "Epoch: [9][2048/5005]\tTime  0.701 ( 0.714)\tData  0.000 ( 0.003)\tLoss 2.4634e+00 (2.5463e+00)\tAcc@1  41.80 ( 44.15)\tAcc@5  69.53 ( 69.21)\n",
      "Epoch: [9][2304/5005]\tTime  0.729 ( 0.713)\tData  0.000 ( 0.003)\tLoss 2.5653e+00 (2.5482e+00)\tAcc@1  44.92 ( 44.11)\tAcc@5  71.09 ( 69.16)\n",
      "Epoch: [9][2560/5005]\tTime  0.690 ( 0.714)\tData  0.000 ( 0.003)\tLoss 2.4220e+00 (2.5491e+00)\tAcc@1  45.31 ( 44.11)\tAcc@5  76.56 ( 69.15)\n",
      "Epoch: [9][2816/5005]\tTime  0.700 ( 0.712)\tData  0.000 ( 0.003)\tLoss 2.2192e+00 (2.5504e+00)\tAcc@1  49.22 ( 44.09)\tAcc@5  73.83 ( 69.14)\n",
      "Epoch: [9][3072/5005]\tTime  0.713 ( 0.711)\tData  0.000 ( 0.003)\tLoss 2.6385e+00 (2.5507e+00)\tAcc@1  42.58 ( 44.10)\tAcc@5  67.58 ( 69.14)\n",
      "Epoch: [9][3328/5005]\tTime  0.703 ( 0.712)\tData  0.000 ( 0.003)\tLoss 2.6331e+00 (2.5527e+00)\tAcc@1  44.14 ( 44.08)\tAcc@5  67.19 ( 69.12)\n",
      "Epoch: [9][3584/5005]\tTime  0.732 ( 0.712)\tData  0.000 ( 0.003)\tLoss 2.7974e+00 (2.5538e+00)\tAcc@1  42.19 ( 44.06)\tAcc@5  66.02 ( 69.10)\n",
      "Epoch: [9][3840/5005]\tTime  0.697 ( 0.712)\tData  0.001 ( 0.003)\tLoss 2.3856e+00 (2.5544e+00)\tAcc@1  50.39 ( 44.04)\tAcc@5  72.66 ( 69.10)\n"
     ]
    },
    {
     "name": "stderr",
     "output_type": "stream",
     "text": [
      "/opt/conda/lib/python3.8/site-packages/PIL/TiffImagePlugin.py:788: UserWarning: Corrupt EXIF data.  Expecting to read 4 bytes but only got 0. \n",
      "  warnings.warn(str(msg))\n"
     ]
    },
    {
     "name": "stdout",
     "output_type": "stream",
     "text": [
      "Epoch: [9][4096/5005]\tTime  0.717 ( 0.713)\tData  0.000 ( 0.003)\tLoss 2.7486e+00 (2.5548e+00)\tAcc@1  40.62 ( 44.03)\tAcc@5  64.45 ( 69.09)\n",
      "Epoch: [9][4352/5005]\tTime  0.720 ( 0.712)\tData  0.000 ( 0.002)\tLoss 2.4260e+00 (2.5559e+00)\tAcc@1  43.36 ( 44.00)\tAcc@5  71.48 ( 69.07)\n",
      "Epoch: [9][4608/5005]\tTime  0.700 ( 0.713)\tData  0.000 ( 0.002)\tLoss 2.2884e+00 (2.5562e+00)\tAcc@1  47.27 ( 44.01)\tAcc@5  73.83 ( 69.06)\n",
      "Epoch: [9][4864/5005]\tTime  0.737 ( 0.713)\tData  0.000 ( 0.002)\tLoss 2.8199e+00 (2.5573e+00)\tAcc@1  42.19 ( 43.99)\tAcc@5  62.89 ( 69.04)\n",
      "Test: [  0/196]\tTime  2.305 ( 2.305)\tLoss 1.4927e+00 (1.4927e+00)\tAcc@1  63.28 ( 63.28)\tAcc@5  88.67 ( 88.67)\n",
      " * Acc@1 45.320 Acc@5 71.884\n",
      "lr: [0.1]\n",
      "Epoch: [10][   0/5005]\tTime  2.095 ( 2.095)\tData  1.785 ( 1.785)\tLoss 2.3346e+00 (2.3346e+00)\tAcc@1  45.70 ( 45.70)\tAcc@5  73.83 ( 73.83)\n",
      "Epoch: [10][ 256/5005]\tTime  0.702 ( 0.721)\tData  0.000 ( 0.009)\tLoss 2.5852e+00 (2.4940e+00)\tAcc@1  45.70 ( 44.96)\tAcc@5  70.70 ( 69.85)\n",
      "Epoch: [10][ 512/5005]\tTime  0.719 ( 0.711)\tData  0.000 ( 0.005)\tLoss 2.5506e+00 (2.5162e+00)\tAcc@1  43.75 ( 44.75)\tAcc@5  69.14 ( 69.52)\n",
      "Epoch: [10][ 768/5005]\tTime  0.699 ( 0.713)\tData  0.000 ( 0.004)\tLoss 2.5343e+00 (2.5180e+00)\tAcc@1  41.41 ( 44.72)\tAcc@5  69.14 ( 69.53)\n",
      "Epoch: [10][1024/5005]\tTime  0.746 ( 0.713)\tData  0.000 ( 0.004)\tLoss 2.4818e+00 (2.5223e+00)\tAcc@1  45.70 ( 44.62)\tAcc@5  68.75 ( 69.51)\n",
      "Epoch: [10][1280/5005]\tTime  0.701 ( 0.712)\tData  0.000 ( 0.003)\tLoss 2.3715e+00 (2.5268e+00)\tAcc@1  45.31 ( 44.54)\tAcc@5  72.66 ( 69.49)\n",
      "Epoch: [10][1536/5005]\tTime  0.703 ( 0.713)\tData  0.000 ( 0.003)\tLoss 2.4061e+00 (2.5313e+00)\tAcc@1  44.92 ( 44.47)\tAcc@5  70.31 ( 69.39)\n",
      "Epoch: [10][1792/5005]\tTime  0.710 ( 0.712)\tData  0.000 ( 0.003)\tLoss 2.1826e+00 (2.5317e+00)\tAcc@1  48.44 ( 44.47)\tAcc@5  76.17 ( 69.39)\n"
     ]
    },
    {
     "name": "stderr",
     "output_type": "stream",
     "text": [
      "/opt/conda/lib/python3.8/site-packages/PIL/TiffImagePlugin.py:788: UserWarning: Corrupt EXIF data.  Expecting to read 4 bytes but only got 0. \n",
      "  warnings.warn(str(msg))\n"
     ]
    },
    {
     "name": "stdout",
     "output_type": "stream",
     "text": [
      "Epoch: [10][2048/5005]\tTime  0.700 ( 0.712)\tData  0.000 ( 0.003)\tLoss 2.4389e+00 (2.5317e+00)\tAcc@1  41.80 ( 44.44)\tAcc@5  72.66 ( 69.42)\n",
      "Epoch: [10][2304/5005]\tTime  0.756 ( 0.713)\tData  0.000 ( 0.003)\tLoss 2.7878e+00 (2.5335e+00)\tAcc@1  42.58 ( 44.42)\tAcc@5  67.19 ( 69.40)\n",
      "Epoch: [10][2560/5005]\tTime  0.687 ( 0.712)\tData  0.000 ( 0.003)\tLoss 2.2106e+00 (2.5329e+00)\tAcc@1  51.17 ( 44.45)\tAcc@5  75.78 ( 69.42)\n",
      "Epoch: [10][2816/5005]\tTime  0.689 ( 0.710)\tData  0.000 ( 0.003)\tLoss 2.4477e+00 (2.5349e+00)\tAcc@1  44.53 ( 44.41)\tAcc@5  71.48 ( 69.39)\n",
      "Epoch: [10][3072/5005]\tTime  0.721 ( 0.709)\tData  0.000 ( 0.003)\tLoss 2.4443e+00 (2.5356e+00)\tAcc@1  44.53 ( 44.37)\tAcc@5  71.48 ( 69.38)\n",
      "Epoch: [10][3328/5005]\tTime  0.702 ( 0.710)\tData  0.000 ( 0.003)\tLoss 2.5629e+00 (2.5355e+00)\tAcc@1  46.88 ( 44.38)\tAcc@5  69.14 ( 69.39)\n",
      "Epoch: [10][3584/5005]\tTime  0.748 ( 0.711)\tData  0.000 ( 0.003)\tLoss 2.7542e+00 (2.5363e+00)\tAcc@1  42.19 ( 44.38)\tAcc@5  70.31 ( 69.39)\n",
      "Epoch: [10][3840/5005]\tTime  0.709 ( 0.710)\tData  0.000 ( 0.003)\tLoss 2.3916e+00 (2.5375e+00)\tAcc@1  41.80 ( 44.35)\tAcc@5  72.66 ( 69.37)\n",
      "Epoch: [10][4096/5005]\tTime  0.702 ( 0.711)\tData  0.000 ( 0.002)\tLoss 2.5275e+00 (2.5373e+00)\tAcc@1  46.09 ( 44.35)\tAcc@5  66.80 ( 69.38)\n",
      "Epoch: [10][4352/5005]\tTime  0.729 ( 0.711)\tData  0.000 ( 0.002)\tLoss 2.4038e+00 (2.5378e+00)\tAcc@1  45.31 ( 44.34)\tAcc@5  69.92 ( 69.37)\n",
      "Epoch: [10][4608/5005]\tTime  0.709 ( 0.711)\tData  0.000 ( 0.002)\tLoss 2.6380e+00 (2.5382e+00)\tAcc@1  41.41 ( 44.35)\tAcc@5  69.14 ( 69.37)\n",
      "Epoch: [10][4864/5005]\tTime  0.721 ( 0.712)\tData  0.000 ( 0.002)\tLoss 2.5371e+00 (2.5380e+00)\tAcc@1  43.75 ( 44.35)\tAcc@5  67.19 ( 69.38)\n",
      "Test: [  0/196]\tTime  2.277 ( 2.277)\tLoss 1.6368e+00 (1.6368e+00)\tAcc@1  58.59 ( 58.59)\tAcc@5  86.33 ( 86.33)\n",
      " * Acc@1 47.166 Acc@5 73.240\n",
      "lr: [0.1]\n",
      "Epoch: [11][   0/5005]\tTime  2.029 ( 2.029)\tData  1.737 ( 1.737)\tLoss 2.5101e+00 (2.5101e+00)\tAcc@1  43.36 ( 43.36)\tAcc@5  71.09 ( 71.09)\n",
      "Epoch: [11][ 256/5005]\tTime  0.706 ( 0.723)\tData  0.000 ( 0.009)\tLoss 2.4111e+00 (2.4924e+00)\tAcc@1  44.53 ( 45.15)\tAcc@5  70.31 ( 70.06)\n",
      "Epoch: [11][ 512/5005]\tTime  0.742 ( 0.717)\tData  0.000 ( 0.005)\tLoss 2.6529e+00 (2.4936e+00)\tAcc@1  44.53 ( 45.06)\tAcc@5  65.62 ( 70.02)\n",
      "Epoch: [11][ 768/5005]\tTime  0.704 ( 0.717)\tData  0.000 ( 0.004)\tLoss 2.5341e+00 (2.5013e+00)\tAcc@1  44.14 ( 44.88)\tAcc@5  68.75 ( 69.90)\n"
     ]
    },
    {
     "name": "stderr",
     "output_type": "stream",
     "text": [
      "/opt/conda/lib/python3.8/site-packages/PIL/TiffImagePlugin.py:788: UserWarning: Corrupt EXIF data.  Expecting to read 4 bytes but only got 0. \n",
      "  warnings.warn(str(msg))\n"
     ]
    },
    {
     "name": "stdout",
     "output_type": "stream",
     "text": [
      "Epoch: [11][1024/5005]\tTime  0.707 ( 0.718)\tData  0.000 ( 0.004)\tLoss 2.5367e+00 (2.5038e+00)\tAcc@1  47.66 ( 44.86)\tAcc@5  67.97 ( 69.85)\n",
      "Epoch: [11][1280/5005]\tTime  0.721 ( 0.716)\tData  0.000 ( 0.003)\tLoss 2.5760e+00 (2.5047e+00)\tAcc@1  43.75 ( 44.87)\tAcc@5  67.19 ( 69.85)\n",
      "Epoch: [11][1536/5005]\tTime  0.699 ( 0.716)\tData  0.000 ( 0.003)\tLoss 2.7077e+00 (2.5056e+00)\tAcc@1  45.70 ( 44.88)\tAcc@5  67.58 ( 69.84)\n",
      "Epoch: [11][1792/5005]\tTime  0.747 ( 0.716)\tData  0.000 ( 0.003)\tLoss 2.1512e+00 (2.5083e+00)\tAcc@1  51.17 ( 44.84)\tAcc@5  72.66 ( 69.81)\n",
      "Epoch: [11][2048/5005]\tTime  0.705 ( 0.715)\tData  0.000 ( 0.003)\tLoss 2.6597e+00 (2.5111e+00)\tAcc@1  39.84 ( 44.79)\tAcc@5  64.45 ( 69.78)\n",
      "Epoch: [11][2304/5005]\tTime  0.707 ( 0.716)\tData  0.000 ( 0.003)\tLoss 2.4646e+00 (2.5131e+00)\tAcc@1  41.80 ( 44.78)\tAcc@5  67.58 ( 69.76)\n",
      "Epoch: [11][2560/5005]\tTime  0.691 ( 0.713)\tData  0.000 ( 0.003)\tLoss 2.5546e+00 (2.5136e+00)\tAcc@1  44.53 ( 44.75)\tAcc@5  68.36 ( 69.75)\n",
      "Epoch: [11][2816/5005]\tTime  0.700 ( 0.711)\tData  0.000 ( 0.003)\tLoss 2.4395e+00 (2.5152e+00)\tAcc@1  47.66 ( 44.74)\tAcc@5  72.66 ( 69.73)\n",
      "Epoch: [11][3072/5005]\tTime  0.728 ( 0.711)\tData  0.000 ( 0.003)\tLoss 2.2268e+00 (2.5169e+00)\tAcc@1  50.00 ( 44.70)\tAcc@5  75.00 ( 69.71)\n",
      "Epoch: [11][3328/5005]\tTime  0.704 ( 0.711)\tData  0.000 ( 0.003)\tLoss 2.3627e+00 (2.5176e+00)\tAcc@1  45.31 ( 44.69)\tAcc@5  71.48 ( 69.71)\n",
      "Epoch: [11][3584/5005]\tTime  0.703 ( 0.712)\tData  0.000 ( 0.003)\tLoss 2.4518e+00 (2.5185e+00)\tAcc@1  45.31 ( 44.66)\tAcc@5  73.83 ( 69.70)\n",
      "Epoch: [11][3840/5005]\tTime  0.720 ( 0.711)\tData  0.000 ( 0.002)\tLoss 2.4129e+00 (2.5198e+00)\tAcc@1  47.66 ( 44.66)\tAcc@5  69.92 ( 69.67)\n",
      "Epoch: [11][4096/5005]\tTime  0.697 ( 0.711)\tData  0.000 ( 0.002)\tLoss 2.5317e+00 (2.5206e+00)\tAcc@1  46.09 ( 44.65)\tAcc@5  69.53 ( 69.66)\n",
      "Epoch: [11][4352/5005]\tTime  0.751 ( 0.712)\tData  0.000 ( 0.002)\tLoss 2.6087e+00 (2.5219e+00)\tAcc@1  46.48 ( 44.63)\tAcc@5  66.41 ( 69.63)\n",
      "Epoch: [11][4608/5005]\tTime  0.711 ( 0.711)\tData  0.000 ( 0.002)\tLoss 2.6658e+00 (2.5230e+00)\tAcc@1  42.58 ( 44.63)\tAcc@5  67.97 ( 69.61)\n",
      "Epoch: [11][4864/5005]\tTime  0.701 ( 0.712)\tData  0.000 ( 0.002)\tLoss 2.4554e+00 (2.5228e+00)\tAcc@1  44.92 ( 44.63)\tAcc@5  69.53 ( 69.61)\n",
      "Test: [  0/196]\tTime  2.285 ( 2.285)\tLoss 1.6784e+00 (1.6784e+00)\tAcc@1  58.59 ( 58.59)\tAcc@5  83.98 ( 83.98)\n",
      " * Acc@1 45.110 Acc@5 71.696\n",
      "lr: [0.1]\n",
      "Epoch: [12][   0/5005]\tTime  2.186 ( 2.186)\tData  1.891 ( 1.891)\tLoss 2.5895e+00 (2.5895e+00)\tAcc@1  41.02 ( 41.02)\tAcc@5  65.23 ( 65.23)\n",
      "Epoch: [12][ 256/5005]\tTime  0.695 ( 0.715)\tData  0.000 ( 0.009)\tLoss 2.3507e+00 (2.4888e+00)\tAcc@1  47.27 ( 44.98)\tAcc@5  74.61 ( 70.09)\n",
      "Epoch: [12][ 512/5005]\tTime  0.736 ( 0.716)\tData  0.000 ( 0.006)\tLoss 2.6227e+00 (2.4834e+00)\tAcc@1  44.53 ( 45.22)\tAcc@5  67.58 ( 70.26)\n",
      "Epoch: [12][ 768/5005]\tTime  0.714 ( 0.712)\tData  0.000 ( 0.005)\tLoss 2.2423e+00 (2.4871e+00)\tAcc@1  46.88 ( 45.20)\tAcc@5  73.05 ( 70.17)\n",
      "Epoch: [12][1024/5005]\tTime  0.697 ( 0.714)\tData  0.000 ( 0.004)\tLoss 2.7325e+00 (2.4917e+00)\tAcc@1  44.14 ( 45.21)\tAcc@5  67.58 ( 70.10)\n",
      "Epoch: [12][1280/5005]\tTime  0.720 ( 0.712)\tData  0.000 ( 0.004)\tLoss 2.3292e+00 (2.4925e+00)\tAcc@1  42.19 ( 45.19)\tAcc@5  71.48 ( 70.06)\n",
      "Epoch: [12][1536/5005]\tTime  0.698 ( 0.713)\tData  0.000 ( 0.003)\tLoss 2.4908e+00 (2.4963e+00)\tAcc@1  42.97 ( 45.14)\tAcc@5  71.09 ( 69.99)\n",
      "Epoch: [12][1792/5005]\tTime  0.714 ( 0.714)\tData  0.000 ( 0.003)\tLoss 2.5646e+00 (2.4974e+00)\tAcc@1  47.27 ( 45.11)\tAcc@5  67.97 ( 69.99)\n",
      "Epoch: [12][2048/5005]\tTime  0.711 ( 0.712)\tData  0.000 ( 0.003)\tLoss 2.2579e+00 (2.4969e+00)\tAcc@1  50.39 ( 45.11)\tAcc@5  74.61 ( 70.01)\n",
      "Epoch: [12][2304/5005]\tTime  0.691 ( 0.713)\tData  0.000 ( 0.003)\tLoss 2.2584e+00 (2.4991e+00)\tAcc@1  50.78 ( 45.10)\tAcc@5  73.83 ( 69.99)\n",
      "Epoch: [12][2560/5005]\tTime  0.687 ( 0.711)\tData  0.000 ( 0.003)\tLoss 2.2131e+00 (2.5000e+00)\tAcc@1  51.17 ( 45.07)\tAcc@5  73.44 ( 69.97)\n",
      "Epoch: [12][2816/5005]\tTime  0.697 ( 0.709)\tData  0.000 ( 0.003)\tLoss 2.5007e+00 (2.5006e+00)\tAcc@1  46.48 ( 45.05)\tAcc@5  68.36 ( 69.98)\n",
      "Epoch: [12][3072/5005]\tTime  0.719 ( 0.710)\tData  0.000 ( 0.003)\tLoss 2.8270e+00 (2.5026e+00)\tAcc@1  43.36 ( 45.00)\tAcc@5  66.02 ( 69.94)\n"
     ]
    },
    {
     "name": "stderr",
     "output_type": "stream",
     "text": [
      "/opt/conda/lib/python3.8/site-packages/PIL/TiffImagePlugin.py:788: UserWarning: Corrupt EXIF data.  Expecting to read 4 bytes but only got 0. \n",
      "  warnings.warn(str(msg))\n"
     ]
    },
    {
     "name": "stdout",
     "output_type": "stream",
     "text": [
      "Epoch: [12][3328/5005]\tTime  0.712 ( 0.709)\tData  0.000 ( 0.003)\tLoss 2.3312e+00 (2.5030e+00)\tAcc@1  47.27 ( 44.99)\tAcc@5  73.44 ( 69.95)\n",
      "Epoch: [12][3584/5005]\tTime  0.697 ( 0.710)\tData  0.000 ( 0.003)\tLoss 2.5202e+00 (2.5043e+00)\tAcc@1  47.27 ( 44.98)\tAcc@5  68.36 ( 69.93)\n",
      "Epoch: [12][3840/5005]\tTime  0.735 ( 0.710)\tData  0.000 ( 0.003)\tLoss 2.5540e+00 (2.5052e+00)\tAcc@1  45.31 ( 44.98)\tAcc@5  66.80 ( 69.91)\n",
      "Epoch: [12][4096/5005]\tTime  0.707 ( 0.710)\tData  0.000 ( 0.003)\tLoss 2.5276e+00 (2.5064e+00)\tAcc@1  44.92 ( 44.96)\tAcc@5  67.97 ( 69.89)\n",
      "Epoch: [12][4352/5005]\tTime  0.712 ( 0.711)\tData  0.000 ( 0.002)\tLoss 2.5404e+00 (2.5079e+00)\tAcc@1  42.97 ( 44.93)\tAcc@5  68.75 ( 69.86)\n",
      "Epoch: [12][4608/5005]\tTime  0.723 ( 0.711)\tData  0.000 ( 0.002)\tLoss 2.6951e+00 (2.5091e+00)\tAcc@1  41.80 ( 44.91)\tAcc@5  66.41 ( 69.84)\n",
      "Epoch: [12][4864/5005]\tTime  0.698 ( 0.711)\tData  0.000 ( 0.002)\tLoss 2.6634e+00 (2.5095e+00)\tAcc@1  43.36 ( 44.90)\tAcc@5  68.36 ( 69.84)\n",
      "Test: [  0/196]\tTime  2.260 ( 2.260)\tLoss 1.6217e+00 (1.6217e+00)\tAcc@1  62.89 ( 62.89)\tAcc@5  82.81 ( 82.81)\n",
      " * Acc@1 46.418 Acc@5 72.798\n",
      "lr: [0.1]\n",
      "Epoch: [13][   0/5005]\tTime  2.194 ( 2.194)\tData  1.877 ( 1.877)\tLoss 2.6448e+00 (2.6448e+00)\tAcc@1  39.06 ( 39.06)\tAcc@5  69.53 ( 69.53)\n",
      "Epoch: [13][ 256/5005]\tTime  0.702 ( 0.715)\tData  0.000 ( 0.009)\tLoss 2.4479e+00 (2.4687e+00)\tAcc@1  48.44 ( 45.55)\tAcc@5  71.09 ( 70.32)\n",
      "Epoch: [13][ 512/5005]\tTime  0.704 ( 0.719)\tData  0.000 ( 0.006)\tLoss 2.4512e+00 (2.4726e+00)\tAcc@1  42.97 ( 45.57)\tAcc@5  70.70 ( 70.30)\n",
      "Epoch: [13][ 768/5005]\tTime  0.717 ( 0.714)\tData  0.000 ( 0.004)\tLoss 2.5072e+00 (2.4828e+00)\tAcc@1  49.22 ( 45.43)\tAcc@5  71.88 ( 70.18)\n",
      "Epoch: [13][1024/5005]\tTime  0.697 ( 0.715)\tData  0.000 ( 0.004)\tLoss 2.3207e+00 (2.4818e+00)\tAcc@1  48.05 ( 45.37)\tAcc@5  73.83 ( 70.17)\n",
      "Epoch: [13][1280/5005]\tTime  0.750 ( 0.715)\tData  0.000 ( 0.004)\tLoss 2.2935e+00 (2.4876e+00)\tAcc@1  48.83 ( 45.29)\tAcc@5  75.00 ( 70.10)\n",
      "Epoch: [13][1536/5005]\tTime  0.706 ( 0.714)\tData  0.000 ( 0.003)\tLoss 2.5221e+00 (2.4871e+00)\tAcc@1  44.92 ( 45.27)\tAcc@5  68.75 ( 70.13)\n",
      "Epoch: [13][1792/5005]\tTime  0.698 ( 0.715)\tData  0.000 ( 0.003)\tLoss 2.2445e+00 (2.4878e+00)\tAcc@1  46.48 ( 45.26)\tAcc@5  71.48 ( 70.13)\n"
     ]
    },
    {
     "name": "stderr",
     "output_type": "stream",
     "text": [
      "/opt/conda/lib/python3.8/site-packages/PIL/TiffImagePlugin.py:788: UserWarning: Corrupt EXIF data.  Expecting to read 4 bytes but only got 0. \n",
      "  warnings.warn(str(msg))\n"
     ]
    },
    {
     "name": "stdout",
     "output_type": "stream",
     "text": [
      "Epoch: [13][2048/5005]\tTime  0.718 ( 0.713)\tData  0.000 ( 0.003)\tLoss 2.3055e+00 (2.4885e+00)\tAcc@1  50.78 ( 45.27)\tAcc@5  73.05 ( 70.12)\n",
      "Epoch: [13][2304/5005]\tTime  0.688 ( 0.713)\tData  0.000 ( 0.003)\tLoss 2.4807e+00 (2.4917e+00)\tAcc@1  45.70 ( 45.21)\tAcc@5  69.14 ( 70.07)\n",
      "Epoch: [13][2560/5005]\tTime  0.695 ( 0.711)\tData  0.000 ( 0.003)\tLoss 2.5832e+00 (2.4929e+00)\tAcc@1  42.58 ( 45.18)\tAcc@5  65.62 ( 70.06)\n",
      "Epoch: [13][2816/5005]\tTime  0.702 ( 0.709)\tData  0.000 ( 0.003)\tLoss 2.3467e+00 (2.4944e+00)\tAcc@1  47.27 ( 45.15)\tAcc@5  72.66 ( 70.05)\n",
      "Epoch: [13][3072/5005]\tTime  0.690 ( 0.710)\tData  0.000 ( 0.003)\tLoss 2.5088e+00 (2.4956e+00)\tAcc@1  46.48 ( 45.13)\tAcc@5  67.19 ( 70.03)\n",
      "Epoch: [13][3328/5005]\tTime  0.717 ( 0.709)\tData  0.000 ( 0.003)\tLoss 2.7370e+00 (2.4963e+00)\tAcc@1  39.06 ( 45.12)\tAcc@5  63.28 ( 70.02)\n",
      "Epoch: [13][3584/5005]\tTime  0.699 ( 0.709)\tData  0.000 ( 0.003)\tLoss 2.3778e+00 (2.4972e+00)\tAcc@1  45.70 ( 45.09)\tAcc@5  68.75 ( 70.01)\n",
      "Epoch: [13][3840/5005]\tTime  0.738 ( 0.710)\tData  0.000 ( 0.003)\tLoss 2.7467e+00 (2.4975e+00)\tAcc@1  39.06 ( 45.08)\tAcc@5  68.75 ( 70.01)\n",
      "Epoch: [13][4096/5005]\tTime  0.702 ( 0.709)\tData  0.000 ( 0.003)\tLoss 2.3807e+00 (2.4986e+00)\tAcc@1  46.09 ( 45.06)\tAcc@5  69.92 ( 70.00)\n",
      "Epoch: [13][4352/5005]\tTime  0.703 ( 0.710)\tData  0.000 ( 0.002)\tLoss 2.4014e+00 (2.4995e+00)\tAcc@1  44.53 ( 45.04)\tAcc@5  71.48 ( 69.99)\n",
      "Epoch: [13][4608/5005]\tTime  0.728 ( 0.709)\tData  0.000 ( 0.002)\tLoss 2.1926e+00 (2.4992e+00)\tAcc@1  51.17 ( 45.03)\tAcc@5  73.44 ( 69.99)\n",
      "Epoch: [13][4864/5005]\tTime  0.702 ( 0.710)\tData  0.000 ( 0.002)\tLoss 2.4350e+00 (2.4997e+00)\tAcc@1  45.31 ( 45.04)\tAcc@5  71.88 ( 69.99)\n",
      "Test: [  0/196]\tTime  2.333 ( 2.333)\tLoss 1.5964e+00 (1.5964e+00)\tAcc@1  59.77 ( 59.77)\tAcc@5  85.16 ( 85.16)\n",
      " * Acc@1 47.306 Acc@5 73.964\n",
      "lr: [0.1]\n",
      "Epoch: [14][   0/5005]\tTime  2.115 ( 2.115)\tData  1.815 ( 1.815)\tLoss 2.4678e+00 (2.4678e+00)\tAcc@1  44.53 ( 44.53)\tAcc@5  69.92 ( 69.92)\n",
      "Epoch: [14][ 256/5005]\tTime  0.704 ( 0.704)\tData  0.000 ( 0.009)\tLoss 2.3529e+00 (2.4581e+00)\tAcc@1  46.09 ( 45.73)\tAcc@5  72.66 ( 70.75)\n",
      "Epoch: [14][ 512/5005]\tTime  0.699 ( 0.711)\tData  0.000 ( 0.006)\tLoss 2.3699e+00 (2.4639e+00)\tAcc@1  46.48 ( 45.63)\tAcc@5  73.05 ( 70.54)\n",
      "Epoch: [14][ 768/5005]\tTime  0.728 ( 0.709)\tData  0.000 ( 0.004)\tLoss 2.2884e+00 (2.4661e+00)\tAcc@1  45.70 ( 45.57)\tAcc@5  74.61 ( 70.47)\n",
      "Epoch: [14][1024/5005]\tTime  0.699 ( 0.710)\tData  0.000 ( 0.004)\tLoss 2.3527e+00 (2.4707e+00)\tAcc@1  48.83 ( 45.49)\tAcc@5  71.88 ( 70.41)\n",
      "Epoch: [14][1280/5005]\tTime  0.715 ( 0.712)\tData  0.000 ( 0.003)\tLoss 2.5519e+00 (2.4713e+00)\tAcc@1  46.09 ( 45.50)\tAcc@5  69.14 ( 70.40)\n",
      "Epoch: [14][1536/5005]\tTime  0.716 ( 0.710)\tData  0.000 ( 0.003)\tLoss 2.6217e+00 (2.4716e+00)\tAcc@1  38.28 ( 45.52)\tAcc@5  64.45 ( 70.38)\n",
      "Epoch: [14][1792/5005]\tTime  0.697 ( 0.711)\tData  0.000 ( 0.003)\tLoss 2.3706e+00 (2.4712e+00)\tAcc@1  53.12 ( 45.52)\tAcc@5  72.27 ( 70.38)\n",
      "Epoch: [14][2048/5005]\tTime  0.730 ( 0.711)\tData  0.000 ( 0.003)\tLoss 2.2516e+00 (2.4748e+00)\tAcc@1  50.39 ( 45.47)\tAcc@5  72.27 ( 70.36)\n",
      "Epoch: [14][2304/5005]\tTime  0.690 ( 0.711)\tData  0.000 ( 0.003)\tLoss 2.5547e+00 (2.4777e+00)\tAcc@1  41.02 ( 45.41)\tAcc@5  66.80 ( 70.31)\n",
      "Epoch: [14][2560/5005]\tTime  0.690 ( 0.708)\tData  0.000 ( 0.003)\tLoss 2.6796e+00 (2.4807e+00)\tAcc@1  41.41 ( 45.34)\tAcc@5  67.58 ( 70.27)\n",
      "Epoch: [14][2816/5005]\tTime  0.712 ( 0.707)\tData  0.000 ( 0.003)\tLoss 2.9512e+00 (2.4815e+00)\tAcc@1  41.80 ( 45.32)\tAcc@5  65.23 ( 70.26)\n",
      "Epoch: [14][3072/5005]\tTime  0.700 ( 0.708)\tData  0.000 ( 0.003)\tLoss 2.3746e+00 (2.4835e+00)\tAcc@1  47.27 ( 45.30)\tAcc@5  73.05 ( 70.23)\n",
      "Epoch: [14][3328/5005]\tTime  0.741 ( 0.708)\tData  0.000 ( 0.003)\tLoss 2.5562e+00 (2.4843e+00)\tAcc@1  46.48 ( 45.30)\tAcc@5  66.02 ( 70.22)\n",
      "Epoch: [14][3584/5005]\tTime  0.701 ( 0.709)\tData  0.000 ( 0.003)\tLoss 2.5968e+00 (2.4843e+00)\tAcc@1  42.97 ( 45.30)\tAcc@5  67.97 ( 70.23)\n"
     ]
    },
    {
     "name": "stderr",
     "output_type": "stream",
     "text": [
      "/opt/conda/lib/python3.8/site-packages/PIL/TiffImagePlugin.py:788: UserWarning: Corrupt EXIF data.  Expecting to read 4 bytes but only got 0. \n",
      "  warnings.warn(str(msg))\n"
     ]
    },
    {
     "name": "stdout",
     "output_type": "stream",
     "text": [
      "Epoch: [14][3840/5005]\tTime  0.776 ( 0.710)\tData  0.000 ( 0.003)\tLoss 2.6530e+00 (2.4858e+00)\tAcc@1  43.36 ( 45.27)\tAcc@5  67.19 ( 70.20)\n",
      "Epoch: [14][4096/5005]\tTime  0.752 ( 0.713)\tData  0.000 ( 0.002)\tLoss 2.2032e+00 (2.4874e+00)\tAcc@1  48.83 ( 45.25)\tAcc@5  74.61 ( 70.18)\n",
      "Epoch: [14][4352/5005]\tTime  0.697 ( 0.714)\tData  0.000 ( 0.002)\tLoss 2.7027e+00 (2.4881e+00)\tAcc@1  44.92 ( 45.24)\tAcc@5  69.14 ( 70.17)\n",
      "Epoch: [14][4608/5005]\tTime  0.756 ( 0.714)\tData  0.000 ( 0.002)\tLoss 2.5481e+00 (2.4885e+00)\tAcc@1  42.97 ( 45.23)\tAcc@5  69.92 ( 70.18)\n",
      "Epoch: [14][4864/5005]\tTime  0.711 ( 0.714)\tData  0.000 ( 0.002)\tLoss 2.2068e+00 (2.4886e+00)\tAcc@1  47.66 ( 45.23)\tAcc@5  71.88 ( 70.18)\n",
      "Test: [  0/196]\tTime  2.268 ( 2.268)\tLoss 1.6012e+00 (1.6012e+00)\tAcc@1  60.16 ( 60.16)\tAcc@5  86.72 ( 86.72)\n",
      " * Acc@1 47.152 Acc@5 73.272\n",
      "lr: [0.1]\n",
      "Epoch: [15][   0/5005]\tTime  2.040 ( 2.040)\tData  1.763 ( 1.763)\tLoss 2.6606e+00 (2.6606e+00)\tAcc@1  41.02 ( 41.02)\tAcc@5  64.45 ( 64.45)\n"
     ]
    },
    {
     "name": "stderr",
     "output_type": "stream",
     "text": [
      "/opt/conda/lib/python3.8/site-packages/PIL/TiffImagePlugin.py:788: UserWarning: Corrupt EXIF data.  Expecting to read 4 bytes but only got 0. \n",
      "  warnings.warn(str(msg))\n"
     ]
    },
    {
     "name": "stdout",
     "output_type": "stream",
     "text": [
      "Epoch: [15][ 256/5005]\tTime  0.720 ( 0.708)\tData  0.000 ( 0.009)\tLoss 2.3590e+00 (2.4614e+00)\tAcc@1  50.00 ( 45.79)\tAcc@5  70.70 ( 70.66)\n",
      "Epoch: [15][ 512/5005]\tTime  0.700 ( 0.711)\tData  0.000 ( 0.005)\tLoss 2.4962e+00 (2.4608e+00)\tAcc@1  46.88 ( 45.73)\tAcc@5  70.70 ( 70.68)\n",
      "Epoch: [15][ 768/5005]\tTime  0.728 ( 0.713)\tData  0.000 ( 0.004)\tLoss 2.5850e+00 (2.4561e+00)\tAcc@1  39.84 ( 45.75)\tAcc@5  69.92 ( 70.69)\n",
      "Epoch: [15][1024/5005]\tTime  0.713 ( 0.710)\tData  0.000 ( 0.004)\tLoss 2.4399e+00 (2.4599e+00)\tAcc@1  46.09 ( 45.71)\tAcc@5  72.27 ( 70.70)\n",
      "Epoch: [15][1280/5005]\tTime  0.693 ( 0.712)\tData  0.000 ( 0.003)\tLoss 2.6008e+00 (2.4623e+00)\tAcc@1  44.92 ( 45.70)\tAcc@5  71.48 ( 70.62)\n",
      "Epoch: [15][1536/5005]\tTime  0.728 ( 0.710)\tData  0.000 ( 0.003)\tLoss 2.6891e+00 (2.4654e+00)\tAcc@1  40.62 ( 45.64)\tAcc@5  68.36 ( 70.55)\n",
      "Epoch: [15][1792/5005]\tTime  0.695 ( 0.710)\tData  0.000 ( 0.003)\tLoss 2.4380e+00 (2.4676e+00)\tAcc@1  48.05 ( 45.61)\tAcc@5  71.09 ( 70.52)\n",
      "Epoch: [15][2048/5005]\tTime  0.709 ( 0.711)\tData  0.000 ( 0.003)\tLoss 2.6628e+00 (2.4677e+00)\tAcc@1  41.02 ( 45.57)\tAcc@5  70.70 ( 70.54)\n",
      "Epoch: [15][2304/5005]\tTime  0.688 ( 0.709)\tData  0.000 ( 0.003)\tLoss 2.7243e+00 (2.4695e+00)\tAcc@1  43.36 ( 45.55)\tAcc@5  68.75 ( 70.51)\n",
      "Epoch: [15][2560/5005]\tTime  0.696 ( 0.707)\tData  0.000 ( 0.003)\tLoss 2.3922e+00 (2.4706e+00)\tAcc@1  43.36 ( 45.54)\tAcc@5  71.48 ( 70.49)\n",
      "Epoch: [15][2816/5005]\tTime  0.723 ( 0.707)\tData  0.000 ( 0.003)\tLoss 2.5847e+00 (2.4727e+00)\tAcc@1  46.09 ( 45.52)\tAcc@5  70.70 ( 70.45)\n",
      "Epoch: [15][3072/5005]\tTime  0.695 ( 0.707)\tData  0.000 ( 0.003)\tLoss 2.3928e+00 (2.4734e+00)\tAcc@1  45.70 ( 45.53)\tAcc@5  73.44 ( 70.45)\n",
      "Epoch: [15][3328/5005]\tTime  0.713 ( 0.708)\tData  0.000 ( 0.003)\tLoss 2.7429e+00 (2.4752e+00)\tAcc@1  43.75 ( 45.50)\tAcc@5  65.62 ( 70.42)\n",
      "Epoch: [15][3584/5005]\tTime  0.712 ( 0.707)\tData  0.000 ( 0.003)\tLoss 2.5754e+00 (2.4765e+00)\tAcc@1  43.36 ( 45.49)\tAcc@5  71.48 ( 70.39)\n",
      "Epoch: [15][3840/5005]\tTime  0.698 ( 0.708)\tData  0.000 ( 0.002)\tLoss 2.5205e+00 (2.4776e+00)\tAcc@1  42.97 ( 45.46)\tAcc@5  69.14 ( 70.37)\n",
      "Epoch: [15][4096/5005]\tTime  0.723 ( 0.708)\tData  0.000 ( 0.002)\tLoss 2.4294e+00 (2.4777e+00)\tAcc@1  44.14 ( 45.46)\tAcc@5  72.66 ( 70.37)\n",
      "Epoch: [15][4352/5005]\tTime  0.699 ( 0.708)\tData  0.000 ( 0.002)\tLoss 2.2751e+00 (2.4785e+00)\tAcc@1  49.22 ( 45.46)\tAcc@5  73.05 ( 70.35)\n",
      "Epoch: [15][4608/5005]\tTime  0.708 ( 0.708)\tData  0.000 ( 0.002)\tLoss 2.4427e+00 (2.4782e+00)\tAcc@1  44.92 ( 45.44)\tAcc@5  71.48 ( 70.36)\n",
      "Epoch: [15][4864/5005]\tTime  0.709 ( 0.708)\tData  0.000 ( 0.002)\tLoss 2.4158e+00 (2.4781e+00)\tAcc@1  44.92 ( 45.43)\tAcc@5  71.09 ( 70.36)\n",
      "Test: [  0/196]\tTime  2.246 ( 2.246)\tLoss 1.3305e+00 (1.3305e+00)\tAcc@1  67.58 ( 67.58)\tAcc@5  89.84 ( 89.84)\n",
      " * Acc@1 47.922 Acc@5 74.450\n",
      "lr: [0.1]\n",
      "Epoch: [16][   0/5005]\tTime  2.235 ( 2.235)\tData  1.924 ( 1.924)\tLoss 2.3710e+00 (2.3710e+00)\tAcc@1  47.66 ( 47.66)\tAcc@5  71.09 ( 71.09)\n",
      "Epoch: [16][ 256/5005]\tTime  0.728 ( 0.712)\tData  0.000 ( 0.009)\tLoss 2.6446e+00 (2.4282e+00)\tAcc@1  44.14 ( 46.37)\tAcc@5  66.02 ( 71.02)\n",
      "Epoch: [16][ 512/5005]\tTime  0.703 ( 0.711)\tData  0.000 ( 0.006)\tLoss 2.5909e+00 (2.4433e+00)\tAcc@1  39.45 ( 46.05)\tAcc@5  68.75 ( 70.82)\n",
      "Epoch: [16][ 768/5005]\tTime  0.705 ( 0.714)\tData  0.000 ( 0.005)\tLoss 2.4195e+00 (2.4514e+00)\tAcc@1  47.66 ( 45.91)\tAcc@5  69.53 ( 70.72)\n",
      "Epoch: [16][1024/5005]\tTime  0.712 ( 0.711)\tData  0.000 ( 0.004)\tLoss 2.4591e+00 (2.4551e+00)\tAcc@1  47.66 ( 45.84)\tAcc@5  69.92 ( 70.70)\n"
     ]
    },
    {
     "name": "stderr",
     "output_type": "stream",
     "text": [
      "/opt/conda/lib/python3.8/site-packages/PIL/TiffImagePlugin.py:788: UserWarning: Corrupt EXIF data.  Expecting to read 4 bytes but only got 0. \n",
      "  warnings.warn(str(msg))\n"
     ]
    },
    {
     "name": "stdout",
     "output_type": "stream",
     "text": [
      "Epoch: [16][1280/5005]\tTime  0.695 ( 0.713)\tData  0.000 ( 0.004)\tLoss 2.4067e+00 (2.4564e+00)\tAcc@1  48.83 ( 45.79)\tAcc@5  69.53 ( 70.67)\n",
      "Epoch: [16][1536/5005]\tTime  0.749 ( 0.713)\tData  0.000 ( 0.003)\tLoss 2.5592e+00 (2.4580e+00)\tAcc@1  42.58 ( 45.75)\tAcc@5  69.14 ( 70.65)\n",
      "Epoch: [16][1792/5005]\tTime  0.702 ( 0.712)\tData  0.000 ( 0.003)\tLoss 2.2440e+00 (2.4574e+00)\tAcc@1  51.95 ( 45.75)\tAcc@5  73.83 ( 70.67)\n",
      "Epoch: [16][2048/5005]\tTime  0.700 ( 0.714)\tData  0.000 ( 0.003)\tLoss 2.6436e+00 (2.4601e+00)\tAcc@1  44.92 ( 45.72)\tAcc@5  69.14 ( 70.62)\n",
      "Epoch: [16][2304/5005]\tTime  0.688 ( 0.711)\tData  0.000 ( 0.003)\tLoss 2.7308e+00 (2.4634e+00)\tAcc@1  35.94 ( 45.65)\tAcc@5  68.36 ( 70.57)\n",
      "Epoch: [16][2560/5005]\tTime  0.699 ( 0.709)\tData  0.000 ( 0.003)\tLoss 2.4125e+00 (2.4644e+00)\tAcc@1  46.88 ( 45.66)\tAcc@5  69.92 ( 70.57)\n",
      "Epoch: [16][2816/5005]\tTime  0.751 ( 0.710)\tData  0.000 ( 0.003)\tLoss 2.5087e+00 (2.4646e+00)\tAcc@1  45.70 ( 45.65)\tAcc@5  67.58 ( 70.59)\n",
      "Epoch: [16][3072/5005]\tTime  0.708 ( 0.710)\tData  0.000 ( 0.003)\tLoss 2.4828e+00 (2.4655e+00)\tAcc@1  49.22 ( 45.64)\tAcc@5  70.70 ( 70.56)\n",
      "Epoch: [16][3328/5005]\tTime  0.703 ( 0.711)\tData  0.000 ( 0.003)\tLoss 2.4883e+00 (2.4658e+00)\tAcc@1  45.70 ( 45.64)\tAcc@5  71.88 ( 70.57)\n",
      "Epoch: [16][3584/5005]\tTime  0.723 ( 0.710)\tData  0.000 ( 0.003)\tLoss 2.4208e+00 (2.4677e+00)\tAcc@1  48.44 ( 45.62)\tAcc@5  72.27 ( 70.53)\n",
      "Epoch: [16][3840/5005]\tTime  0.701 ( 0.711)\tData  0.000 ( 0.003)\tLoss 2.2455e+00 (2.4675e+00)\tAcc@1  48.05 ( 45.63)\tAcc@5  75.39 ( 70.54)\n",
      "Epoch: [16][4096/5005]\tTime  0.753 ( 0.711)\tData  0.000 ( 0.003)\tLoss 2.3824e+00 (2.4684e+00)\tAcc@1  47.66 ( 45.62)\tAcc@5  72.27 ( 70.52)\n",
      "Epoch: [16][4352/5005]\tTime  0.703 ( 0.711)\tData  0.000 ( 0.002)\tLoss 2.5133e+00 (2.4689e+00)\tAcc@1  44.92 ( 45.62)\tAcc@5  71.88 ( 70.51)\n",
      "Epoch: [16][4608/5005]\tTime  0.695 ( 0.711)\tData  0.000 ( 0.002)\tLoss 2.5779e+00 (2.4704e+00)\tAcc@1  48.05 ( 45.60)\tAcc@5  68.36 ( 70.49)\n",
      "Epoch: [16][4864/5005]\tTime  0.716 ( 0.710)\tData  0.000 ( 0.002)\tLoss 2.7625e+00 (2.4703e+00)\tAcc@1  39.06 ( 45.60)\tAcc@5  67.58 ( 70.49)\n",
      "Test: [  0/196]\tTime  2.296 ( 2.296)\tLoss 1.6200e+00 (1.6200e+00)\tAcc@1  56.64 ( 56.64)\tAcc@5  87.11 ( 87.11)\n",
      " * Acc@1 48.286 Acc@5 74.360\n",
      "lr: [0.1]\n",
      "Epoch: [17][   0/5005]\tTime  2.023 ( 2.023)\tData  1.745 ( 1.745)\tLoss 2.3195e+00 (2.3195e+00)\tAcc@1  51.17 ( 51.17)\tAcc@5  70.31 ( 70.31)\n",
      "Epoch: [17][ 256/5005]\tTime  0.728 ( 0.716)\tData  0.000 ( 0.009)\tLoss 2.3200e+00 (2.4311e+00)\tAcc@1  47.27 ( 46.26)\tAcc@5  74.61 ( 71.00)\n",
      "Epoch: [17][ 512/5005]\tTime  0.703 ( 0.708)\tData  0.000 ( 0.005)\tLoss 2.6765e+00 (2.4391e+00)\tAcc@1  42.97 ( 46.09)\tAcc@5  64.84 ( 70.93)\n",
      "Epoch: [17][ 768/5005]\tTime  0.696 ( 0.710)\tData  0.000 ( 0.004)\tLoss 2.3609e+00 (2.4483e+00)\tAcc@1  47.27 ( 45.99)\tAcc@5  73.05 ( 70.80)\n",
      "Epoch: [17][1024/5005]\tTime  0.720 ( 0.709)\tData  0.000 ( 0.004)\tLoss 2.4067e+00 (2.4513e+00)\tAcc@1  48.83 ( 45.90)\tAcc@5  72.66 ( 70.74)\n",
      "Epoch: [17][1280/5005]\tTime  0.701 ( 0.709)\tData  0.000 ( 0.003)\tLoss 2.4627e+00 (2.4510e+00)\tAcc@1  47.27 ( 45.94)\tAcc@5  68.75 ( 70.75)\n",
      "Epoch: [17][1536/5005]\tTime  0.712 ( 0.710)\tData  0.000 ( 0.003)\tLoss 2.7093e+00 (2.4523e+00)\tAcc@1  39.06 ( 45.90)\tAcc@5  62.89 ( 70.73)\n",
      "Epoch: [17][1792/5005]\tTime  0.707 ( 0.708)\tData  0.000 ( 0.003)\tLoss 2.4805e+00 (2.4524e+00)\tAcc@1  44.53 ( 45.92)\tAcc@5  70.31 ( 70.74)\n",
      "Epoch: [17][2048/5005]\tTime  0.693 ( 0.709)\tData  0.000 ( 0.003)\tLoss 2.4407e+00 (2.4551e+00)\tAcc@1  45.31 ( 45.85)\tAcc@5  72.27 ( 70.71)\n",
      "Epoch: [17][2304/5005]\tTime  0.698 ( 0.707)\tData  0.000 ( 0.003)\tLoss 2.8143e+00 (2.4579e+00)\tAcc@1  35.16 ( 45.77)\tAcc@5  63.67 ( 70.67)\n",
      "Epoch: [17][2560/5005]\tTime  0.694 ( 0.705)\tData  0.000 ( 0.003)\tLoss 2.1652e+00 (2.4584e+00)\tAcc@1  50.00 ( 45.75)\tAcc@5  77.34 ( 70.66)\n",
      "Epoch: [17][2816/5005]\tTime  0.717 ( 0.706)\tData  0.000 ( 0.003)\tLoss 2.5476e+00 (2.4607e+00)\tAcc@1  45.31 ( 45.71)\tAcc@5  68.75 ( 70.61)\n",
      "Epoch: [17][3072/5005]\tTime  0.708 ( 0.706)\tData  0.000 ( 0.003)\tLoss 2.6328e+00 (2.4615e+00)\tAcc@1  46.09 ( 45.71)\tAcc@5  65.23 ( 70.59)\n",
      "Epoch: [17][3328/5005]\tTime  0.699 ( 0.707)\tData  0.000 ( 0.003)\tLoss 2.3684e+00 (2.4617e+00)\tAcc@1  45.70 ( 45.71)\tAcc@5  69.92 ( 70.58)\n",
      "Epoch: [17][3584/5005]\tTime  0.732 ( 0.707)\tData  0.000 ( 0.003)\tLoss 2.3240e+00 (2.4623e+00)\tAcc@1  48.05 ( 45.70)\tAcc@5  73.83 ( 70.58)\n",
      "Epoch: [17][3840/5005]\tTime  0.698 ( 0.707)\tData  0.000 ( 0.002)\tLoss 2.6127e+00 (2.4631e+00)\tAcc@1  42.97 ( 45.68)\tAcc@5  68.36 ( 70.57)\n",
      "Epoch: [17][4096/5005]\tTime  0.708 ( 0.708)\tData  0.000 ( 0.002)\tLoss 2.5313e+00 (2.4623e+00)\tAcc@1  44.14 ( 45.69)\tAcc@5  67.97 ( 70.59)\n",
      "Epoch: [17][4352/5005]\tTime  0.711 ( 0.707)\tData  0.000 ( 0.002)\tLoss 2.4969e+00 (2.4627e+00)\tAcc@1  41.41 ( 45.68)\tAcc@5  68.36 ( 70.58)\n"
     ]
    },
    {
     "name": "stderr",
     "output_type": "stream",
     "text": [
      "/opt/conda/lib/python3.8/site-packages/PIL/TiffImagePlugin.py:788: UserWarning: Corrupt EXIF data.  Expecting to read 4 bytes but only got 0. \n",
      "  warnings.warn(str(msg))\n"
     ]
    },
    {
     "name": "stdout",
     "output_type": "stream",
     "text": [
      "Epoch: [17][4608/5005]\tTime  0.698 ( 0.708)\tData  0.000 ( 0.002)\tLoss 2.8634e+00 (2.4636e+00)\tAcc@1  39.84 ( 45.66)\tAcc@5  61.33 ( 70.57)\n",
      "Epoch: [17][4864/5005]\tTime  0.746 ( 0.708)\tData  0.000 ( 0.002)\tLoss 2.5998e+00 (2.4637e+00)\tAcc@1  43.36 ( 45.66)\tAcc@5  69.14 ( 70.56)\n",
      "Test: [  0/196]\tTime  2.331 ( 2.331)\tLoss 1.6131e+00 (1.6131e+00)\tAcc@1  62.89 ( 62.89)\tAcc@5  83.98 ( 83.98)\n",
      " * Acc@1 45.968 Acc@5 72.736\n",
      "lr: [0.1]\n",
      "Epoch: [18][   0/5005]\tTime  2.026 ( 2.026)\tData  1.703 ( 1.703)\tLoss 2.5922e+00 (2.5922e+00)\tAcc@1  44.14 ( 44.14)\tAcc@5  69.53 ( 69.53)\n",
      "Epoch: [18][ 256/5005]\tTime  0.709 ( 0.723)\tData  0.000 ( 0.009)\tLoss 2.2839e+00 (2.4241e+00)\tAcc@1  50.78 ( 46.33)\tAcc@5  72.27 ( 71.29)\n",
      "Epoch: [18][ 512/5005]\tTime  0.716 ( 0.713)\tData  0.000 ( 0.005)\tLoss 2.5337e+00 (2.4219e+00)\tAcc@1  45.70 ( 46.41)\tAcc@5  70.31 ( 71.29)\n",
      "Epoch: [18][ 768/5005]\tTime  0.698 ( 0.715)\tData  0.000 ( 0.004)\tLoss 2.5004e+00 (2.4274e+00)\tAcc@1  42.58 ( 46.28)\tAcc@5  69.92 ( 71.20)\n",
      "Epoch: [18][1024/5005]\tTime  0.751 ( 0.715)\tData  0.000 ( 0.004)\tLoss 2.6391e+00 (2.4358e+00)\tAcc@1  42.97 ( 46.14)\tAcc@5  69.53 ( 71.02)\n",
      "Epoch: [18][1280/5005]\tTime  0.704 ( 0.714)\tData  0.000 ( 0.003)\tLoss 2.4116e+00 (2.4412e+00)\tAcc@1  49.61 ( 46.10)\tAcc@5  71.88 ( 70.89)\n",
      "Epoch: [18][1536/5005]\tTime  0.704 ( 0.715)\tData  0.000 ( 0.003)\tLoss 2.2978e+00 (2.4400e+00)\tAcc@1  50.39 ( 46.12)\tAcc@5  72.66 ( 70.95)\n",
      "Epoch: [18][1792/5005]\tTime  0.715 ( 0.713)\tData  0.000 ( 0.003)\tLoss 2.5894e+00 (2.4415e+00)\tAcc@1  42.97 ( 46.06)\tAcc@5  69.14 ( 70.94)\n",
      "Epoch: [18][2048/5005]\tTime  0.688 ( 0.713)\tData  0.000 ( 0.003)\tLoss 2.5146e+00 (2.4448e+00)\tAcc@1  48.05 ( 46.01)\tAcc@5  70.31 ( 70.90)\n",
      "Epoch: [18][2304/5005]\tTime  0.688 ( 0.710)\tData  0.000 ( 0.003)\tLoss 2.7828e+00 (2.4500e+00)\tAcc@1  41.80 ( 45.92)\tAcc@5  64.84 ( 70.81)\n",
      "Epoch: [18][2560/5005]\tTime  0.697 ( 0.709)\tData  0.000 ( 0.003)\tLoss 2.6372e+00 (2.4531e+00)\tAcc@1  44.14 ( 45.84)\tAcc@5  67.19 ( 70.75)\n",
      "Epoch: [18][2816/5005]\tTime  0.696 ( 0.709)\tData  0.000 ( 0.003)\tLoss 2.1927e+00 (2.4534e+00)\tAcc@1  49.22 ( 45.84)\tAcc@5  78.12 ( 70.76)\n",
      "Epoch: [18][3072/5005]\tTime  0.710 ( 0.708)\tData  0.000 ( 0.003)\tLoss 2.7217e+00 (2.4531e+00)\tAcc@1  43.75 ( 45.84)\tAcc@5  66.02 ( 70.76)\n",
      "Epoch: [18][3328/5005]\tTime  0.693 ( 0.709)\tData  0.000 ( 0.003)\tLoss 2.3671e+00 (2.4554e+00)\tAcc@1  50.78 ( 45.82)\tAcc@5  73.83 ( 70.72)\n",
      "Epoch: [18][3584/5005]\tTime  0.741 ( 0.709)\tData  0.000 ( 0.002)\tLoss 2.4432e+00 (2.4569e+00)\tAcc@1  47.27 ( 45.80)\tAcc@5  69.53 ( 70.70)\n",
      "Epoch: [18][3840/5005]\tTime  0.704 ( 0.708)\tData  0.000 ( 0.002)\tLoss 2.2921e+00 (2.4578e+00)\tAcc@1  50.78 ( 45.79)\tAcc@5  75.39 ( 70.70)\n",
      "Epoch: [18][4096/5005]\tTime  0.698 ( 0.709)\tData  0.000 ( 0.002)\tLoss 2.4405e+00 (2.4578e+00)\tAcc@1  44.92 ( 45.79)\tAcc@5  71.88 ( 70.70)\n",
      "Epoch: [18][4352/5005]\tTime  0.720 ( 0.708)\tData  0.000 ( 0.002)\tLoss 2.2282e+00 (2.4581e+00)\tAcc@1  48.44 ( 45.78)\tAcc@5  76.95 ( 70.72)\n",
      "Epoch: [18][4608/5005]\tTime  0.692 ( 0.708)\tData  0.000 ( 0.002)\tLoss 2.5763e+00 (2.4587e+00)\tAcc@1  41.80 ( 45.78)\tAcc@5  70.31 ( 70.70)\n"
     ]
    },
    {
     "name": "stderr",
     "output_type": "stream",
     "text": [
      "/opt/conda/lib/python3.8/site-packages/PIL/TiffImagePlugin.py:788: UserWarning: Corrupt EXIF data.  Expecting to read 4 bytes but only got 0. \n",
      "  warnings.warn(str(msg))\n"
     ]
    },
    {
     "name": "stdout",
     "output_type": "stream",
     "text": [
      "Epoch: [18][4864/5005]\tTime  0.752 ( 0.709)\tData  0.000 ( 0.002)\tLoss 2.4442e+00 (2.4588e+00)\tAcc@1  47.66 ( 45.79)\tAcc@5  72.66 ( 70.69)\n",
      "Test: [  0/196]\tTime  2.315 ( 2.315)\tLoss 1.9071e+00 (1.9071e+00)\tAcc@1  58.59 ( 58.59)\tAcc@5  82.42 ( 82.42)\n",
      " * Acc@1 45.228 Acc@5 71.542\n",
      "lr: [0.1]\n",
      "Epoch: [19][   0/5005]\tTime  2.155 ( 2.155)\tData  1.879 ( 1.879)\tLoss 2.2569e+00 (2.2569e+00)\tAcc@1  51.56 ( 51.56)\tAcc@5  73.83 ( 73.83)\n",
      "Epoch: [19][ 256/5005]\tTime  0.690 ( 0.718)\tData  0.000 ( 0.009)\tLoss 2.4295e+00 (2.4126e+00)\tAcc@1  44.14 ( 46.69)\tAcc@5  71.88 ( 71.53)\n",
      "Epoch: [19][ 512/5005]\tTime  0.722 ( 0.710)\tData  0.000 ( 0.006)\tLoss 2.3840e+00 (2.4122e+00)\tAcc@1  46.88 ( 46.41)\tAcc@5  70.31 ( 71.50)\n",
      "Epoch: [19][ 768/5005]\tTime  0.697 ( 0.711)\tData  0.000 ( 0.004)\tLoss 2.5270e+00 (2.4169e+00)\tAcc@1  43.36 ( 46.39)\tAcc@5  68.36 ( 71.43)\n",
      "Epoch: [19][1024/5005]\tTime  0.728 ( 0.712)\tData  0.000 ( 0.004)\tLoss 2.4475e+00 (2.4241e+00)\tAcc@1  43.75 ( 46.32)\tAcc@5  68.75 ( 71.27)\n",
      "Epoch: [19][1280/5005]\tTime  0.705 ( 0.710)\tData  0.000 ( 0.003)\tLoss 2.5472e+00 (2.4277e+00)\tAcc@1  43.36 ( 46.28)\tAcc@5  69.14 ( 71.21)\n",
      "Epoch: [19][1536/5005]\tTime  0.701 ( 0.711)\tData  0.000 ( 0.003)\tLoss 2.6237e+00 (2.4271e+00)\tAcc@1  43.75 ( 46.31)\tAcc@5  65.23 ( 71.23)\n",
      "Epoch: [19][1792/5005]\tTime  0.717 ( 0.710)\tData  0.000 ( 0.003)\tLoss 2.4600e+00 (2.4290e+00)\tAcc@1  48.83 ( 46.28)\tAcc@5  71.48 ( 71.21)\n",
      "Epoch: [19][2048/5005]\tTime  0.689 ( 0.710)\tData  0.000 ( 0.003)\tLoss 2.8742e+00 (2.4322e+00)\tAcc@1  37.89 ( 46.23)\tAcc@5  63.67 ( 71.15)\n",
      "Epoch: [19][2304/5005]\tTime  0.691 ( 0.708)\tData  0.000 ( 0.003)\tLoss 2.3531e+00 (2.4352e+00)\tAcc@1  48.05 ( 46.18)\tAcc@5  73.44 ( 71.09)\n",
      "Epoch: [19][2560/5005]\tTime  0.704 ( 0.707)\tData  0.000 ( 0.003)\tLoss 2.4141e+00 (2.4364e+00)\tAcc@1  47.66 ( 46.13)\tAcc@5  70.70 ( 71.07)\n",
      "Epoch: [19][2816/5005]\tTime  0.700 ( 0.708)\tData  0.000 ( 0.003)\tLoss 2.4878e+00 (2.4377e+00)\tAcc@1  48.44 ( 46.10)\tAcc@5  69.14 ( 71.05)\n",
      "Epoch: [19][3072/5005]\tTime  0.727 ( 0.707)\tData  0.000 ( 0.003)\tLoss 2.5601e+00 (2.4389e+00)\tAcc@1  46.48 ( 46.07)\tAcc@5  67.58 ( 71.03)\n",
      "Epoch: [19][3328/5005]\tTime  0.700 ( 0.708)\tData  0.000 ( 0.003)\tLoss 2.6581e+00 (2.4409e+00)\tAcc@1  45.70 ( 46.04)\tAcc@5  67.19 ( 70.99)\n",
      "Epoch: [19][3584/5005]\tTime  0.718 ( 0.709)\tData  0.000 ( 0.003)\tLoss 2.2944e+00 (2.4433e+00)\tAcc@1  48.05 ( 46.01)\tAcc@5  73.83 ( 70.95)\n"
     ]
    },
    {
     "name": "stderr",
     "output_type": "stream",
     "text": [
      "/opt/conda/lib/python3.8/site-packages/PIL/TiffImagePlugin.py:788: UserWarning: Corrupt EXIF data.  Expecting to read 4 bytes but only got 0. \n",
      "  warnings.warn(str(msg))\n"
     ]
    },
    {
     "name": "stdout",
     "output_type": "stream",
     "text": [
      "Epoch: [19][3840/5005]\tTime  0.707 ( 0.709)\tData  0.000 ( 0.003)\tLoss 2.5031e+00 (2.4443e+00)\tAcc@1  43.75 ( 46.00)\tAcc@5  71.09 ( 70.94)\n",
      "Epoch: [19][4096/5005]\tTime  0.702 ( 0.709)\tData  0.000 ( 0.002)\tLoss 2.5343e+00 (2.4453e+00)\tAcc@1  46.88 ( 45.99)\tAcc@5  70.31 ( 70.93)\n",
      "Epoch: [19][4352/5005]\tTime  0.732 ( 0.709)\tData  0.000 ( 0.002)\tLoss 2.3671e+00 (2.4470e+00)\tAcc@1  50.39 ( 45.96)\tAcc@5  75.39 ( 70.91)\n",
      "Epoch: [19][4608/5005]\tTime  0.700 ( 0.709)\tData  0.000 ( 0.002)\tLoss 2.5789e+00 (2.4488e+00)\tAcc@1  43.36 ( 45.93)\tAcc@5  69.14 ( 70.89)\n",
      "Epoch: [19][4864/5005]\tTime  0.702 ( 0.710)\tData  0.000 ( 0.002)\tLoss 2.1710e+00 (2.4494e+00)\tAcc@1  54.69 ( 45.92)\tAcc@5  75.00 ( 70.88)\n",
      "Test: [  0/196]\tTime  2.349 ( 2.349)\tLoss 1.3257e+00 (1.3257e+00)\tAcc@1  68.75 ( 68.75)\tAcc@5  89.84 ( 89.84)\n",
      " * Acc@1 48.790 Acc@5 75.094\n",
      "lr: [0.1]\n",
      "Epoch: [20][   0/5005]\tTime  2.055 ( 2.055)\tData  1.762 ( 1.762)\tLoss 2.5921e+00 (2.5921e+00)\tAcc@1  43.36 ( 43.36)\tAcc@5  67.97 ( 67.97)\n",
      "Epoch: [20][ 256/5005]\tTime  0.699 ( 0.714)\tData  0.000 ( 0.009)\tLoss 2.1389e+00 (2.1594e+00)\tAcc@1  53.12 ( 51.72)\tAcc@5  73.44 ( 75.44)\n",
      "Epoch: [20][ 512/5005]\tTime  0.725 ( 0.711)\tData  0.000 ( 0.005)\tLoss 1.8535e+00 (2.1037e+00)\tAcc@1  57.81 ( 52.99)\tAcc@5  80.86 ( 76.23)\n",
      "Epoch: [20][ 768/5005]\tTime  0.697 ( 0.709)\tData  0.000 ( 0.004)\tLoss 2.0248e+00 (2.0733e+00)\tAcc@1  53.12 ( 53.60)\tAcc@5  76.17 ( 76.73)\n",
      "Epoch: [20][1024/5005]\tTime  0.707 ( 0.711)\tData  0.000 ( 0.004)\tLoss 1.9701e+00 (2.0514e+00)\tAcc@1  52.34 ( 54.05)\tAcc@5  78.52 ( 77.06)\n",
      "Epoch: [20][1280/5005]\tTime  0.709 ( 0.709)\tData  0.000 ( 0.003)\tLoss 1.9005e+00 (2.0361e+00)\tAcc@1  54.30 ( 54.31)\tAcc@5  79.69 ( 77.23)\n",
      "Epoch: [20][1536/5005]\tTime  0.688 ( 0.709)\tData  0.000 ( 0.003)\tLoss 1.8467e+00 (2.0227e+00)\tAcc@1  57.42 ( 54.53)\tAcc@5  79.69 ( 77.42)\n",
      "Epoch: [20][1792/5005]\tTime  0.732 ( 0.709)\tData  0.000 ( 0.003)\tLoss 1.6908e+00 (2.0135e+00)\tAcc@1  58.59 ( 54.74)\tAcc@5  86.72 ( 77.54)\n"
     ]
    },
    {
     "name": "stderr",
     "output_type": "stream",
     "text": [
      "/opt/conda/lib/python3.8/site-packages/PIL/TiffImagePlugin.py:788: UserWarning: Corrupt EXIF data.  Expecting to read 4 bytes but only got 0. \n",
      "  warnings.warn(str(msg))\n"
     ]
    },
    {
     "name": "stdout",
     "output_type": "stream",
     "text": [
      "Epoch: [20][2048/5005]\tTime  0.688 ( 0.708)\tData  0.000 ( 0.003)\tLoss 1.6782e+00 (2.0025e+00)\tAcc@1  61.33 ( 54.95)\tAcc@5  83.20 ( 77.70)\n",
      "Epoch: [20][2304/5005]\tTime  0.690 ( 0.706)\tData  0.000 ( 0.003)\tLoss 1.9050e+00 (1.9959e+00)\tAcc@1  56.25 ( 55.09)\tAcc@5  77.73 ( 77.79)\n",
      "Epoch: [20][2560/5005]\tTime  0.710 ( 0.705)\tData  0.000 ( 0.003)\tLoss 2.0252e+00 (1.9875e+00)\tAcc@1  58.98 ( 55.22)\tAcc@5  75.39 ( 77.91)\n",
      "Epoch: [20][2816/5005]\tTime  0.694 ( 0.706)\tData  0.000 ( 0.003)\tLoss 1.8441e+00 (1.9795e+00)\tAcc@1  59.38 ( 55.38)\tAcc@5  78.52 ( 78.02)\n",
      "Epoch: [20][3072/5005]\tTime  0.729 ( 0.706)\tData  0.000 ( 0.003)\tLoss 1.7550e+00 (1.9730e+00)\tAcc@1  57.81 ( 55.49)\tAcc@5  80.47 ( 78.11)\n",
      "Epoch: [20][3328/5005]\tTime  0.706 ( 0.706)\tData  0.000 ( 0.003)\tLoss 1.9443e+00 (1.9660e+00)\tAcc@1  57.81 ( 55.61)\tAcc@5  79.69 ( 78.21)\n",
      "Epoch: [20][3584/5005]\tTime  0.700 ( 0.707)\tData  0.000 ( 0.003)\tLoss 1.7950e+00 (1.9598e+00)\tAcc@1  57.42 ( 55.75)\tAcc@5  82.42 ( 78.29)\n",
      "Epoch: [20][3840/5005]\tTime  0.708 ( 0.706)\tData  0.000 ( 0.002)\tLoss 1.8465e+00 (1.9543e+00)\tAcc@1  60.16 ( 55.86)\tAcc@5  79.30 ( 78.38)\n",
      "Epoch: [20][4096/5005]\tTime  0.696 ( 0.707)\tData  0.000 ( 0.002)\tLoss 1.8628e+00 (1.9495e+00)\tAcc@1  57.03 ( 55.95)\tAcc@5  82.81 ( 78.46)\n",
      "Epoch: [20][4352/5005]\tTime  0.747 ( 0.707)\tData  0.000 ( 0.002)\tLoss 1.5964e+00 (1.9452e+00)\tAcc@1  61.33 ( 56.04)\tAcc@5  83.59 ( 78.51)\n",
      "Epoch: [20][4608/5005]\tTime  0.704 ( 0.707)\tData  0.000 ( 0.002)\tLoss 1.7544e+00 (1.9405e+00)\tAcc@1  60.16 ( 56.13)\tAcc@5  81.25 ( 78.58)\n",
      "Epoch: [20][4864/5005]\tTime  0.699 ( 0.708)\tData  0.000 ( 0.002)\tLoss 1.7237e+00 (1.9365e+00)\tAcc@1  59.77 ( 56.20)\tAcc@5  80.47 ( 78.63)\n",
      "Test: [  0/196]\tTime  2.257 ( 2.257)\tLoss 9.9092e-01 (9.9092e-01)\tAcc@1  71.88 ( 71.88)\tAcc@5  92.19 ( 92.19)\n",
      " * Acc@1 62.146 Acc@5 84.292\n",
      "lr: [0.1]\n",
      "Epoch: [21][   0/5005]\tTime  2.199 ( 2.199)\tData  1.920 ( 1.920)\tLoss 1.7276e+00 (1.7276e+00)\tAcc@1  62.11 ( 62.11)\tAcc@5  80.86 ( 80.86)\n",
      "Epoch: [21][ 256/5005]\tTime  0.695 ( 0.716)\tData  0.000 ( 0.009)\tLoss 1.8949e+00 (1.8399e+00)\tAcc@1  57.81 ( 57.90)\tAcc@5  80.47 ( 79.90)\n",
      "Epoch: [21][ 512/5005]\tTime  0.752 ( 0.716)\tData  0.000 ( 0.006)\tLoss 1.9131e+00 (1.8393e+00)\tAcc@1  56.25 ( 58.06)\tAcc@5  81.25 ( 79.85)\n",
      "Epoch: [21][ 768/5005]\tTime  0.709 ( 0.713)\tData  0.000 ( 0.005)\tLoss 1.9286e+00 (1.8385e+00)\tAcc@1  57.81 ( 58.12)\tAcc@5  75.78 ( 79.99)\n",
      "Epoch: [21][1024/5005]\tTime  0.704 ( 0.715)\tData  0.000 ( 0.004)\tLoss 1.9696e+00 (1.8364e+00)\tAcc@1  56.64 ( 58.18)\tAcc@5  79.30 ( 80.00)\n",
      "Epoch: [21][1280/5005]\tTime  0.723 ( 0.713)\tData  0.000 ( 0.004)\tLoss 1.8628e+00 (1.8366e+00)\tAcc@1  57.42 ( 58.17)\tAcc@5  80.86 ( 80.03)\n",
      "Epoch: [21][1536/5005]\tTime  0.706 ( 0.713)\tData  0.000 ( 0.003)\tLoss 1.7654e+00 (1.8338e+00)\tAcc@1  62.50 ( 58.25)\tAcc@5  83.20 ( 80.06)\n",
      "Epoch: [21][1792/5005]\tTime  0.726 ( 0.714)\tData  0.000 ( 0.003)\tLoss 1.7513e+00 (1.8325e+00)\tAcc@1  60.55 ( 58.26)\tAcc@5  80.86 ( 80.07)\n",
      "Epoch: [21][2048/5005]\tTime  0.698 ( 0.712)\tData  0.000 ( 0.003)\tLoss 1.6526e+00 (1.8311e+00)\tAcc@1  56.25 ( 58.28)\tAcc@5  82.42 ( 80.09)\n",
      "Epoch: [21][2304/5005]\tTime  0.694 ( 0.710)\tData  0.000 ( 0.003)\tLoss 1.8103e+00 (1.8296e+00)\tAcc@1  60.94 ( 58.31)\tAcc@5  78.12 ( 80.11)\n",
      "Epoch: [21][2560/5005]\tTime  0.726 ( 0.709)\tData  0.000 ( 0.003)\tLoss 1.7114e+00 (1.8283e+00)\tAcc@1  57.03 ( 58.33)\tAcc@5  83.20 ( 80.14)\n",
      "Epoch: [21][2816/5005]\tTime  0.700 ( 0.710)\tData  0.000 ( 0.003)\tLoss 1.8450e+00 (1.8264e+00)\tAcc@1  58.20 ( 58.38)\tAcc@5  80.86 ( 80.17)\n",
      "Epoch: [21][3072/5005]\tTime  0.725 ( 0.711)\tData  0.000 ( 0.003)\tLoss 1.7191e+00 (1.8253e+00)\tAcc@1  62.50 ( 58.39)\tAcc@5  78.91 ( 80.19)\n",
      "Epoch: [21][3328/5005]\tTime  0.708 ( 0.710)\tData  0.000 ( 0.003)\tLoss 1.8070e+00 (1.8237e+00)\tAcc@1  58.20 ( 58.42)\tAcc@5  78.52 ( 80.22)\n",
      "Epoch: [21][3584/5005]\tTime  0.697 ( 0.711)\tData  0.000 ( 0.003)\tLoss 1.8652e+00 (1.8223e+00)\tAcc@1  55.86 ( 58.45)\tAcc@5  80.08 ( 80.26)\n",
      "Epoch: [21][3840/5005]\tTime  0.727 ( 0.710)\tData  0.000 ( 0.003)\tLoss 1.7522e+00 (1.8215e+00)\tAcc@1  59.38 ( 58.45)\tAcc@5  81.64 ( 80.28)\n",
      "Epoch: [21][4096/5005]\tTime  0.701 ( 0.710)\tData  0.000 ( 0.003)\tLoss 1.9252e+00 (1.8206e+00)\tAcc@1  62.11 ( 58.47)\tAcc@5  79.30 ( 80.30)\n",
      "Epoch: [21][4352/5005]\tTime  0.712 ( 0.711)\tData  0.000 ( 0.002)\tLoss 1.7612e+00 (1.8197e+00)\tAcc@1  61.33 ( 58.49)\tAcc@5  81.64 ( 80.32)\n"
     ]
    },
    {
     "name": "stderr",
     "output_type": "stream",
     "text": [
      "/opt/conda/lib/python3.8/site-packages/PIL/TiffImagePlugin.py:788: UserWarning: Corrupt EXIF data.  Expecting to read 4 bytes but only got 0. \n",
      "  warnings.warn(str(msg))\n"
     ]
    },
    {
     "name": "stdout",
     "output_type": "stream",
     "text": [
      "Epoch: [21][4608/5005]\tTime  0.706 ( 0.710)\tData  0.000 ( 0.002)\tLoss 1.8290e+00 (1.8193e+00)\tAcc@1  61.72 ( 58.50)\tAcc@5  79.69 ( 80.32)\n",
      "Epoch: [21][4864/5005]\tTime  0.699 ( 0.710)\tData  0.000 ( 0.002)\tLoss 1.9435e+00 (1.8183e+00)\tAcc@1  57.81 ( 58.51)\tAcc@5  78.91 ( 80.34)\n",
      "Test: [  0/196]\tTime  2.261 ( 2.261)\tLoss 1.0368e+00 (1.0368e+00)\tAcc@1  73.44 ( 73.44)\tAcc@5  92.19 ( 92.19)\n",
      " * Acc@1 63.182 Acc@5 85.100\n",
      "lr: [0.1]\n",
      "Epoch: [22][   0/5005]\tTime  2.267 ( 2.267)\tData  1.965 ( 1.965)\tLoss 1.9527e+00 (1.9527e+00)\tAcc@1  54.69 ( 54.69)\tAcc@5  78.52 ( 78.52)\n",
      "Epoch: [22][ 256/5005]\tTime  0.702 ( 0.710)\tData  0.000 ( 0.010)\tLoss 1.8038e+00 (1.7638e+00)\tAcc@1  58.20 ( 59.63)\tAcc@5  81.64 ( 81.11)\n",
      "Epoch: [22][ 512/5005]\tTime  0.708 ( 0.714)\tData  0.000 ( 0.006)\tLoss 1.8531e+00 (1.7699e+00)\tAcc@1  58.59 ( 59.42)\tAcc@5  79.30 ( 81.10)\n",
      "Epoch: [22][ 768/5005]\tTime  0.709 ( 0.709)\tData  0.000 ( 0.005)\tLoss 1.8205e+00 (1.7718e+00)\tAcc@1  53.12 ( 59.36)\tAcc@5  79.30 ( 81.01)\n",
      "Epoch: [22][1024/5005]\tTime  0.698 ( 0.711)\tData  0.000 ( 0.004)\tLoss 1.7450e+00 (1.7730e+00)\tAcc@1  60.94 ( 59.37)\tAcc@5  80.86 ( 80.96)\n",
      "Epoch: [22][1280/5005]\tTime  0.728 ( 0.710)\tData  0.000 ( 0.004)\tLoss 1.8038e+00 (1.7723e+00)\tAcc@1  62.11 ( 59.41)\tAcc@5  81.25 ( 80.96)\n",
      "Epoch: [22][1536/5005]\tTime  0.698 ( 0.710)\tData  0.000 ( 0.003)\tLoss 1.8464e+00 (1.7721e+00)\tAcc@1  57.81 ( 59.40)\tAcc@5  79.69 ( 80.97)\n",
      "Epoch: [22][1792/5005]\tTime  0.708 ( 0.711)\tData  0.000 ( 0.003)\tLoss 1.7303e+00 (1.7725e+00)\tAcc@1  61.72 ( 59.39)\tAcc@5  82.03 ( 80.97)\n",
      "Epoch: [22][2048/5005]\tTime  0.691 ( 0.709)\tData  0.000 ( 0.003)\tLoss 1.7967e+00 (1.7729e+00)\tAcc@1  53.91 ( 59.38)\tAcc@5  80.08 ( 80.96)\n",
      "Epoch: [22][2304/5005]\tTime  0.691 ( 0.707)\tData  0.000 ( 0.003)\tLoss 1.9475e+00 (1.7715e+00)\tAcc@1  58.20 ( 59.40)\tAcc@5  79.30 ( 80.98)\n",
      "Epoch: [22][2560/5005]\tTime  0.744 ( 0.707)\tData  0.000 ( 0.003)\tLoss 1.7411e+00 (1.7710e+00)\tAcc@1  59.38 ( 59.39)\tAcc@5  81.25 ( 80.99)\n",
      "Epoch: [22][2816/5005]\tTime  0.705 ( 0.707)\tData  0.000 ( 0.003)\tLoss 1.8032e+00 (1.7714e+00)\tAcc@1  54.30 ( 59.36)\tAcc@5  78.52 ( 80.99)\n"
     ]
    },
    {
     "name": "stderr",
     "output_type": "stream",
     "text": [
      "/opt/conda/lib/python3.8/site-packages/PIL/TiffImagePlugin.py:788: UserWarning: Corrupt EXIF data.  Expecting to read 4 bytes but only got 0. \n",
      "  warnings.warn(str(msg))\n"
     ]
    },
    {
     "name": "stdout",
     "output_type": "stream",
     "text": [
      "Epoch: [22][3072/5005]\tTime  0.705 ( 0.708)\tData  0.000 ( 0.003)\tLoss 1.8621e+00 (1.7710e+00)\tAcc@1  58.98 ( 59.38)\tAcc@5  78.12 ( 81.00)\n",
      "Epoch: [22][3328/5005]\tTime  0.713 ( 0.707)\tData  0.000 ( 0.003)\tLoss 1.9334e+00 (1.7708e+00)\tAcc@1  55.86 ( 59.38)\tAcc@5  78.12 ( 81.01)\n",
      "Epoch: [22][3584/5005]\tTime  0.701 ( 0.708)\tData  0.000 ( 0.003)\tLoss 1.7530e+00 (1.7693e+00)\tAcc@1  60.55 ( 59.42)\tAcc@5  79.69 ( 81.03)\n",
      "Epoch: [22][3840/5005]\tTime  0.744 ( 0.708)\tData  0.000 ( 0.003)\tLoss 1.6738e+00 (1.7691e+00)\tAcc@1  61.72 ( 59.42)\tAcc@5  83.59 ( 81.04)\n",
      "Epoch: [22][4096/5005]\tTime  0.705 ( 0.708)\tData  0.000 ( 0.003)\tLoss 1.7289e+00 (1.7692e+00)\tAcc@1  59.38 ( 59.42)\tAcc@5  79.69 ( 81.04)\n",
      "Epoch: [22][4352/5005]\tTime  0.702 ( 0.709)\tData  0.000 ( 0.002)\tLoss 1.8231e+00 (1.7695e+00)\tAcc@1  58.98 ( 59.42)\tAcc@5  78.91 ( 81.04)\n",
      "Epoch: [22][4608/5005]\tTime  0.717 ( 0.709)\tData  0.000 ( 0.002)\tLoss 1.8310e+00 (1.7701e+00)\tAcc@1  59.38 ( 59.40)\tAcc@5  80.08 ( 81.03)\n",
      "Epoch: [22][4864/5005]\tTime  0.699 ( 0.709)\tData  0.000 ( 0.002)\tLoss 1.9001e+00 (1.7707e+00)\tAcc@1  57.42 ( 59.39)\tAcc@5  78.12 ( 81.02)\n",
      "Test: [  0/196]\tTime  2.315 ( 2.315)\tLoss 8.7897e-01 (8.7897e-01)\tAcc@1  76.17 ( 76.17)\tAcc@5  94.14 ( 94.14)\n",
      " * Acc@1 63.562 Acc@5 85.496\n",
      "lr: [0.1]\n",
      "Epoch: [23][   0/5005]\tTime  1.984 ( 1.984)\tData  1.695 ( 1.695)\tLoss 1.8054e+00 (1.8054e+00)\tAcc@1  58.20 ( 58.20)\tAcc@5  80.86 ( 80.86)\n",
      "Epoch: [23][ 256/5005]\tTime  0.706 ( 0.709)\tData  0.000 ( 0.009)\tLoss 1.7487e+00 (1.7358e+00)\tAcc@1  59.77 ( 60.42)\tAcc@5  80.47 ( 81.48)\n",
      "Epoch: [23][ 512/5005]\tTime  0.703 ( 0.716)\tData  0.000 ( 0.005)\tLoss 1.7125e+00 (1.7275e+00)\tAcc@1  58.98 ( 60.35)\tAcc@5  81.25 ( 81.61)\n",
      "Epoch: [23][ 768/5005]\tTime  0.727 ( 0.713)\tData  0.000 ( 0.004)\tLoss 1.6967e+00 (1.7321e+00)\tAcc@1  58.98 ( 60.21)\tAcc@5  80.86 ( 81.53)\n",
      "Epoch: [23][1024/5005]\tTime  0.698 ( 0.714)\tData  0.000 ( 0.004)\tLoss 1.6914e+00 (1.7357e+00)\tAcc@1  59.77 ( 60.07)\tAcc@5  81.64 ( 81.47)\n",
      "Epoch: [23][1280/5005]\tTime  0.730 ( 0.715)\tData  0.000 ( 0.003)\tLoss 1.6334e+00 (1.7365e+00)\tAcc@1  62.11 ( 60.03)\tAcc@5  83.59 ( 81.47)\n",
      "Epoch: [23][1536/5005]\tTime  0.712 ( 0.713)\tData  0.000 ( 0.003)\tLoss 1.6632e+00 (1.7379e+00)\tAcc@1  60.55 ( 60.00)\tAcc@5  82.03 ( 81.47)\n",
      "Epoch: [23][1792/5005]\tTime  0.696 ( 0.714)\tData  0.000 ( 0.003)\tLoss 1.6260e+00 (1.7395e+00)\tAcc@1  62.11 ( 59.99)\tAcc@5  83.98 ( 81.45)\n",
      "Epoch: [23][2048/5005]\tTime  0.691 ( 0.711)\tData  0.000 ( 0.003)\tLoss 1.6793e+00 (1.7393e+00)\tAcc@1  60.94 ( 59.99)\tAcc@5  83.20 ( 81.48)\n",
      "Epoch: [23][2304/5005]\tTime  0.694 ( 0.709)\tData  0.000 ( 0.003)\tLoss 1.8811e+00 (1.7397e+00)\tAcc@1  57.42 ( 59.98)\tAcc@5  78.91 ( 81.47)\n",
      "Epoch: [23][2560/5005]\tTime  0.721 ( 0.710)\tData  0.000 ( 0.003)\tLoss 1.6477e+00 (1.7408e+00)\tAcc@1  62.11 ( 59.99)\tAcc@5  82.81 ( 81.47)\n",
      "Epoch: [23][2816/5005]\tTime  0.702 ( 0.709)\tData  0.000 ( 0.003)\tLoss 1.8100e+00 (1.7410e+00)\tAcc@1  59.77 ( 59.98)\tAcc@5  80.86 ( 81.46)\n",
      "Epoch: [23][3072/5005]\tTime  0.696 ( 0.709)\tData  0.000 ( 0.003)\tLoss 2.0601e+00 (1.7409e+00)\tAcc@1  56.64 ( 60.00)\tAcc@5  78.12 ( 81.46)\n",
      "Epoch: [23][3328/5005]\tTime  0.727 ( 0.709)\tData  0.000 ( 0.003)\tLoss 1.5473e+00 (1.7407e+00)\tAcc@1  65.62 ( 60.01)\tAcc@5  84.38 ( 81.46)\n",
      "Epoch: [23][3584/5005]\tTime  0.698 ( 0.709)\tData  0.000 ( 0.003)\tLoss 1.5823e+00 (1.7419e+00)\tAcc@1  60.94 ( 59.99)\tAcc@5  83.98 ( 81.43)\n",
      "Epoch: [23][3840/5005]\tTime  0.717 ( 0.710)\tData  0.000 ( 0.002)\tLoss 1.8577e+00 (1.7421e+00)\tAcc@1  55.47 ( 59.98)\tAcc@5  80.47 ( 81.43)\n"
     ]
    },
    {
     "name": "stderr",
     "output_type": "stream",
     "text": [
      "/opt/conda/lib/python3.8/site-packages/PIL/TiffImagePlugin.py:788: UserWarning: Corrupt EXIF data.  Expecting to read 4 bytes but only got 0. \n",
      "  warnings.warn(str(msg))\n"
     ]
    },
    {
     "name": "stdout",
     "output_type": "stream",
     "text": [
      "Epoch: [23][4096/5005]\tTime  0.706 ( 0.709)\tData  0.000 ( 0.002)\tLoss 1.8082e+00 (1.7418e+00)\tAcc@1  60.55 ( 59.99)\tAcc@5  78.52 ( 81.43)\n",
      "Epoch: [23][4352/5005]\tTime  0.696 ( 0.710)\tData  0.000 ( 0.002)\tLoss 1.5706e+00 (1.7423e+00)\tAcc@1  63.67 ( 59.98)\tAcc@5  83.98 ( 81.42)\n",
      "Epoch: [23][4608/5005]\tTime  0.730 ( 0.709)\tData  0.000 ( 0.002)\tLoss 1.6809e+00 (1.7425e+00)\tAcc@1  59.77 ( 59.97)\tAcc@5  80.86 ( 81.42)\n",
      "Epoch: [23][4864/5005]\tTime  0.700 ( 0.709)\tData  0.000 ( 0.002)\tLoss 1.5763e+00 (1.7426e+00)\tAcc@1  63.28 ( 59.96)\tAcc@5  84.77 ( 81.41)\n",
      "Test: [  0/196]\tTime  2.248 ( 2.248)\tLoss 9.5893e-01 (9.5893e-01)\tAcc@1  73.83 ( 73.83)\tAcc@5  93.36 ( 93.36)\n",
      " * Acc@1 63.692 Acc@5 85.530\n",
      "lr: [0.1]\n",
      "Epoch: [24][   0/5005]\tTime  2.141 ( 2.141)\tData  1.852 ( 1.852)\tLoss 1.7474e+00 (1.7474e+00)\tAcc@1  60.16 ( 60.16)\tAcc@5  81.25 ( 81.25)\n",
      "Epoch: [24][ 256/5005]\tTime  0.707 ( 0.705)\tData  0.000 ( 0.009)\tLoss 1.5182e+00 (1.7044e+00)\tAcc@1  64.06 ( 60.81)\tAcc@5  84.77 ( 81.97)\n",
      "Epoch: [24][ 512/5005]\tTime  0.698 ( 0.712)\tData  0.000 ( 0.006)\tLoss 1.8163e+00 (1.7113e+00)\tAcc@1  57.03 ( 60.49)\tAcc@5  81.25 ( 81.90)\n",
      "Epoch: [24][ 768/5005]\tTime  0.737 ( 0.710)\tData  0.000 ( 0.004)\tLoss 1.6259e+00 (1.7153e+00)\tAcc@1  59.77 ( 60.43)\tAcc@5  81.64 ( 81.80)\n",
      "Epoch: [24][1024/5005]\tTime  0.707 ( 0.710)\tData  0.000 ( 0.004)\tLoss 1.6265e+00 (1.7136e+00)\tAcc@1  62.50 ( 60.49)\tAcc@5  84.77 ( 81.86)\n",
      "Epoch: [24][1280/5005]\tTime  0.710 ( 0.712)\tData  0.000 ( 0.003)\tLoss 1.8354e+00 (1.7144e+00)\tAcc@1  61.72 ( 60.48)\tAcc@5  79.69 ( 81.85)\n",
      "Epoch: [24][1536/5005]\tTime  0.713 ( 0.711)\tData  0.000 ( 0.003)\tLoss 1.7906e+00 (1.7164e+00)\tAcc@1  57.81 ( 60.41)\tAcc@5  80.08 ( 81.82)\n",
      "Epoch: [24][1792/5005]\tTime  0.695 ( 0.712)\tData  0.000 ( 0.003)\tLoss 1.7048e+00 (1.7185e+00)\tAcc@1  62.89 ( 60.36)\tAcc@5  81.25 ( 81.77)\n",
      "Epoch: [24][2048/5005]\tTime  0.692 ( 0.709)\tData  0.000 ( 0.003)\tLoss 1.8426e+00 (1.7199e+00)\tAcc@1  57.81 ( 60.34)\tAcc@5  76.56 ( 81.74)\n"
     ]
    },
    {
     "name": "stderr",
     "output_type": "stream",
     "text": [
      "/opt/conda/lib/python3.8/site-packages/PIL/TiffImagePlugin.py:788: UserWarning: Corrupt EXIF data.  Expecting to read 4 bytes but only got 0. \n",
      "  warnings.warn(str(msg))\n"
     ]
    },
    {
     "name": "stdout",
     "output_type": "stream",
     "text": [
      "Epoch: [24][2304/5005]\tTime  0.704 ( 0.707)\tData  0.000 ( 0.003)\tLoss 1.8338e+00 (1.7206e+00)\tAcc@1  56.25 ( 60.33)\tAcc@5  81.25 ( 81.72)\n",
      "Epoch: [24][2560/5005]\tTime  0.699 ( 0.709)\tData  0.000 ( 0.003)\tLoss 1.7846e+00 (1.7213e+00)\tAcc@1  62.89 ( 60.32)\tAcc@5  81.25 ( 81.71)\n",
      "Epoch: [24][2816/5005]\tTime  0.715 ( 0.708)\tData  0.000 ( 0.003)\tLoss 2.0962e+00 (1.7214e+00)\tAcc@1  55.08 ( 60.32)\tAcc@5  74.61 ( 81.70)\n",
      "Epoch: [24][3072/5005]\tTime  0.703 ( 0.709)\tData  0.000 ( 0.003)\tLoss 1.7459e+00 (1.7223e+00)\tAcc@1  60.94 ( 60.31)\tAcc@5  82.42 ( 81.70)\n",
      "Epoch: [24][3328/5005]\tTime  0.750 ( 0.710)\tData  0.000 ( 0.003)\tLoss 1.7644e+00 (1.7230e+00)\tAcc@1  61.72 ( 60.32)\tAcc@5  82.42 ( 81.68)\n",
      "Epoch: [24][3584/5005]\tTime  0.710 ( 0.710)\tData  0.000 ( 0.003)\tLoss 1.6846e+00 (1.7226e+00)\tAcc@1  64.06 ( 60.32)\tAcc@5  80.47 ( 81.70)\n",
      "Epoch: [24][3840/5005]\tTime  0.695 ( 0.711)\tData  0.000 ( 0.003)\tLoss 1.5894e+00 (1.7224e+00)\tAcc@1  62.11 ( 60.32)\tAcc@5  82.81 ( 81.70)\n",
      "Epoch: [24][4096/5005]\tTime  0.722 ( 0.710)\tData  0.000 ( 0.002)\tLoss 1.6362e+00 (1.7228e+00)\tAcc@1  60.94 ( 60.32)\tAcc@5  83.20 ( 81.71)\n",
      "Epoch: [24][4352/5005]\tTime  0.697 ( 0.711)\tData  0.000 ( 0.002)\tLoss 1.5810e+00 (1.7223e+00)\tAcc@1  63.67 ( 60.33)\tAcc@5  83.98 ( 81.72)\n",
      "Epoch: [24][4608/5005]\tTime  0.747 ( 0.711)\tData  0.000 ( 0.002)\tLoss 1.8939e+00 (1.7232e+00)\tAcc@1  56.64 ( 60.32)\tAcc@5  80.08 ( 81.70)\n",
      "Epoch: [24][4864/5005]\tTime  0.708 ( 0.711)\tData  0.000 ( 0.002)\tLoss 1.7280e+00 (1.7240e+00)\tAcc@1  58.59 ( 60.31)\tAcc@5  81.64 ( 81.70)\n",
      "Test: [  0/196]\tTime  2.212 ( 2.212)\tLoss 8.5161e-01 (8.5161e-01)\tAcc@1  78.52 ( 78.52)\tAcc@5  94.53 ( 94.53)\n",
      " * Acc@1 64.142 Acc@5 85.884\n",
      "lr: [0.1]\n",
      "Epoch: [25][   0/5005]\tTime  2.096 ( 2.096)\tData  1.760 ( 1.760)\tLoss 1.5557e+00 (1.5557e+00)\tAcc@1  60.94 ( 60.94)\tAcc@5  84.77 ( 84.77)\n",
      "Epoch: [25][ 256/5005]\tTime  0.727 ( 0.708)\tData  0.000 ( 0.009)\tLoss 1.6378e+00 (1.7093e+00)\tAcc@1  64.45 ( 60.48)\tAcc@5  82.81 ( 81.92)\n",
      "Epoch: [25][ 512/5005]\tTime  0.699 ( 0.710)\tData  0.000 ( 0.005)\tLoss 1.7695e+00 (1.6961e+00)\tAcc@1  60.94 ( 60.82)\tAcc@5  82.81 ( 82.13)\n",
      "Epoch: [25][ 768/5005]\tTime  0.728 ( 0.712)\tData  0.000 ( 0.004)\tLoss 1.8062e+00 (1.6934e+00)\tAcc@1  61.33 ( 60.84)\tAcc@5  79.30 ( 82.16)\n",
      "Epoch: [25][1024/5005]\tTime  0.706 ( 0.710)\tData  0.000 ( 0.004)\tLoss 1.7357e+00 (1.6953e+00)\tAcc@1  60.55 ( 60.88)\tAcc@5  81.64 ( 82.14)\n",
      "Epoch: [25][1280/5005]\tTime  0.700 ( 0.711)\tData  0.000 ( 0.003)\tLoss 1.4816e+00 (1.6960e+00)\tAcc@1  63.28 ( 60.82)\tAcc@5  88.67 ( 82.14)\n",
      "Epoch: [25][1536/5005]\tTime  0.729 ( 0.710)\tData  0.000 ( 0.003)\tLoss 1.7033e+00 (1.6961e+00)\tAcc@1  59.38 ( 60.81)\tAcc@5  81.64 ( 82.15)\n",
      "Epoch: [25][1792/5005]\tTime  0.693 ( 0.710)\tData  0.000 ( 0.003)\tLoss 1.8596e+00 (1.6966e+00)\tAcc@1  58.20 ( 60.80)\tAcc@5  77.73 ( 82.13)\n",
      "Epoch: [25][2048/5005]\tTime  0.690 ( 0.707)\tData  0.000 ( 0.003)\tLoss 1.7996e+00 (1.6996e+00)\tAcc@1  56.64 ( 60.75)\tAcc@5  78.91 ( 82.07)\n",
      "Epoch: [25][2304/5005]\tTime  0.705 ( 0.706)\tData  0.000 ( 0.003)\tLoss 1.7505e+00 (1.7009e+00)\tAcc@1  58.20 ( 60.74)\tAcc@5  83.98 ( 82.05)\n",
      "Epoch: [25][2560/5005]\tTime  0.696 ( 0.707)\tData  0.000 ( 0.003)\tLoss 1.6315e+00 (1.7039e+00)\tAcc@1  60.94 ( 60.70)\tAcc@5  81.25 ( 82.00)\n",
      "Epoch: [25][2816/5005]\tTime  0.721 ( 0.707)\tData  0.000 ( 0.003)\tLoss 1.7763e+00 (1.7052e+00)\tAcc@1  59.38 ( 60.66)\tAcc@5  80.08 ( 81.97)\n",
      "Epoch: [25][3072/5005]\tTime  0.699 ( 0.707)\tData  0.000 ( 0.003)\tLoss 1.7102e+00 (1.7055e+00)\tAcc@1  60.94 ( 60.66)\tAcc@5  82.81 ( 81.97)\n",
      "Epoch: [25][3328/5005]\tTime  0.711 ( 0.708)\tData  0.000 ( 0.003)\tLoss 1.5569e+00 (1.7067e+00)\tAcc@1  63.67 ( 60.63)\tAcc@5  83.59 ( 81.96)\n",
      "Epoch: [25][3584/5005]\tTime  0.709 ( 0.708)\tData  0.000 ( 0.003)\tLoss 1.7638e+00 (1.7083e+00)\tAcc@1  60.16 ( 60.61)\tAcc@5  83.98 ( 81.93)\n"
     ]
    },
    {
     "name": "stderr",
     "output_type": "stream",
     "text": [
      "/opt/conda/lib/python3.8/site-packages/PIL/TiffImagePlugin.py:788: UserWarning: Corrupt EXIF data.  Expecting to read 4 bytes but only got 0. \n",
      "  warnings.warn(str(msg))\n"
     ]
    },
    {
     "name": "stdout",
     "output_type": "stream",
     "text": [
      "Epoch: [25][3840/5005]\tTime  0.694 ( 0.708)\tData  0.000 ( 0.003)\tLoss 1.6290e+00 (1.7097e+00)\tAcc@1  59.38 ( 60.59)\tAcc@5  84.38 ( 81.90)\n",
      "Epoch: [25][4096/5005]\tTime  0.729 ( 0.708)\tData  0.000 ( 0.002)\tLoss 1.8386e+00 (1.7102e+00)\tAcc@1  56.25 ( 60.58)\tAcc@5  80.47 ( 81.89)\n",
      "Epoch: [25][4352/5005]\tTime  0.760 ( 0.711)\tData  0.000 ( 0.002)\tLoss 1.7179e+00 (1.7106e+00)\tAcc@1  59.77 ( 60.57)\tAcc@5  82.42 ( 81.88)\n",
      "Epoch: [25][4608/5005]\tTime  0.703 ( 0.714)\tData  0.000 ( 0.002)\tLoss 1.9030e+00 (1.7101e+00)\tAcc@1  57.03 ( 60.57)\tAcc@5  79.69 ( 81.89)\n",
      "Epoch: [25][4864/5005]\tTime  0.724 ( 0.713)\tData  0.000 ( 0.002)\tLoss 1.8467e+00 (1.7105e+00)\tAcc@1  58.20 ( 60.55)\tAcc@5  78.52 ( 81.88)\n",
      "Test: [  0/196]\tTime  2.324 ( 2.324)\tLoss 8.7884e-01 (8.7884e-01)\tAcc@1  75.39 ( 75.39)\tAcc@5  93.75 ( 93.75)\n",
      " * Acc@1 64.148 Acc@5 85.936\n",
      "lr: [0.1]\n",
      "Epoch: [26][   0/5005]\tTime  2.088 ( 2.088)\tData  1.774 ( 1.774)\tLoss 1.6103e+00 (1.6103e+00)\tAcc@1  62.11 ( 62.11)\tAcc@5  85.16 ( 85.16)\n",
      "Epoch: [26][ 256/5005]\tTime  0.750 ( 0.718)\tData  0.000 ( 0.009)\tLoss 1.7853e+00 (1.6685e+00)\tAcc@1  62.50 ( 61.57)\tAcc@5  79.69 ( 82.43)\n",
      "Epoch: [26][ 512/5005]\tTime  0.706 ( 0.711)\tData  0.000 ( 0.006)\tLoss 1.5146e+00 (1.6724e+00)\tAcc@1  61.33 ( 61.37)\tAcc@5  86.33 ( 82.34)\n",
      "Epoch: [26][ 768/5005]\tTime  0.705 ( 0.714)\tData  0.000 ( 0.004)\tLoss 1.7776e+00 (1.6804e+00)\tAcc@1  60.16 ( 61.18)\tAcc@5  80.08 ( 82.26)\n",
      "Epoch: [26][1024/5005]\tTime  0.725 ( 0.712)\tData  0.000 ( 0.004)\tLoss 1.5611e+00 (1.6835e+00)\tAcc@1  62.89 ( 61.14)\tAcc@5  85.94 ( 82.25)\n",
      "Epoch: [26][1280/5005]\tTime  0.702 ( 0.712)\tData  0.000 ( 0.003)\tLoss 1.5072e+00 (1.6862e+00)\tAcc@1  64.84 ( 61.02)\tAcc@5  84.77 ( 82.21)\n",
      "Epoch: [26][1536/5005]\tTime  0.732 ( 0.714)\tData  0.000 ( 0.003)\tLoss 1.8055e+00 (1.6878e+00)\tAcc@1  57.81 ( 60.97)\tAcc@5  80.47 ( 82.18)\n",
      "Epoch: [26][1792/5005]\tTime  0.687 ( 0.711)\tData  0.000 ( 0.003)\tLoss 1.6710e+00 (1.6902e+00)\tAcc@1  60.16 ( 60.92)\tAcc@5  82.03 ( 82.13)\n",
      "Epoch: [26][2048/5005]\tTime  0.688 ( 0.709)\tData  0.000 ( 0.003)\tLoss 1.9707e+00 (1.6916e+00)\tAcc@1  55.08 ( 60.92)\tAcc@5  80.08 ( 82.11)\n",
      "Epoch: [26][2304/5005]\tTime  0.722 ( 0.708)\tData  0.000 ( 0.003)\tLoss 1.8020e+00 (1.6925e+00)\tAcc@1  60.16 ( 60.92)\tAcc@5  79.30 ( 82.10)\n",
      "Epoch: [26][2560/5005]\tTime  0.702 ( 0.709)\tData  0.000 ( 0.003)\tLoss 1.5224e+00 (1.6934e+00)\tAcc@1  64.45 ( 60.90)\tAcc@5  85.94 ( 82.09)\n",
      "Epoch: [26][2816/5005]\tTime  0.725 ( 0.710)\tData  0.000 ( 0.003)\tLoss 1.8369e+00 (1.6945e+00)\tAcc@1  59.38 ( 60.88)\tAcc@5  79.30 ( 82.08)\n",
      "Epoch: [26][3072/5005]\tTime  0.713 ( 0.710)\tData  0.000 ( 0.003)\tLoss 1.9069e+00 (1.6963e+00)\tAcc@1  60.55 ( 60.84)\tAcc@5  80.86 ( 82.05)\n",
      "Epoch: [26][3328/5005]\tTime  0.694 ( 0.710)\tData  0.000 ( 0.003)\tLoss 1.6522e+00 (1.6979e+00)\tAcc@1  61.33 ( 60.81)\tAcc@5  82.03 ( 82.03)\n"
     ]
    },
    {
     "name": "stderr",
     "output_type": "stream",
     "text": [
      "/opt/conda/lib/python3.8/site-packages/PIL/TiffImagePlugin.py:788: UserWarning: Corrupt EXIF data.  Expecting to read 4 bytes but only got 0. \n",
      "  warnings.warn(str(msg))\n"
     ]
    },
    {
     "name": "stdout",
     "output_type": "stream",
     "text": [
      "Epoch: [26][3584/5005]\tTime  0.730 ( 0.710)\tData  0.000 ( 0.003)\tLoss 1.5545e+00 (1.6993e+00)\tAcc@1  66.02 ( 60.78)\tAcc@5  83.20 ( 82.02)\n",
      "Epoch: [26][3840/5005]\tTime  0.703 ( 0.710)\tData  0.000 ( 0.003)\tLoss 1.7403e+00 (1.7003e+00)\tAcc@1  63.67 ( 60.76)\tAcc@5  80.08 ( 82.01)\n",
      "Epoch: [26][4096/5005]\tTime  0.713 ( 0.710)\tData  0.000 ( 0.002)\tLoss 1.6184e+00 (1.7013e+00)\tAcc@1  65.62 ( 60.74)\tAcc@5  82.81 ( 82.00)\n",
      "Epoch: [26][4352/5005]\tTime  0.709 ( 0.710)\tData  0.000 ( 0.002)\tLoss 1.7780e+00 (1.7017e+00)\tAcc@1  57.42 ( 60.72)\tAcc@5  81.25 ( 81.99)\n",
      "Epoch: [26][4608/5005]\tTime  0.699 ( 0.710)\tData  0.000 ( 0.002)\tLoss 1.6772e+00 (1.7022e+00)\tAcc@1  58.98 ( 60.72)\tAcc@5  84.77 ( 81.98)\n",
      "Epoch: [26][4864/5005]\tTime  0.729 ( 0.710)\tData  0.000 ( 0.002)\tLoss 1.8091e+00 (1.7025e+00)\tAcc@1  59.38 ( 60.71)\tAcc@5  78.91 ( 81.98)\n",
      "Test: [  0/196]\tTime  2.181 ( 2.181)\tLoss 9.3323e-01 (9.3323e-01)\tAcc@1  75.39 ( 75.39)\tAcc@5  94.14 ( 94.14)\n",
      " * Acc@1 64.206 Acc@5 85.776\n",
      "lr: [0.1]\n",
      "Epoch: [27][   0/5005]\tTime  2.134 ( 2.134)\tData  1.850 ( 1.850)\tLoss 1.6463e+00 (1.6463e+00)\tAcc@1  64.06 ( 64.06)\tAcc@5  83.20 ( 83.20)\n",
      "Epoch: [27][ 256/5005]\tTime  0.704 ( 0.718)\tData  0.000 ( 0.009)\tLoss 1.7291e+00 (1.6728e+00)\tAcc@1  60.16 ( 61.42)\tAcc@5  81.25 ( 82.51)\n",
      "Epoch: [27][ 512/5005]\tTime  0.713 ( 0.709)\tData  0.000 ( 0.006)\tLoss 1.5046e+00 (1.6721e+00)\tAcc@1  67.58 ( 61.35)\tAcc@5  84.77 ( 82.49)\n",
      "Epoch: [27][ 768/5005]\tTime  0.697 ( 0.712)\tData  0.000 ( 0.004)\tLoss 1.6109e+00 (1.6723e+00)\tAcc@1  62.50 ( 61.40)\tAcc@5  82.81 ( 82.45)\n",
      "Epoch: [27][1024/5005]\tTime  0.740 ( 0.711)\tData  0.000 ( 0.004)\tLoss 1.6561e+00 (1.6758e+00)\tAcc@1  64.84 ( 61.29)\tAcc@5  80.86 ( 82.36)\n",
      "Epoch: [27][1280/5005]\tTime  0.704 ( 0.710)\tData  0.000 ( 0.003)\tLoss 1.5056e+00 (1.6791e+00)\tAcc@1  65.23 ( 61.25)\tAcc@5  83.59 ( 82.31)\n"
     ]
    },
    {
     "name": "stderr",
     "output_type": "stream",
     "text": [
      "/opt/conda/lib/python3.8/site-packages/PIL/TiffImagePlugin.py:788: UserWarning: Corrupt EXIF data.  Expecting to read 4 bytes but only got 0. \n",
      "  warnings.warn(str(msg))\n"
     ]
    },
    {
     "name": "stdout",
     "output_type": "stream",
     "text": [
      "Epoch: [27][1536/5005]\tTime  0.701 ( 0.712)\tData  0.000 ( 0.003)\tLoss 1.5918e+00 (1.6805e+00)\tAcc@1  63.28 ( 61.19)\tAcc@5  82.81 ( 82.30)\n",
      "Epoch: [27][1792/5005]\tTime  0.686 ( 0.709)\tData  0.000 ( 0.003)\tLoss 1.8490e+00 (1.6838e+00)\tAcc@1  57.42 ( 61.12)\tAcc@5  80.47 ( 82.24)\n",
      "Epoch: [27][2048/5005]\tTime  0.693 ( 0.706)\tData  0.000 ( 0.003)\tLoss 1.6146e+00 (1.6833e+00)\tAcc@1  64.84 ( 61.14)\tAcc@5  81.25 ( 82.24)\n",
      "Epoch: [27][2304/5005]\tTime  0.736 ( 0.707)\tData  0.000 ( 0.003)\tLoss 1.7136e+00 (1.6852e+00)\tAcc@1  57.81 ( 61.08)\tAcc@5  82.81 ( 82.22)\n",
      "Epoch: [27][2560/5005]\tTime  0.699 ( 0.707)\tData  0.000 ( 0.003)\tLoss 1.7574e+00 (1.6865e+00)\tAcc@1  60.16 ( 61.05)\tAcc@5  82.03 ( 82.23)\n",
      "Epoch: [27][2816/5005]\tTime  0.700 ( 0.708)\tData  0.000 ( 0.003)\tLoss 1.6491e+00 (1.6871e+00)\tAcc@1  59.38 ( 61.03)\tAcc@5  80.47 ( 82.21)\n",
      "Epoch: [27][3072/5005]\tTime  0.710 ( 0.707)\tData  0.000 ( 0.003)\tLoss 1.5841e+00 (1.6876e+00)\tAcc@1  61.33 ( 61.02)\tAcc@5  82.81 ( 82.22)\n",
      "Epoch: [27][3328/5005]\tTime  0.700 ( 0.708)\tData  0.000 ( 0.003)\tLoss 1.7882e+00 (1.6895e+00)\tAcc@1  58.20 ( 60.97)\tAcc@5  78.52 ( 82.18)\n",
      "Epoch: [27][3584/5005]\tTime  0.751 ( 0.708)\tData  0.000 ( 0.003)\tLoss 1.8806e+00 (1.6902e+00)\tAcc@1  59.77 ( 60.96)\tAcc@5  80.86 ( 82.16)\n",
      "Epoch: [27][3840/5005]\tTime  0.705 ( 0.708)\tData  0.000 ( 0.003)\tLoss 2.0816e+00 (1.6921e+00)\tAcc@1  55.47 ( 60.93)\tAcc@5  74.61 ( 82.13)\n",
      "Epoch: [27][4096/5005]\tTime  0.700 ( 0.709)\tData  0.000 ( 0.002)\tLoss 1.8063e+00 (1.6933e+00)\tAcc@1  57.81 ( 60.90)\tAcc@5  80.86 ( 82.12)\n",
      "Epoch: [27][4352/5005]\tTime  0.715 ( 0.709)\tData  0.000 ( 0.002)\tLoss 1.7012e+00 (1.6952e+00)\tAcc@1  57.42 ( 60.87)\tAcc@5  82.81 ( 82.08)\n",
      "Epoch: [27][4608/5005]\tTime  0.699 ( 0.709)\tData  0.000 ( 0.002)\tLoss 1.7571e+00 (1.6956e+00)\tAcc@1  56.64 ( 60.85)\tAcc@5  80.47 ( 82.08)\n",
      "Epoch: [27][4864/5005]\tTime  0.754 ( 0.710)\tData  0.000 ( 0.002)\tLoss 1.7442e+00 (1.6961e+00)\tAcc@1  58.98 ( 60.83)\tAcc@5  81.64 ( 82.07)\n",
      "Test: [  0/196]\tTime  2.270 ( 2.270)\tLoss 9.1200e-01 (9.1200e-01)\tAcc@1  76.95 ( 76.95)\tAcc@5  92.97 ( 92.97)\n",
      " * Acc@1 64.040 Acc@5 85.770\n",
      "lr: [0.1]\n",
      "Epoch: [28][   0/5005]\tTime  2.150 ( 2.150)\tData  1.858 ( 1.858)\tLoss 1.7924e+00 (1.7924e+00)\tAcc@1  61.33 ( 61.33)\tAcc@5  78.52 ( 78.52)\n",
      "Epoch: [28][ 256/5005]\tTime  0.700 ( 0.724)\tData  0.000 ( 0.009)\tLoss 1.8314e+00 (1.6636e+00)\tAcc@1  57.42 ( 61.57)\tAcc@5  79.69 ( 82.56)\n",
      "Epoch: [28][ 512/5005]\tTime  0.730 ( 0.715)\tData  0.000 ( 0.006)\tLoss 1.5404e+00 (1.6706e+00)\tAcc@1  62.11 ( 61.35)\tAcc@5  85.16 ( 82.41)\n",
      "Epoch: [28][ 768/5005]\tTime  0.696 ( 0.716)\tData  0.000 ( 0.004)\tLoss 1.5774e+00 (1.6708e+00)\tAcc@1  62.50 ( 61.35)\tAcc@5  83.59 ( 82.41)\n",
      "Epoch: [28][1024/5005]\tTime  0.715 ( 0.717)\tData  0.000 ( 0.004)\tLoss 1.5609e+00 (1.6749e+00)\tAcc@1  62.50 ( 61.28)\tAcc@5  83.59 ( 82.40)\n",
      "Epoch: [28][1280/5005]\tTime  0.708 ( 0.714)\tData  0.000 ( 0.003)\tLoss 1.4925e+00 (1.6756e+00)\tAcc@1  67.58 ( 61.29)\tAcc@5  84.77 ( 82.40)\n",
      "Epoch: [28][1536/5005]\tTime  0.692 ( 0.715)\tData  0.000 ( 0.003)\tLoss 1.7308e+00 (1.6768e+00)\tAcc@1  61.33 ( 61.28)\tAcc@5  81.25 ( 82.40)\n",
      "Epoch: [28][1792/5005]\tTime  0.696 ( 0.711)\tData  0.000 ( 0.003)\tLoss 1.5977e+00 (1.6783e+00)\tAcc@1  60.94 ( 61.25)\tAcc@5  85.16 ( 82.38)\n",
      "Epoch: [28][2048/5005]\tTime  0.698 ( 0.709)\tData  0.000 ( 0.003)\tLoss 1.7740e+00 (1.6785e+00)\tAcc@1  60.55 ( 61.23)\tAcc@5  81.25 ( 82.39)\n",
      "Epoch: [28][2304/5005]\tTime  0.715 ( 0.710)\tData  0.000 ( 0.003)\tLoss 1.7369e+00 (1.6801e+00)\tAcc@1  63.67 ( 61.20)\tAcc@5  81.25 ( 82.36)\n"
     ]
    },
    {
     "name": "stderr",
     "output_type": "stream",
     "text": [
      "Traceback (most recent call last):\n",
      "Traceback (most recent call last):\n",
      "  File \"/opt/conda/lib/python3.8/multiprocessing/queues.py\", line 245, in _feed\n",
      "    send_bytes(obj)\n",
      "  File \"/opt/conda/lib/python3.8/multiprocessing/connection.py\", line 200, in send_bytes\n",
      "    self._send_bytes(m[offset:offset + size])\n",
      "  File \"/opt/conda/lib/python3.8/multiprocessing/connection.py\", line 411, in _send_bytes\n",
      "    self._send(header + buf)\n",
      "  File \"/opt/conda/lib/python3.8/multiprocessing/connection.py\", line 368, in _send\n",
      "    n = write(self._handle, buf)\n",
      "BrokenPipeError: [Errno 32] Broken pipe\n",
      "  File \"/opt/conda/lib/python3.8/multiprocessing/queues.py\", line 245, in _feed\n",
      "    send_bytes(obj)\n",
      "  File \"/opt/conda/lib/python3.8/multiprocessing/connection.py\", line 200, in send_bytes\n",
      "    self._send_bytes(m[offset:offset + size])\n",
      "  File \"/opt/conda/lib/python3.8/multiprocessing/connection.py\", line 411, in _send_bytes\n",
      "    self._send(header + buf)\n",
      "  File \"/opt/conda/lib/python3.8/multiprocessing/connection.py\", line 368, in _send\n",
      "    n = write(self._handle, buf)\n",
      "BrokenPipeError: [Errno 32] Broken pipe\n"
     ]
    },
    {
     "ename": "KeyboardInterrupt",
     "evalue": "",
     "output_type": "error",
     "traceback": [
      "\u001b[0;31m---------------------------------------------------------------------------\u001b[0m",
      "\u001b[0;31mKeyboardInterrupt\u001b[0m                         Traceback (most recent call last)",
      "\u001b[0;32m<ipython-input-32-3c693f464b7c>\u001b[0m in \u001b[0;36m<module>\u001b[0;34m\u001b[0m\n\u001b[1;32m      4\u001b[0m \u001b[0;34m\u001b[0m\u001b[0m\n\u001b[1;32m      5\u001b[0m     \u001b[0;31m# train for one epoch\u001b[0m\u001b[0;34m\u001b[0m\u001b[0;34m\u001b[0m\u001b[0;34m\u001b[0m\u001b[0m\n\u001b[0;32m----> 6\u001b[0;31m     \u001b[0mtrain\u001b[0m\u001b[0;34m(\u001b[0m\u001b[0mtrain_loader\u001b[0m\u001b[0;34m,\u001b[0m \u001b[0mmodel\u001b[0m\u001b[0;34m,\u001b[0m \u001b[0mcriterion\u001b[0m\u001b[0;34m,\u001b[0m \u001b[0moptimizer\u001b[0m\u001b[0;34m,\u001b[0m \u001b[0mepoch\u001b[0m\u001b[0;34m)\u001b[0m\u001b[0;34m\u001b[0m\u001b[0;34m\u001b[0m\u001b[0m\n\u001b[0m\u001b[1;32m      7\u001b[0m \u001b[0;34m\u001b[0m\u001b[0m\n\u001b[1;32m      8\u001b[0m     \u001b[0;31m# evaluate on validation set\u001b[0m\u001b[0;34m\u001b[0m\u001b[0;34m\u001b[0m\u001b[0;34m\u001b[0m\u001b[0m\n",
      "\u001b[0;32m<ipython-input-10-3ee77f6ef348>\u001b[0m in \u001b[0;36mtrain\u001b[0;34m(train_loader, model, criterion, optimizer, epoch)\u001b[0m\n\u001b[1;32m     45\u001b[0m         \u001b[0macc1\u001b[0m\u001b[0;34m,\u001b[0m \u001b[0macc5\u001b[0m \u001b[0;34m=\u001b[0m \u001b[0maccuracy\u001b[0m\u001b[0;34m(\u001b[0m\u001b[0moutput\u001b[0m\u001b[0;34m,\u001b[0m \u001b[0mtarget\u001b[0m\u001b[0;34m,\u001b[0m \u001b[0mtopk\u001b[0m\u001b[0;34m=\u001b[0m\u001b[0;34m(\u001b[0m\u001b[0;36m1\u001b[0m\u001b[0;34m,\u001b[0m \u001b[0;36m5\u001b[0m\u001b[0;34m)\u001b[0m\u001b[0;34m)\u001b[0m\u001b[0;34m\u001b[0m\u001b[0;34m\u001b[0m\u001b[0m\n\u001b[1;32m     46\u001b[0m         \u001b[0;31m#Use AverageMeter().update to update the averages\u001b[0m\u001b[0;34m\u001b[0m\u001b[0;34m\u001b[0m\u001b[0;34m\u001b[0m\u001b[0m\n\u001b[0;32m---> 47\u001b[0;31m         \u001b[0mlosses\u001b[0m\u001b[0;34m.\u001b[0m\u001b[0mupdate\u001b[0m\u001b[0;34m(\u001b[0m\u001b[0mloss\u001b[0m\u001b[0;34m.\u001b[0m\u001b[0mitem\u001b[0m\u001b[0;34m(\u001b[0m\u001b[0;34m)\u001b[0m\u001b[0;34m,\u001b[0m \u001b[0mimages\u001b[0m\u001b[0;34m.\u001b[0m\u001b[0msize\u001b[0m\u001b[0;34m(\u001b[0m\u001b[0;36m0\u001b[0m\u001b[0;34m)\u001b[0m\u001b[0;34m)\u001b[0m\u001b[0;34m\u001b[0m\u001b[0;34m\u001b[0m\u001b[0m\n\u001b[0m\u001b[1;32m     48\u001b[0m         \u001b[0mtop1\u001b[0m\u001b[0;34m.\u001b[0m\u001b[0mupdate\u001b[0m\u001b[0;34m(\u001b[0m\u001b[0macc1\u001b[0m\u001b[0;34m[\u001b[0m\u001b[0;36m0\u001b[0m\u001b[0;34m]\u001b[0m\u001b[0;34m,\u001b[0m \u001b[0mimages\u001b[0m\u001b[0;34m.\u001b[0m\u001b[0msize\u001b[0m\u001b[0;34m(\u001b[0m\u001b[0;36m0\u001b[0m\u001b[0;34m)\u001b[0m\u001b[0;34m)\u001b[0m\u001b[0;34m\u001b[0m\u001b[0;34m\u001b[0m\u001b[0m\n\u001b[1;32m     49\u001b[0m         \u001b[0mtop5\u001b[0m\u001b[0;34m.\u001b[0m\u001b[0mupdate\u001b[0m\u001b[0;34m(\u001b[0m\u001b[0macc5\u001b[0m\u001b[0;34m[\u001b[0m\u001b[0;36m0\u001b[0m\u001b[0;34m]\u001b[0m\u001b[0;34m,\u001b[0m \u001b[0mimages\u001b[0m\u001b[0;34m.\u001b[0m\u001b[0msize\u001b[0m\u001b[0;34m(\u001b[0m\u001b[0;36m0\u001b[0m\u001b[0;34m)\u001b[0m\u001b[0;34m)\u001b[0m\u001b[0;34m\u001b[0m\u001b[0;34m\u001b[0m\u001b[0m\n",
      "\u001b[0;31mKeyboardInterrupt\u001b[0m: "
     ]
    }
   ],
   "source": [
    "for epoch in range(START_EPOCH, EPOCHS):\n",
    "    #See here for more: https://stackoverflow.com/questions/48324152/pytorch-how-to-change-the-learning-rate-of-an-optimizer-at-any-given-moment-no\n",
    "    adjust_learning_rate(optimizer, epoch)\n",
    "    \n",
    "    # train for one epoch\n",
    "    train(train_loader, model, criterion, optimizer, epoch)\n",
    "\n",
    "    # evaluate on validation set\n",
    "    acc1 = validate(val_loader, model, criterion)\n",
    "\n",
    "    # remember best acc@1 and save checkpoint\n",
    "    is_best = acc1 > best_acc1\n",
    "    best_acc1 = max(acc1, best_acc1)\n",
    "\n",
    "\n",
    "    save_checkpoint({\n",
    "        'epoch': epoch + 1,\n",
    "        'arch': ARCH,\n",
    "        'state_dict': model.state_dict(),\n",
    "        'best_acc1': best_acc1,\n",
    "        'optimizer' : optimizer.state_dict(),\n",
    "    }, is_best)\n",
    "    \n",
    "    #Adjusting by switching to manual scheduler (adjust_learning_rate)\n",
    "    #scheduler.step()\n",
    "    print('lr: ' + str(scheduler.get_last_lr()))"
   ]
  }
 ],
 "metadata": {
  "kernelspec": {
   "display_name": "Python 3",
   "language": "python",
   "name": "python3"
  },
  "language_info": {
   "codemirror_mode": {
    "name": "ipython",
    "version": 3
   },
   "file_extension": ".py",
   "mimetype": "text/x-python",
   "name": "python",
   "nbconvert_exporter": "python",
   "pygments_lexer": "ipython3",
   "version": "3.8.8"
  }
 },
 "nbformat": 4,
 "nbformat_minor": 5
}
